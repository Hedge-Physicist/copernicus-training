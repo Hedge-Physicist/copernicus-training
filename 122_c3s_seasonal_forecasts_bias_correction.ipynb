{
 "cells": [
  {
   "cell_type": "markdown",
   "metadata": {},
   "source": [
    "<img src='./img/logoline_12000.png' align='right' width='100%'></img>"
   ]
  },
  {
   "cell_type": "markdown",
   "metadata": {},
   "source": [
    "<br>"
   ]
  },
  {
   "cell_type": "markdown",
   "metadata": {},
   "source": [
    "# Bias Correction of seasonal forecast data"
   ]
  },
  {
   "cell_type": "markdown",
   "metadata": {},
   "source": [
    "### About"
   ]
  },
  {
   "cell_type": "markdown",
   "metadata": {},
   "source": [
    "This notebook provides you a practical introduction .."
   ]
  },
  {
   "cell_type": "markdown",
   "metadata": {},
   "source": [
    "\n",
    "The notebook has the following outline:\n",
    "\n",
    "* [1 - Data preparation](#data_preparation)\n",
    "* [2 - Calculation of the annual global mean surface air temperature anomaly](#global_mean)\n",
    "* [3 - Calculation of the monthly surface air temperature anomaly in Europe](#monthly_europe)\n",
    "* [4 - Calculation of seasonal variations of near-surface air temperature over the Arctic](#seasonal_arctic)"
   ]
  },
  {
   "cell_type": "markdown",
   "metadata": {},
   "source": [
    "### Data"
   ]
  },
  {
   "cell_type": "markdown",
   "metadata": {},
   "source": [
    "This notebook introduces you to the ERA5 reanalysis monthly averaged data on single levels. The data has the following specifications:\n",
    "\n",
    "> **Data**: `ERA5 monthly averaged data on single levels` <br>\n",
    "> **Temporal coverage**: `Jan 1979 to Dec 2020` <br>\n",
    "> **Spatial coverage**: `Global` <br>\n",
    "> **Format**: `NetCDF`<br>\n",
    "> **Retrieve request**: [CDS API request](./100_climate_data_store_intro.ipynb#era5_monthly)\n",
    "\n",
    "Get [here](./101_c3s_data_intro.ipynb) more information about climate reanalysis data in general including an overview of they different dataset types."
   ]
  },
  {
   "cell_type": "markdown",
   "metadata": {},
   "source": [
    "### Further resources"
   ]
  },
  {
   "cell_type": "markdown",
   "metadata": {},
   "source": []
  },
  {
   "cell_type": "markdown",
   "metadata": {},
   "source": [
    "<br>"
   ]
  },
  {
   "cell_type": "markdown",
   "metadata": {},
   "source": [
    "<hr>"
   ]
  },
  {
   "cell_type": "markdown",
   "metadata": {},
   "source": [
    "### Load libraries"
   ]
  },
  {
   "cell_type": "code",
   "execution_count": 2,
   "metadata": {},
   "outputs": [
    {
     "name": "stdout",
     "output_type": "stream",
     "text": [
      "Warning: ecCodes 2.21.0 or higher is recommended. You are running version 2.10.0\n"
     ]
    }
   ],
   "source": [
    "# CDS API\n",
    "import cdsapi\n",
    "\n",
    "# Libraries for working with multi-dimensional arrays\n",
    "import numpy as np\n",
    "import xarray as xr\n",
    "import pandas as pd\n",
    "\n",
    "# Libraries for plotting and visualising data\n",
    "import matplotlib.path as mpath\n",
    "import matplotlib.pyplot as plt\n",
    "\n",
    "import cartopy.crs as ccrs\n",
    "from cartopy.mpl.gridliner import LONGITUDE_FORMATTER, LATITUDE_FORMATTER\n",
    "import cartopy.feature as cfeature"
   ]
  },
  {
   "cell_type": "markdown",
   "metadata": {},
   "source": [
    "<hr>"
   ]
  },
  {
   "cell_type": "markdown",
   "metadata": {},
   "source": [
    "## <a id='data_preparation'></a>1. Data preparation"
   ]
  },
  {
   "cell_type": "markdown",
   "metadata": {},
   "source": [
    "The example below will show you how you can use ERA5 reanalysis data to analyse climatologies and anomalies of the global near-surface air temperature."
   ]
  },
  {
   "cell_type": "markdown",
   "metadata": {},
   "source": [
    "## Retrieve SEAS5 monthly hindcast data - Sea surface temperature"
   ]
  },
  {
   "cell_type": "code",
   "execution_count": 3,
   "metadata": {},
   "outputs": [
    {
     "name": "stderr",
     "output_type": "stream",
     "text": [
      "2021-10-12 09:39:39,602 INFO Welcome to the CDS\n",
      "2021-10-12 09:39:39,603 INFO Sending request to https://cds.climate.copernicus.eu/api/v2/resources/seasonal-monthly-single-levels\n",
      "2021-10-12 09:39:39,821 INFO Request is queued\n",
      "2021-10-12 09:40:00,979 INFO Request is running\n",
      "2021-10-12 09:41:33,804 INFO Request is completed\n",
      "2021-10-12 09:41:33,806 INFO Downloading https://download-0011.copernicus-climate.eu/cache-compute-0011/cache/data0/adaptor.mars.external-1634024398.5116434-17563-9-a5fdf7bf-2668-457d-a69a-3f526ec99a20.grib to ./ecmwf_seas5_1993-2016_09_hindcast_monthly_sst.grib (324.2M)\n",
      "2021-10-12 09:42:46,726 INFO Download rate 4.4M/s  \n"
     ]
    },
    {
     "data": {
      "text/plain": [
       "Result(content_length=339984000,content_type=application/x-grib,location=https://download-0011.copernicus-climate.eu/cache-compute-0011/cache/data0/adaptor.mars.external-1634024398.5116434-17563-9-a5fdf7bf-2668-457d-a69a-3f526ec99a20.grib)"
      ]
     },
     "execution_count": 3,
     "metadata": {},
     "output_type": "execute_result"
    }
   ],
   "source": [
    "c = cdsapi.Client()\n",
    "\n",
    "c.retrieve(\n",
    "    'seasonal-monthly-single-levels',\n",
    "    {\n",
    "        'format': 'grib',\n",
    "        'originating_centre': 'ecmwf',\n",
    "        'system': '5',\n",
    "        'variable': 'sea_surface_temperature',\n",
    "        'product_type': 'monthly_mean',\n",
    "        'year': [\n",
    "            '1993', '1994', '1995',\n",
    "            '1996', '1997', '1998',\n",
    "            '1999', '2000', '2001',\n",
    "            '2002', '2003', '2004',\n",
    "            '2005', '2006', '2007',\n",
    "            '2008', '2009', '2010',\n",
    "            '2011', '2012', '2013',\n",
    "            '2014', '2015', '2016',\n",
    "        ],\n",
    "        'month': '09',\n",
    "        'leadtime_month': [\n",
    "            '1', '2', '3',\n",
    "            '4', '5', '6',\n",
    "        ],\n",
    "    },\n",
    "    './ecmwf_seas5_1993-2016_09_hindcast_monthly_sst.grib')"
   ]
  },
  {
   "cell_type": "markdown",
   "metadata": {},
   "source": [
    "## Retrieve SEAS5 monthly forecast data for september 2021 - Sea surface temperature"
   ]
  },
  {
   "cell_type": "code",
   "execution_count": 4,
   "metadata": {},
   "outputs": [
    {
     "name": "stderr",
     "output_type": "stream",
     "text": [
      "2021-10-12 09:43:25,024 INFO Welcome to the CDS\n",
      "2021-10-12 09:43:25,024 INFO Sending request to https://cds.climate.copernicus.eu/api/v2/resources/seasonal-monthly-single-levels\n",
      "2021-10-12 09:43:25,515 INFO Request is queued\n",
      "2021-10-12 09:44:15,214 INFO Request is completed\n",
      "2021-10-12 09:44:15,216 INFO Downloading https://download-0011.copernicus-climate.eu/cache-compute-0011/cache/data2/adaptor.mars.external-1634024646.1267226-3795-20-24b705cd-2242-412c-ab77-8cddd969ce3e.grib to ./data/ecmwf_seas5_2021_09_forecast_monthly_sst.grib (27.6M)\n",
      "2021-10-12 09:44:21,497 INFO Download rate 4.4M/s   \n"
     ]
    },
    {
     "data": {
      "text/plain": [
       "Result(content_length=28898640,content_type=application/x-grib,location=https://download-0011.copernicus-climate.eu/cache-compute-0011/cache/data2/adaptor.mars.external-1634024646.1267226-3795-20-24b705cd-2242-412c-ab77-8cddd969ce3e.grib)"
      ]
     },
     "execution_count": 4,
     "metadata": {},
     "output_type": "execute_result"
    }
   ],
   "source": [
    "c = cdsapi.Client()\n",
    "\n",
    "c.retrieve(\n",
    "    'seasonal-monthly-single-levels',\n",
    "    {\n",
    "        'format': 'grib',\n",
    "        'originating_centre': 'ecmwf',\n",
    "        'system': '5',\n",
    "        'variable': 'sea_surface_temperature',\n",
    "        'product_type': 'monthly_mean',\n",
    "        'year': '2021',\n",
    "        'month': '09',\n",
    "        'leadtime_month': [\n",
    "            '1', '2', '3',\n",
    "            '4', '5', '6',\n",
    "        ],\n",
    "    },\n",
    "    './data/ecmwf_seas5_2021_09_forecast_monthly_sst.grib')"
   ]
  },
  {
   "cell_type": "markdown",
   "metadata": {},
   "source": [
    "## Retrieve ERA5 monthly (observations) data for September from 1993 to 2016"
   ]
  },
  {
   "cell_type": "markdown",
   "metadata": {},
   "source": [
    "### Load the dataset"
   ]
  },
  {
   "cell_type": "markdown",
   "metadata": {},
   "source": [
    "<hr>"
   ]
  },
  {
   "cell_type": "markdown",
   "metadata": {},
   "source": [
    "<p><img src='./img/copernicus_logo.png' align='right' alt='Logo EU Copernicus' width='20%'></img></p>\n",
    "<br><br><br><br><br>\n",
    "<span style='float:right'><p style=\\\"text-align:right;\\\">This project is licensed under <a href=\"./LICENSE\">APACHE License 2.0</a>. | <a href=\\\"https://github.com/ecmwf-projects/copernicus-training\">View on GitHub</a></span>"
   ]
  }
 ],
 "metadata": {
  "kernelspec": {
   "display_name": "Python 3",
   "language": "python",
   "name": "python3"
  },
  "language_info": {
   "codemirror_mode": {
    "name": "ipython",
    "version": 3
   },
   "file_extension": ".py",
   "mimetype": "text/x-python",
   "name": "python",
   "nbconvert_exporter": "python",
   "pygments_lexer": "ipython3",
   "version": "3.7.0"
  }
 },
 "nbformat": 4,
 "nbformat_minor": 4
}
