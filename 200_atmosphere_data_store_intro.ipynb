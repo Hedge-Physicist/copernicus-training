{
 "cells": [
  {
   "cell_type": "markdown",
   "metadata": {},
   "source": [
    "<img src='./img/header_placeholder.png' alt='Logo EU Copernicus ECMWF' align='right' width='100%'></img>"
   ]
  },
  {
   "cell_type": "markdown",
   "metadata": {},
   "source": [
    "<br>"
   ]
  },
  {
   "cell_type": "markdown",
   "metadata": {},
   "source": [
    "# The Copernicus Atmosphere Data Store (ADS) - Introduction and data access example"
   ]
  },
  {
   "cell_type": "markdown",
   "metadata": {},
   "source": [
    "This notebook provides you an introduction to the Copernicus Atmosphere Data Store (ADS), an overview of the type of data that can be accessed and gives practical examples how to access and retrieve data from the ADS."
   ]
  },
  {
   "cell_type": "markdown",
   "metadata": {},
   "source": [
    "### Outline\n",
    "* [1 - About](#about)\n",
    "* [2 - CAMS data overview](#cams_data_overview)\n",
    "* [3 - CAMS data retrieval](#cams_data_retrieval)\n",
    "  * [3.1 - Access data manually via the ADS web interface](#access_manual)\n",
    "  * [3.2 - Access data in a programmatically with the CDS API](#access_programmatic)\n",
    "* [4 - Example data requests](#cams_example_requests)\n",
    "  * [4.1 - CAMS global reanalysis (EAC4) monthly averaged fields](#eac4_monthly)"
   ]
  },
  {
   "cell_type": "markdown",
   "metadata": {},
   "source": [
    "<br>"
   ]
  },
  {
   "cell_type": "markdown",
   "metadata": {},
   "source": [
    "<hr>"
   ]
  },
  {
   "cell_type": "markdown",
   "metadata": {},
   "source": [
    "## <a id='about'></a>1. About"
   ]
  },
  {
   "cell_type": "markdown",
   "metadata": {},
   "source": [
    "The [Copernicus Atmosphere Data Store (ADS)](https://ads.atmosphere.copernicus.eu/) is the data access portal of the [Copernicus Atmosphere Monitoring Service (CAMS)](https://atmosphere.copernicus.eu/) and offers access to `data` about the Earth's past, present and future atmosphere."
   ]
  },
  {
   "cell_type": "markdown",
   "metadata": {},
   "source": [
    "<br>"
   ]
  },
  {
   "cell_type": "markdown",
   "metadata": {},
   "source": [
    "<img src='./img/cams_data_store.png' align='left' width='80%'></img>"
   ]
  },
  {
   "cell_type": "markdown",
   "metadata": {},
   "source": [
    "<br>"
   ]
  },
  {
   "cell_type": "markdown",
   "metadata": {},
   "source": [
    "<hr>"
   ]
  },
  {
   "cell_type": "markdown",
   "metadata": {},
   "source": [
    "<br>"
   ]
  },
  {
   "cell_type": "markdown",
   "metadata": {},
   "source": [
    "## <a id='cams_data_overview'></a>2. CAMS data overview"
   ]
  },
  {
   "cell_type": "markdown",
   "metadata": {},
   "source": [
    "The Copernicus Climate Change Service offers a variety of different climate data products. The most popular ones can be classified in three:\n",
    "\n",
    "#### CAMS reanalysis\n",
    "* CAMS global reanalysis (EAC4)\n",
    "* CAMS European air quality reanalyses\n",
    "\n",
    "\n",
    "\n",
    "#### CAMS forecasts\n",
    "* CAMS global atmospheric composition forecasts\n",
    "* CAMS European air quality forecasts\n",
    "\n",
    "\n",
    "\n",
    "#### CAMS analysis\n",
    "* CAMS global atmospheric composition forecasts\n",
    "* CAMS European air quality forecasts\n",
    "\n",
    "#### CAMS Emission Inventory\n",
    "* CAMS global emission inventories\n",
    "\n",
    "\n",
    "\n",
    "\n",
    "<br>\n",
    "\n",
    "A complete overview of all the atmospheric data available on the ADS can be found on the ADS web interface under [Datasets](https://ads.atmosphere.copernicus.eu/cdsapp#!/search?type=dataset)."
   ]
  },
  {
   "cell_type": "markdown",
   "metadata": {},
   "source": [
    "<br>"
   ]
  },
  {
   "cell_type": "markdown",
   "metadata": {},
   "source": [
    "<hr>"
   ]
  },
  {
   "cell_type": "markdown",
   "metadata": {},
   "source": [
    "<br>"
   ]
  },
  {
   "cell_type": "markdown",
   "metadata": {},
   "source": [
    "## <a id='cams_data_retrieval'></a>3. Data retrieval"
   ]
  },
  {
   "cell_type": "markdown",
   "metadata": {},
   "source": [
    "There are two ways how you can access data from the Copernicus Atmosphere Data Store (ADS):\n",
    "* [manually](#access_manual) via the ADS web interface, or\n",
    "* [in a programmatic way](#access_programmatic) with the CDS API"
   ]
  },
  {
   "cell_type": "markdown",
   "metadata": {},
   "source": [
    "<br>"
   ]
  },
  {
   "cell_type": "markdown",
   "metadata": {},
   "source": [
    "### <a id='access_manual'></a>3.1 Access data manually via the ADS web interface"
   ]
  },
  {
   "cell_type": "markdown",
   "metadata": {},
   "source": [
    "The `ADS web interface` allows you to manually `browse`, `select` and `download` data products offered by the ADS. First, under [Datasets](https://ads.atmosphere.copernicus.eu/cdsapp#!/search?type=dataset), you can browse and select the data product you are interested in. In a second step, you can then specify details of the data download form you wish to submit."
   ]
  },
  {
   "cell_type": "markdown",
   "metadata": {},
   "source": [
    "#### Filter and select a data product"
   ]
  },
  {
   "cell_type": "markdown",
   "metadata": {},
   "source": [
    "As a first step, you can `browse` and `filter` the data product you are interested in. The [Datasets](https://ads.atmosphere.copernicus.eu/cdsapp#!/search?type=dataset) interface allows you either to select data based on different categories, e.g. `Product type`, `Variable domain`, `Spatial / Temporal coverage`, but also offers a free text search. The list of data products allows you to select the dataset you are interested in. \n",
    "\n",
    "Once you selected a dataset, you then get redirected to a data description section, which provides you an overview of the chosen dataset. Under `Download data`, you have the option to specify the dataset you would like to download and to submit the download form."
   ]
  },
  {
   "cell_type": "markdown",
   "metadata": {},
   "source": [
    "<br>"
   ]
  },
  {
   "cell_type": "markdown",
   "metadata": {},
   "source": [
    "<img src='./img/ads_data_overview.png' align='left' width='70%'></img>"
   ]
  },
  {
   "cell_type": "markdown",
   "metadata": {},
   "source": [
    "<br>"
   ]
  },
  {
   "cell_type": "markdown",
   "metadata": {},
   "source": [
    "#### Submit the *Download form*"
   ]
  },
  {
   "cell_type": "markdown",
   "metadata": {},
   "source": [
    "The `Data description` section (see 1) provides you an overview of the dataset product, including a list of variables that are available. Under the tab `Download data`, the `Download form` opens (see 2) which allows you to  manually filter the data product based on:\n",
    "* `Product type`\n",
    "* `Variable`\n",
    "* `Year / Month / Time`\n",
    "* `Geographical area`\n",
    "* `Format`\n",
    "\n",
    "At the end of the `Download form`, you get three options: `Show API request`, `Show Toolbox request` and `Submit Form`. If you want to download the data manually, the data requests will be executed as soon as you click on the `Submit Form` button. You will need the `Show API request`, if you want to request data in a programmatic way. See [Section 3.2](#access_programmatic) for further information.\n"
   ]
  },
  {
   "cell_type": "markdown",
   "metadata": {},
   "source": [
    "<div class=\"alert alert-block alert-success\">\n",
    "<b>NOTE</b>: <br>\n",
    "    Under the tab <code>Your requests</code> in the main menu, you can monitor the status of your data requests.</div>\n",
    "\n",
    "<br>"
   ]
  },
  {
   "cell_type": "markdown",
   "metadata": {},
   "source": [
    "<br>"
   ]
  },
  {
   "cell_type": "markdown",
   "metadata": {},
   "source": [
    "<img src='./img/ads_data_description_download_form.png' align='left' width='60%'></img>"
   ]
  },
  {
   "cell_type": "markdown",
   "metadata": {},
   "source": [
    "<br>"
   ]
  },
  {
   "cell_type": "markdown",
   "metadata": {},
   "source": [
    "### <a id='access_programmatic'></a>3.2 Access data in a programmatically way with the CDS API"
   ]
  },
  {
   "cell_type": "markdown",
   "metadata": {},
   "source": [
    "The `CDS Application Program Interface (CDS API)` is a Python library which allows you to access data from the ADS in a `programmatically`. The library is available for both Python versions, Python 2.7.x and Python 3. In order to use the CDS API, follow the steps below:"
   ]
  },
  {
   "cell_type": "markdown",
   "metadata": {},
   "source": [
    "#### Install the CDS API key"
   ]
  },
  {
   "cell_type": "markdown",
   "metadata": {},
   "source": [
    "* [Self-register](https://ads.atmosphere.copernicus.eu/#!/home) at the ADS registration page (if you do not have an account yet)\n",
    "* [Login](https://ads.atmosphere.copernicus.eu/user/login) to the ADS portal and go to the [api-how-to page](https://ads.atmosphere.copernicus.eu/api-how-to)\n",
    "* Copy the CDS API key displayed in the black terminal window in a file under `$HOME/.cdsapirc` *(Unix / Linux environment)*\n",
    "\n",
    "**Note:** You find your CDS API key displayed in the black terminal box under the section `Install the CDS API key`. If you do not see a URL or key appear in the black terminal box, please refresh your browser tab. \n",
    "  "
   ]
  },
  {
   "cell_type": "markdown",
   "metadata": {},
   "source": [
    "<br>"
   ]
  },
  {
   "cell_type": "markdown",
   "metadata": {},
   "source": [
    "<img src='./img/ads_api_key_terminal.png' align='left' width='60%'></img>"
   ]
  },
  {
   "cell_type": "markdown",
   "metadata": {},
   "source": [
    "<br>"
   ]
  },
  {
   "cell_type": "markdown",
   "metadata": {},
   "source": [
    "The code below creates the file under your current working directory. Make sure to replace the `################` with your personal `CDS API key`.\n"
   ]
  },
  {
   "cell_type": "code",
   "execution_count": 1,
   "metadata": {},
   "outputs": [
    {
     "name": "stdout",
     "output_type": "stream",
     "text": [
      "Writing ./.adsapirc\n"
     ]
    }
   ],
   "source": [
    "%%writefile ./.adsapirc\n",
    "\n",
    "url: https://ads.atmosphere.copernicus.eu/api/v2\n",
    "key: ################################"
   ]
  },
  {
   "cell_type": "code",
   "execution_count": 1,
   "metadata": {},
   "outputs": [],
   "source": [
    "URL = 'https://ads.atmosphere.copernicus.eu/api/v2'\n",
    "KEY = '1539:7d734d09-605c-4093-9348-6d7e4a3b51a8'"
   ]
  },
  {
   "cell_type": "markdown",
   "metadata": {},
   "source": [
    "<br>\n",
    "\n",
    "<div class=\"alert alert-block alert-success\">\n",
    "<b>NOTE</b>: <br>\n",
    "   The Copernicus Climate Change Service (C3S) uses the same CDS API software, but provides access to different datasets. If you are accessing data also from the Copernicus Climate Data Store and you already have a <code>~/.cdsapirc</code> file created, then you have to store your ADS key elswhere. <br>\n",
    "    You can e.g. store your ADS key under <code>./.adsapirc</code> and you can pass the key information to the client library explicitly. See the code cell below how to do this. </div>\n",
    "\n",
    "<br>"
   ]
  },
  {
   "cell_type": "code",
   "execution_count": 3,
   "metadata": {},
   "outputs": [],
   "source": [
    "import cdsapi\n",
    "import yaml\n",
    "\n",
    "with open ('./.adsapirc', 'r') as f:\n",
    "    credentials= yaml.safe_load(f)\n",
    "    \n",
    "\n",
    "c = cdsapi.Client(url=credentials['url'], key=credentials['key'])"
   ]
  },
  {
   "cell_type": "markdown",
   "metadata": {},
   "source": [
    "<br>"
   ]
  },
  {
   "cell_type": "markdown",
   "metadata": {},
   "source": [
    "#### Install the CDS API client"
   ]
  },
  {
   "cell_type": "markdown",
   "metadata": {},
   "source": [
    "The next step is to install the `CDS API client`. You can do this with the package management system `pip`."
   ]
  },
  {
   "cell_type": "code",
   "execution_count": null,
   "metadata": {},
   "outputs": [],
   "source": [
    "!pip install cdsapi"
   ]
  },
  {
   "cell_type": "markdown",
   "metadata": {},
   "source": [
    "<br>"
   ]
  },
  {
   "cell_type": "markdown",
   "metadata": {},
   "source": [
    "#### Use the CDS API client for data access"
   ]
  },
  {
   "cell_type": "markdown",
   "metadata": {},
   "source": [
    "Once the `CDS API` is installed, it can be used to request data from the Atmosphere Data Store."
   ]
  },
  {
   "cell_type": "markdown",
   "metadata": {},
   "source": [
    "Below, you see the principle of a `data retrieval` request. You always have to make sure to first import the `cdsapi` and define a `cdsapi.Client()` before you are able to execute an `API request`. You can use the [web interface](https://ads.atmosphere.copernicus.eu/cdsapp#!/search?type=dataset) to browse through the datasets. At the end of the `Download form`, there is the option to choose `Show API request`. If you click this button, the `API request` appears (see example below), which you can copy paste into your coding workflow.\n",
    "\n",
    "<br>\n",
    "\n",
    "<div><img src='./img/ads_api_request.png' align='left' width='30%'></img></div>\n",
    "\n",
    "\n",
    "\n",
    "\n"
   ]
  },
  {
   "cell_type": "markdown",
   "metadata": {},
   "source": [
    "<br>\n",
    "\n",
    "<div class=\"alert alert-block alert-success\">\n",
    "<b>NOTE</b>: <br>\n",
    "    Per default, ECMWF data is stored on a grid with longitudes from 0 to 360 degrees. It can be reprojected to a regular geographic latitude-longitude grid, by setting the keyword argument <code>area</code> and <code>grid</code>. Per default, data is retrieved in <code>GRIB</code>. If you wish to retrieve the data in <code>netCDF</code>, you have to specify it by using the keyword argument <code>format</code>.</div>\n",
    "\n",
    "<br>\n",
    "\n",
    "See [below](#cams_example_requests) for some example `API requests` from the Atmosphere Data Store."
   ]
  },
  {
   "cell_type": "markdown",
   "metadata": {},
   "source": [
    "<hr>"
   ]
  },
  {
   "cell_type": "markdown",
   "metadata": {},
   "source": [
    "<br>"
   ]
  },
  {
   "cell_type": "markdown",
   "metadata": {},
   "source": [
    "## <a id='cams_example_requests'></a>4. Example data requests"
   ]
  },
  {
   "cell_type": "markdown",
   "metadata": {},
   "source": [
    "#### <a id='eac4_monthly'></a>Example: **CAMS global reanalysis (EAC4) monthly averaged fields**"
   ]
  },
  {
   "cell_type": "markdown",
   "metadata": {},
   "source": [
    "> Data used in [213_cams_global_reanalysis](./213_global_reanalysis.ipynb)"
   ]
  },
  {
   "cell_type": "markdown",
   "metadata": {},
   "source": [
    "CDS API name: `cams-global-reanalysis-eac4-monthly`\n",
    "\n",
    "> - Product type: `monthly_mean`\n",
    "> - Variable: `carbon_monoxide`\n",
    "> - Year: `2020`\n",
    "> - Month: `08`\n",
    "> - Pressure level: `['100', '150', '200', '250', '300', '400', '500', '600', '700', '800', '850', '900', '925', '950', '1000']`\n",
    "> - Format: `netcdf`"
   ]
  },
  {
   "cell_type": "code",
   "execution_count": 2,
   "metadata": {},
   "outputs": [
    {
     "name": "stderr",
     "output_type": "stream",
     "text": [
      "/Users/julia_wagemann/opt/anaconda3/lib/python3.8/site-packages/urllib3/connectionpool.py:1013: InsecureRequestWarning: Unverified HTTPS request is being made to host 'ads.atmosphere.copernicus.eu'. Adding certificate verification is strongly advised. See: https://urllib3.readthedocs.io/en/latest/advanced-usage.html#ssl-warnings\n",
      "  warnings.warn(\n",
      "2021-11-01 18:11:12,840 INFO Welcome to the CDS\n",
      "2021-11-01 18:11:12,841 INFO Sending request to https://ads.atmosphere.copernicus.eu/api/v2/resources/cams-global-reanalysis-eac4-monthly\n",
      "/Users/julia_wagemann/opt/anaconda3/lib/python3.8/site-packages/urllib3/connectionpool.py:1013: InsecureRequestWarning: Unverified HTTPS request is being made to host 'ads.atmosphere.copernicus.eu'. Adding certificate verification is strongly advised. See: https://urllib3.readthedocs.io/en/latest/advanced-usage.html#ssl-warnings\n",
      "  warnings.warn(\n",
      "2021-11-01 18:11:12,947 INFO Request is completed\n",
      "2021-11-01 18:11:12,947 INFO Downloading https://download-0000.copernicus-atmosphere.eu/cache-compute-0000/cache/data7/adaptor.mars.internal-1631631457.4789374-19369-18-45e81635-d460-44f8-82cc-6092e7bdc213.zip to ./data/cams_eac4_202008_pl.nc (3.5M)\n",
      "/Users/julia_wagemann/opt/anaconda3/lib/python3.8/site-packages/urllib3/connectionpool.py:1013: InsecureRequestWarning: Unverified HTTPS request is being made to host 'download-0000.copernicus-atmosphere.eu'. Adding certificate verification is strongly advised. See: https://urllib3.readthedocs.io/en/latest/advanced-usage.html#ssl-warnings\n",
      "  warnings.warn(\n",
      "2021-11-01 18:11:14,434 INFO Download rate 2.4M/s   \n"
     ]
    },
    {
     "data": {
      "text/plain": [
       "Result(content_length=3710246,content_type=application/zip,location=https://download-0000.copernicus-atmosphere.eu/cache-compute-0000/cache/data7/adaptor.mars.internal-1631631457.4789374-19369-18-45e81635-d460-44f8-82cc-6092e7bdc213.zip)"
      ]
     },
     "execution_count": 2,
     "metadata": {},
     "output_type": "execute_result"
    }
   ],
   "source": [
    "import cdsapi\n",
    "c = cdsapi.Client(url=URL, key=KEY)\n",
    "\n",
    "c.retrieve(\n",
    "    'cams-global-reanalysis-eac4-monthly',\n",
    "    {\n",
    "        'format': 'netcdf',\n",
    "        'variable': 'carbon_monoxide',\n",
    "        'pressure_level': [\n",
    "            '100', '150', '200',\n",
    "            '250', '300', '400',\n",
    "            '500', '600', '700',\n",
    "            '800', '850', '900',\n",
    "            '925', '950', '1000',\n",
    "        ],\n",
    "        'model_level': '60',\n",
    "        'year': '2020',\n",
    "        'month': '08',\n",
    "        'product_type': 'monthly_mean',\n",
    "    },\n",
    "    './data/cams_eac4_202008_pl.nc')"
   ]
  },
  {
   "cell_type": "markdown",
   "metadata": {},
   "source": [
    "### Example: Retrieve EAC5"
   ]
  },
  {
   "cell_type": "code",
   "execution_count": null,
   "metadata": {},
   "outputs": [],
   "source": [
    "import cdsapi\n",
    "c = cdsapi.Client(url=URL, key=KEY)\n",
    "c.retrieve(\n",
    "    'reanalysis-era5-single-levels-monthly-means',\n",
    "    {\n",
    "        'product_type': 'monthly_averaged_reanalysis',\n",
    "        'variable': '2m_temperature',\n",
    "        'year': [\n",
    "            '1981', '1982', '1983',\n",
    "            '1984', '1985', '1986',\n",
    "            '1987', '1988', '1989',\n",
    "            '1990', '1991', '1992',\n",
    "            '1993', '1994', '1995',\n",
    "            '1996', '1997', '1998',\n",
    "            '1999', '2000', '2001',\n",
    "            '2002', '2003', '2004',\n",
    "            '2005', '2006', '2007',\n",
    "            '2008', '2009', '2010',\n",
    "        ],\n",
    "        'month': [\n",
    "            '01', '02', '03',\n",
    "            '04', '05', '06',\n",
    "            '07', '08', '09',\n",
    "            '10', '11', '12',\n",
    "        ],\n",
    "        'time': '00:00',\n",
    "        'format': 'netcdf',\n",
    "        'area': [\n",
    "            90, -180, 0,\n",
    "            -70,\n",
    "        ]\n",
    "    },\n",
    "    './data/era5_monthly/era5_monthly_1981-2010.nc')"
   ]
  },
  {
   "cell_type": "markdown",
   "metadata": {},
   "source": [
    "<hr>"
   ]
  },
  {
   "cell_type": "markdown",
   "metadata": {},
   "source": [
    "<p><img src='./img/copernicus_logo.png' align='right' alt='Logo EU Copernicus' width='20%'></img></p>\n",
    "<br><br><br><br><br>\n",
    "<span style='float:right'><p style=\\\"text-align:right;\\\">This project is licensed under <a href=\"./LICENSE\">APACHE License 2.0</a>. | <a href=\\\"https://github.com/ecmwf-projects/copernicus-training\">View on GitHub</a></span>"
   ]
  }
 ],
 "metadata": {
  "kernelspec": {
   "display_name": "Python 3",
   "language": "python",
   "name": "python3"
  },
  "language_info": {
   "codemirror_mode": {
    "name": "ipython",
    "version": 3
   },
   "file_extension": ".py",
   "mimetype": "text/x-python",
   "name": "python",
   "nbconvert_exporter": "python",
   "pygments_lexer": "ipython3",
   "version": "3.8.8"
  }
 },
 "nbformat": 4,
 "nbformat_minor": 4
}
