{
 "cells": [
  {
   "cell_type": "markdown",
   "metadata": {},
   "source": [
    "<img src='./img/header_placeholder.png' alt='Logo EU Copernicus ECMWF' align='right' width='100%'></img>"
   ]
  },
  {
   "cell_type": "markdown",
   "metadata": {},
   "source": [
    "<br>"
   ]
  },
  {
   "cell_type": "markdown",
   "metadata": {},
   "source": [
    "# The Copernicus Atmosphere Data Store (ADS) - Introduction and data access example"
   ]
  },
  {
   "cell_type": "markdown",
   "metadata": {},
   "source": [
    "This notebook provides you an introduction to the Copernicus Atmosphere Data Store (ADS), an overview of the type of data that can be accessed and gives practical examples how to access and retrieve data from the ADS."
   ]
  },
  {
   "cell_type": "markdown",
   "metadata": {},
   "source": [
    "### Outline\n",
    "* [1 - About](#about)\n",
    "* [2 - CAMS data overview](#cams_data_overview)\n",
    "* [3 - CAMS data retrieval](#cams_data_retrieval)\n",
    "  * [3.1 - Access data manually via the ADS web interface](#access_manual)\n",
    "  * [3.2 - Access data programmatically with the CDS API](#access_programmatic)\n",
    "* [4 - Example data requests](#cams_example_requests)\n",
    "  * [4.1 - CAMS global reanalysis (EAC4) monthly averaged fields](#eac4_monthly)\n",
    "  * [4.2 - CAMS European air quality forecasts](#europe_air_quality)\n",
    "  * [4.3 - CAMS global atmospheric composition forecasts](#cams_global_forecast)"
   ]
  },
  {
   "cell_type": "markdown",
   "metadata": {},
   "source": [
    "<br>"
   ]
  },
  {
   "cell_type": "markdown",
   "metadata": {},
   "source": [
    "<hr>"
   ]
  },
  {
   "cell_type": "markdown",
   "metadata": {},
   "source": [
    "## <a id='about'></a>1. About"
   ]
  },
  {
   "cell_type": "markdown",
   "metadata": {},
   "source": [
    "The [Copernicus Atmosphere Data Store (ADS)](https://ads.atmosphere.copernicus.eu/) is the data access portal of the [Copernicus Atmosphere Monitoring Service (CAMS)](https://atmosphere.copernicus.eu/) and offers access to `data` about the Earth's past, present and future atmosphere."
   ]
  },
  {
   "cell_type": "markdown",
   "metadata": {},
   "source": [
    "<br>"
   ]
  },
  {
   "cell_type": "markdown",
   "metadata": {},
   "source": [
    "<img src='./img/cams_data_store.png' align='left' width='80%'></img>"
   ]
  },
  {
   "cell_type": "markdown",
   "metadata": {},
   "source": [
    "<br>"
   ]
  },
  {
   "cell_type": "markdown",
   "metadata": {},
   "source": [
    "<hr>"
   ]
  },
  {
   "cell_type": "markdown",
   "metadata": {},
   "source": [
    "<br>"
   ]
  },
  {
   "cell_type": "markdown",
   "metadata": {},
   "source": [
    "## <a id='cams_data_overview'></a>2. CAMS data overview"
   ]
  },
  {
   "cell_type": "markdown",
   "metadata": {},
   "source": [
    "The Copernicus Climate Change Service offers a variety of different climate data products. The most popular ones can be classified in three:\n",
    "\n",
    "#### CAMS reanalysis\n",
    "* CAMS global reanalysis (EAC4)\n",
    "* CAMS European air quality reanalyses\n",
    "\n",
    "\n",
    "\n",
    "#### CAMS forecasts\n",
    "* CAMS global atmospheric composition forecasts\n",
    "* CAMS European air quality forecasts\n",
    "\n",
    "\n",
    "\n",
    "#### CAMS analysis\n",
    "* CAMS global atmospheric composition forecasts\n",
    "* CAMS European air quality forecasts\n",
    "\n",
    "#### CAMS Emission Inventory\n",
    "* CAMS global emission inventories\n",
    "\n",
    "\n",
    "\n",
    "\n",
    "<br>\n",
    "\n",
    "A complete overview of all the atmospheric data available on the ADS can be found on the ADS web interface under [Datasets](https://ads.atmosphere.copernicus.eu/cdsapp#!/search?type=dataset)."
   ]
  },
  {
   "cell_type": "markdown",
   "metadata": {},
   "source": [
    "<br>"
   ]
  },
  {
   "cell_type": "markdown",
   "metadata": {},
   "source": [
    "<hr>"
   ]
  },
  {
   "cell_type": "markdown",
   "metadata": {},
   "source": [
    "<br>"
   ]
  },
  {
   "cell_type": "markdown",
   "metadata": {},
   "source": [
    "## <a id='cams_data_retrieval'></a>3. Data retrieval"
   ]
  },
  {
   "cell_type": "markdown",
   "metadata": {},
   "source": [
    "There are two ways how you can access data from the Copernicus Atmosphere Data Store (ADS):\n",
    "* [manually](#access_manual) via the ADS web interface, or\n",
    "* [in a programmatic way](#access_programmatic) with the CDS API"
   ]
  },
  {
   "cell_type": "markdown",
   "metadata": {},
   "source": [
    "<br>"
   ]
  },
  {
   "cell_type": "markdown",
   "metadata": {},
   "source": [
    "### <a id='access_manual'></a>3.1 Access data manually via the ADS web interface"
   ]
  },
  {
   "cell_type": "markdown",
   "metadata": {},
   "source": [
    "The `ADS web interface` allows you to manually `browse`, `select` and `download` data products offered by the ADS. First, under [Datasets](https://ads.atmosphere.copernicus.eu/cdsapp#!/search?type=dataset), you can browse and select the data product you are interested in. In a second step, you can then specify details of the data download form you wish to submit."
   ]
  },
  {
   "cell_type": "markdown",
   "metadata": {},
   "source": [
    "#### Filter and select a data product"
   ]
  },
  {
   "cell_type": "markdown",
   "metadata": {},
   "source": [
    "As a first step, you can `browse` and `filter` the data product you are interested in. The [Datasets](https://ads.atmosphere.copernicus.eu/cdsapp#!/search?type=dataset) interface allows you either to select data based on different categories, e.g. `Product type`, `Variable domain`, `Spatial / Temporal coverage`, but also offers a free text search. The list of data products allows you to select the dataset you are interested in. \n",
    "\n",
    "Once you selected a dataset, you then get redirected to a data description section, which provides you an overview of the chosen dataset. Under `Download data`, you have the option to specify the dataset you would like to download and to submit the download form."
   ]
  },
  {
   "cell_type": "markdown",
   "metadata": {},
   "source": [
    "<br>"
   ]
  },
  {
   "cell_type": "markdown",
   "metadata": {},
   "source": [
    "<img src='./img/ads_data_overview.png' align='left' width='70%'></img>"
   ]
  },
  {
   "cell_type": "markdown",
   "metadata": {},
   "source": [
    "<br>"
   ]
  },
  {
   "cell_type": "markdown",
   "metadata": {},
   "source": [
    "#### Submit the *Download form*"
   ]
  },
  {
   "cell_type": "markdown",
   "metadata": {},
   "source": [
    "The `Data description` section (see 1) provides you an overview of the dataset product, including a list of variables that are available. Under the tab `Download data`, the `Download form` opens (see 2) which allows you to  manually filter the data product based on:\n",
    "* `Product type`\n",
    "* `Variable`\n",
    "* `Year / Month / Time`\n",
    "* `Geographical area`\n",
    "* `Format`\n",
    "\n",
    "At the end of the `Download form`, you get three options: `Show API request`, `Show Toolbox request` and `Submit Form`. If you want to download the data manually, the data requests will be executed as soon as you click on the `Submit Form` button. You will need the `Show API request`, if you want to request data in a programmatic way. See [Section 3.2](#access_programmatic) for further information.\n"
   ]
  },
  {
   "cell_type": "markdown",
   "metadata": {},
   "source": [
    "<div class=\"alert alert-block alert-success\">\n",
    "<b>NOTE</b>: <br>\n",
    "    Under the tab <code>Your requests</code> in the main menu, you can monitor the status of your data requests.</div>\n",
    "\n",
    "<br>"
   ]
  },
  {
   "cell_type": "markdown",
   "metadata": {},
   "source": [
    "<br>"
   ]
  },
  {
   "cell_type": "markdown",
   "metadata": {},
   "source": [
    "<img src='./img/ads_data_description_download_form.png' align='left' width='60%'></img>"
   ]
  },
  {
   "cell_type": "markdown",
   "metadata": {},
   "source": [
    "<br>"
   ]
  },
  {
   "cell_type": "markdown",
   "metadata": {},
   "source": [
    "### <a id='access_programmatic'></a>3.2 Access data in a programmatically way with the CDS API"
   ]
  },
  {
   "cell_type": "markdown",
   "metadata": {},
   "source": [
    "The `CDS Application Program Interface (CDS API)` is a Python library which allows you to access data from the ADS in a `programmatically`. The library is available for both Python versions, Python 2.7.x and Python 3. In order to use the CDS API, follow the steps below:"
   ]
  },
  {
   "cell_type": "markdown",
   "metadata": {},
   "source": [
    "#### Install the CDS API key"
   ]
  },
  {
   "cell_type": "markdown",
   "metadata": {},
   "source": [
    "* [Self-register](https://ads.atmosphere.copernicus.eu/#!/home) at the ADS registration page (if you do not have an account yet)\n",
    "* [Login](https://ads.atmosphere.copernicus.eu/user/login) to the ADS portal and go to the [api-how-to page](https://ads.atmosphere.copernicus.eu/api-how-to)\n",
    "* Copy the CDS API key displayed in the black terminal window in a file under `$HOME/.cdsapirc` *(Unix / Linux environment)*\n",
    "\n",
    "**Note:** You find your CDS API key displayed in the black terminal box under the section `Install the CDS API key`. If you do not see a URL or key appear in the black terminal box, please refresh your browser tab. \n",
    "  "
   ]
  },
  {
   "cell_type": "markdown",
   "metadata": {},
   "source": [
    "<br>"
   ]
  },
  {
   "cell_type": "markdown",
   "metadata": {},
   "source": [
    "<img src='./img/ads_api_key_terminal.png' align='left' width='60%'></img>"
   ]
  },
  {
   "cell_type": "markdown",
   "metadata": {},
   "source": [
    "<br>"
   ]
  },
  {
   "cell_type": "markdown",
   "metadata": {},
   "source": [
    "The code below creates the file under your current working directory. Make sure to replace the `################` with your personal `CDS API key`.\n"
   ]
  },
  {
   "cell_type": "code",
   "execution_count": 1,
   "metadata": {},
   "outputs": [
    {
     "name": "stdout",
     "output_type": "stream",
     "text": [
      "Writing ./.adsapirc\n"
     ]
    }
   ],
   "source": [
    "%%writefile ./.adsapirc\n",
    "\n",
    "url: https://ads.atmosphere.copernicus.eu/api/v2\n",
    "key: ################################"
   ]
  },
  {
   "cell_type": "code",
   "execution_count": 1,
   "metadata": {},
   "outputs": [],
   "source": [
    "URL = 'https://ads.atmosphere.copernicus.eu/api/v2'\n",
    "KEY = '1539:7d734d09-605c-4093-9348-6d7e4a3b51a8'"
   ]
  },
  {
   "cell_type": "markdown",
   "metadata": {},
   "source": [
    "<br>\n",
    "\n",
    "<div class=\"alert alert-block alert-success\">\n",
    "<b>NOTE</b>: <br>\n",
    "   The Copernicus Climate Change Service (C3S) uses the same CDS API software, but provides access to different datasets. If you are accessing data also from the Copernicus Climate Data Store and you already have a <code>~/.cdsapirc</code> file created, then you have to store your ADS key elswhere. <br>\n",
    "    You can e.g. store your ADS key under <code>./.adsapirc</code> and you can pass the key information to the client library explicitly. See the code cell below how to do this. </div>\n",
    "\n",
    "<br>"
   ]
  },
  {
   "cell_type": "code",
   "execution_count": 3,
   "metadata": {},
   "outputs": [],
   "source": [
    "import cdsapi\n",
    "import yaml\n",
    "\n",
    "with open ('./.adsapirc', 'r') as f:\n",
    "    credentials= yaml.safe_load(f)\n",
    "    \n",
    "\n",
    "c = cdsapi.Client(url=credentials['url'], key=credentials['key'])"
   ]
  },
  {
   "cell_type": "markdown",
   "metadata": {},
   "source": [
    "<br>"
   ]
  },
  {
   "cell_type": "markdown",
   "metadata": {},
   "source": [
    "#### Install the CDS API client"
   ]
  },
  {
   "cell_type": "markdown",
   "metadata": {},
   "source": [
    "The next step is to install the `CDS API client`. You can do this with the package management system `pip`."
   ]
  },
  {
   "cell_type": "code",
   "execution_count": null,
   "metadata": {},
   "outputs": [],
   "source": [
    "!pip install cdsapi"
   ]
  },
  {
   "cell_type": "markdown",
   "metadata": {},
   "source": [
    "<br>"
   ]
  },
  {
   "cell_type": "markdown",
   "metadata": {},
   "source": [
    "#### Use the CDS API client for data access"
   ]
  },
  {
   "cell_type": "markdown",
   "metadata": {},
   "source": [
    "Once the `CDS API` is installed, it can be used to request data from the Atmosphere Data Store."
   ]
  },
  {
   "cell_type": "markdown",
   "metadata": {},
   "source": [
    "Below, you see the principle of a `data retrieval` request. You always have to make sure to first import the `cdsapi` and define a `cdsapi.Client()` before you are able to execute an `API request`. You can use the [web interface](https://ads.atmosphere.copernicus.eu/cdsapp#!/search?type=dataset) to browse through the datasets. At the end of the `Download form`, there is the option to choose `Show API request`. If you click this button, the `API request` appears (see example below), which you can copy paste into your coding workflow.\n",
    "\n",
    "<br>\n",
    "\n",
    "<div><img src='./img/ads_api_request.png' align='left' width='30%'></img></div>\n",
    "\n",
    "\n",
    "\n",
    "\n"
   ]
  },
  {
   "cell_type": "markdown",
   "metadata": {},
   "source": [
    "<br>\n",
    "\n",
    "<div class=\"alert alert-block alert-success\">\n",
    "<b>NOTE</b>: <br>\n",
    "    Per default, ECMWF data is stored on a grid with longitudes from 0 to 360 degrees. It can be reprojected to a regular geographic latitude-longitude grid, by setting the keyword argument <code>area</code> and <code>grid</code>. Per default, data is retrieved in <code>GRIB</code>. If you wish to retrieve the data in <code>netCDF</code>, you have to specify it by using the keyword argument <code>format</code>.</div>\n",
    "\n",
    "<br>\n",
    "\n",
    "See [below](#cams_example_requests) for some example `API requests` from the Atmosphere Data Store."
   ]
  },
  {
   "cell_type": "markdown",
   "metadata": {},
   "source": [
    "<hr>"
   ]
  },
  {
   "cell_type": "markdown",
   "metadata": {},
   "source": [
    "<br>"
   ]
  },
  {
   "cell_type": "markdown",
   "metadata": {},
   "source": [
    "## <a id='cams_example_requests'></a>4. Example data requests"
   ]
  },
  {
   "cell_type": "markdown",
   "metadata": {},
   "source": [
    "#### <a id='eac4_monthly'></a>Example: **CAMS global reanalysis (EAC4) monthly averaged fields**"
   ]
  },
  {
   "cell_type": "markdown",
   "metadata": {},
   "source": [
    "> Data used in [213_cams_global_reanalysis](./213_global_reanalysis.ipynb)"
   ]
  },
  {
   "cell_type": "markdown",
   "metadata": {},
   "source": [
    "CDS API name: `cams-global-reanalysis-eac4-monthly`\n",
    "\n",
    "> - Product type: `monthly_mean`\n",
    "> - Variable: `carbon_monoxide`\n",
    "> - Year: `2020`\n",
    "> - Month: `08`\n",
    "> - Pressure level: `['100', '150', '200', '250', '300', '400', '500', '600', '700', '800', '850', '900', '925', '950', '1000']`\n",
    "> - Format: `netcdf`"
   ]
  },
  {
   "cell_type": "code",
   "execution_count": 2,
   "metadata": {},
   "outputs": [
    {
     "name": "stderr",
     "output_type": "stream",
     "text": [
      "/Users/julia_wagemann/opt/anaconda3/lib/python3.8/site-packages/urllib3/connectionpool.py:1013: InsecureRequestWarning: Unverified HTTPS request is being made to host 'ads.atmosphere.copernicus.eu'. Adding certificate verification is strongly advised. See: https://urllib3.readthedocs.io/en/latest/advanced-usage.html#ssl-warnings\n",
      "  warnings.warn(\n",
      "2021-11-01 18:11:12,840 INFO Welcome to the CDS\n",
      "2021-11-01 18:11:12,841 INFO Sending request to https://ads.atmosphere.copernicus.eu/api/v2/resources/cams-global-reanalysis-eac4-monthly\n",
      "/Users/julia_wagemann/opt/anaconda3/lib/python3.8/site-packages/urllib3/connectionpool.py:1013: InsecureRequestWarning: Unverified HTTPS request is being made to host 'ads.atmosphere.copernicus.eu'. Adding certificate verification is strongly advised. See: https://urllib3.readthedocs.io/en/latest/advanced-usage.html#ssl-warnings\n",
      "  warnings.warn(\n",
      "2021-11-01 18:11:12,947 INFO Request is completed\n",
      "2021-11-01 18:11:12,947 INFO Downloading https://download-0000.copernicus-atmosphere.eu/cache-compute-0000/cache/data7/adaptor.mars.internal-1631631457.4789374-19369-18-45e81635-d460-44f8-82cc-6092e7bdc213.zip to ./data/cams_eac4_202008_pl.nc (3.5M)\n",
      "/Users/julia_wagemann/opt/anaconda3/lib/python3.8/site-packages/urllib3/connectionpool.py:1013: InsecureRequestWarning: Unverified HTTPS request is being made to host 'download-0000.copernicus-atmosphere.eu'. Adding certificate verification is strongly advised. See: https://urllib3.readthedocs.io/en/latest/advanced-usage.html#ssl-warnings\n",
      "  warnings.warn(\n",
      "2021-11-01 18:11:14,434 INFO Download rate 2.4M/s   \n"
     ]
    },
    {
     "data": {
      "text/plain": [
       "Result(content_length=3710246,content_type=application/zip,location=https://download-0000.copernicus-atmosphere.eu/cache-compute-0000/cache/data7/adaptor.mars.internal-1631631457.4789374-19369-18-45e81635-d460-44f8-82cc-6092e7bdc213.zip)"
      ]
     },
     "execution_count": 2,
     "metadata": {},
     "output_type": "execute_result"
    }
   ],
   "source": [
    "import cdsapi\n",
    "c = cdsapi.Client(url=URL, key=KEY)\n",
    "\n",
    "c.retrieve(\n",
    "    'cams-global-reanalysis-eac4-monthly',\n",
    "    {\n",
    "        'format': 'netcdf',\n",
    "        'variable': 'carbon_monoxide',\n",
    "        'pressure_level': [\n",
    "            '100', '150', '200',\n",
    "            '250', '300', '400',\n",
    "            '500', '600', '700',\n",
    "            '800', '850', '900',\n",
    "            '925', '950', '1000',\n",
    "        ],\n",
    "        'model_level': '60',\n",
    "        'year': '2020',\n",
    "        'month': '08',\n",
    "        'product_type': 'monthly_mean',\n",
    "    },\n",
    "    './data/cams_eac4_202008_pl.zip')"
   ]
  },
  {
   "cell_type": "markdown",
   "metadata": {},
   "source": [
    "<br>"
   ]
  },
  {
   "cell_type": "markdown",
   "metadata": {},
   "source": [
    "### <a id='europe_air_quality'></a>Example: CAMS European air quality forecasts"
   ]
  },
  {
   "cell_type": "markdown",
   "metadata": {},
   "source": [
    "> Data used in [212_cams_dust_monitoring](./212_cams_dust_monitoring.ipynb)"
   ]
  },
  {
   "cell_type": "markdown",
   "metadata": {},
   "source": [
    "CDS API name: `cams-europe-air-quality-forecasts`\n",
    "\n",
    "> - Model: `ensemble`\n",
    "> - Variable: `['dust', 'particulate_matter_10m']`\n",
    "> - Date: `2021-02-20/2021-02-25`\n",
    "> - Time: `['00:00','01:00','02:00','03:00','04:00','05:00','06:00','07:00','08:00','09:00','10:00','11:00','12:00','13:00','14:00','15:00','16:00','17:00','18:00','19:00','20:00','21:00','22:00','23:00']`\n",
    "> - Level: `0`\n",
    "> - Leadtime hour: `0`\n",
    "> - Type: `analysis`\n",
    "> - Format: `netcdf`"
   ]
  },
  {
   "cell_type": "code",
   "execution_count": 2,
   "metadata": {},
   "outputs": [
    {
     "name": "stderr",
     "output_type": "stream",
     "text": [
      "/Users/julia_wagemann/opt/anaconda3/lib/python3.8/site-packages/urllib3/connectionpool.py:1013: InsecureRequestWarning: Unverified HTTPS request is being made to host 'ads.atmosphere.copernicus.eu'. Adding certificate verification is strongly advised. See: https://urllib3.readthedocs.io/en/latest/advanced-usage.html#ssl-warnings\n",
      "  warnings.warn(\n",
      "2021-11-03 06:01:41,790 INFO Welcome to the CDS\n",
      "2021-11-03 06:01:41,791 INFO Sending request to https://ads.atmosphere.copernicus.eu/api/v2/resources/cams-europe-air-quality-forecasts\n",
      "/Users/julia_wagemann/opt/anaconda3/lib/python3.8/site-packages/urllib3/connectionpool.py:1013: InsecureRequestWarning: Unverified HTTPS request is being made to host 'ads.atmosphere.copernicus.eu'. Adding certificate verification is strongly advised. See: https://urllib3.readthedocs.io/en/latest/advanced-usage.html#ssl-warnings\n",
      "  warnings.warn(\n",
      "2021-11-03 06:01:41,840 INFO Request is queued\n",
      "/Users/julia_wagemann/opt/anaconda3/lib/python3.8/site-packages/urllib3/connectionpool.py:1013: InsecureRequestWarning: Unverified HTTPS request is being made to host 'ads.atmosphere.copernicus.eu'. Adding certificate verification is strongly advised. See: https://urllib3.readthedocs.io/en/latest/advanced-usage.html#ssl-warnings\n",
      "  warnings.warn(\n",
      "2021-11-03 06:01:42,892 INFO Request is running\n",
      "/Users/julia_wagemann/opt/anaconda3/lib/python3.8/site-packages/urllib3/connectionpool.py:1013: InsecureRequestWarning: Unverified HTTPS request is being made to host 'ads.atmosphere.copernicus.eu'. Adding certificate verification is strongly advised. See: https://urllib3.readthedocs.io/en/latest/advanced-usage.html#ssl-warnings\n",
      "  warnings.warn(\n",
      "/Users/julia_wagemann/opt/anaconda3/lib/python3.8/site-packages/urllib3/connectionpool.py:1013: InsecureRequestWarning: Unverified HTTPS request is being made to host 'ads.atmosphere.copernicus.eu'. Adding certificate verification is strongly advised. See: https://urllib3.readthedocs.io/en/latest/advanced-usage.html#ssl-warnings\n",
      "  warnings.warn(\n",
      "/Users/julia_wagemann/opt/anaconda3/lib/python3.8/site-packages/urllib3/connectionpool.py:1013: InsecureRequestWarning: Unverified HTTPS request is being made to host 'ads.atmosphere.copernicus.eu'. Adding certificate verification is strongly advised. See: https://urllib3.readthedocs.io/en/latest/advanced-usage.html#ssl-warnings\n",
      "  warnings.warn(\n",
      "/Users/julia_wagemann/opt/anaconda3/lib/python3.8/site-packages/urllib3/connectionpool.py:1013: InsecureRequestWarning: Unverified HTTPS request is being made to host 'ads.atmosphere.copernicus.eu'. Adding certificate verification is strongly advised. See: https://urllib3.readthedocs.io/en/latest/advanced-usage.html#ssl-warnings\n",
      "  warnings.warn(\n",
      "2021-11-03 06:01:55,280 INFO Request is completed\n",
      "2021-11-03 06:01:55,280 INFO Downloading https://download-0003.copernicus-atmosphere.eu/cache-compute-0003/cache/data3/adaptor.cams_regional_fc.retrieve-1635915711.4971302-26314-3-701036f7-c94c-481f-be38-470268301592.nc to ./data/cams/20210220-25_eur_aq_analysis_dust_pm10.nc (323M)\n",
      "/Users/julia_wagemann/opt/anaconda3/lib/python3.8/site-packages/urllib3/connectionpool.py:1013: InsecureRequestWarning: Unverified HTTPS request is being made to host 'download-0003.copernicus-atmosphere.eu'. Adding certificate verification is strongly advised. See: https://urllib3.readthedocs.io/en/latest/advanced-usage.html#ssl-warnings\n",
      "  warnings.warn(\n",
      "2021-11-03 06:03:02,403 INFO Download rate 4.8M/s  \n"
     ]
    },
    {
     "data": {
      "text/plain": [
       "Result(content_length=338694548,content_type=application/x-netcdf,location=https://download-0003.copernicus-atmosphere.eu/cache-compute-0003/cache/data3/adaptor.cams_regional_fc.retrieve-1635915711.4971302-26314-3-701036f7-c94c-481f-be38-470268301592.nc)"
      ]
     },
     "execution_count": 2,
     "metadata": {},
     "output_type": "execute_result"
    }
   ],
   "source": [
    "import cdsapi\n",
    "c = cdsapi.Client(url=URL, key=KEY)\n",
    "c.retrieve(\n",
    "    'cams-europe-air-quality-forecasts',\n",
    "    {\n",
    "        'model': 'ensemble',\n",
    "        'date': '2021-02-20/2021-02-25',\n",
    "        'format': 'netcdf',\n",
    "        'variable': [\n",
    "            'dust', 'particulate_matter_10um',\n",
    "        ],\n",
    "        'type': 'analysis',\n",
    "        'time': [\n",
    "            '00:00', '01:00', '02:00',\n",
    "            '03:00', '04:00', '05:00',\n",
    "            '06:00', '07:00', '08:00',\n",
    "            '09:00', '10:00', '11:00',\n",
    "            '12:00', '13:00', '14:00',\n",
    "            '15:00', '16:00', '17:00',\n",
    "            '18:00', '19:00', '20:00',\n",
    "            '21:00', '22:00', '23:00',\n",
    "        ],\n",
    "        'level': '0',\n",
    "        'leadtime_hour': '0',\n",
    "    },\n",
    "    './data/cams/20210220-25_eur_aq_analysis_dust_pm10.nc')"
   ]
  },
  {
   "cell_type": "markdown",
   "metadata": {},
   "source": [
    "<br>"
   ]
  },
  {
   "cell_type": "markdown",
   "metadata": {},
   "source": [
    "### <a id='cams_global_forecast'></a>Example: CAMS global atmospheric composition forecasts"
   ]
  },
  {
   "cell_type": "markdown",
   "metadata": {},
   "source": [
    "> Data used in [212_cams_dust_monitoring](./212_cams_dust_monitoring.ipynb)"
   ]
  },
  {
   "cell_type": "markdown",
   "metadata": {},
   "source": [
    "CDS API name: `cams-global-atmospheric-composition-forecasts`\n",
    "\n",
    "> - Variable: `total_aerosol_optical_depth_550nm`\n",
    "> - Date: `2021-02-20/2021-02-20`\n",
    "> - Time: `00:00`\n",
    "> - Leadtime hour: `[0,3,6,9,12,15,18,21,24,27,30,33,36,39,42,45,48,51,54,57,60,63,66,69,72,75,78,81,84,87,90]`\n",
    "> - Type: `forecast`\n",
    "> - Format: `netcdf_zip`"
   ]
  },
  {
   "cell_type": "code",
   "execution_count": 3,
   "metadata": {},
   "outputs": [
    {
     "name": "stderr",
     "output_type": "stream",
     "text": [
      "/Users/julia_wagemann/opt/anaconda3/lib/python3.8/site-packages/urllib3/connectionpool.py:1013: InsecureRequestWarning: Unverified HTTPS request is being made to host 'ads.atmosphere.copernicus.eu'. Adding certificate verification is strongly advised. See: https://urllib3.readthedocs.io/en/latest/advanced-usage.html#ssl-warnings\n",
      "  warnings.warn(\n",
      "2021-11-03 06:34:34,923 INFO Welcome to the CDS\n",
      "2021-11-03 06:34:34,924 INFO Sending request to https://ads.atmosphere.copernicus.eu/api/v2/resources/cams-global-atmospheric-composition-forecasts\n",
      "/Users/julia_wagemann/opt/anaconda3/lib/python3.8/site-packages/urllib3/connectionpool.py:1013: InsecureRequestWarning: Unverified HTTPS request is being made to host 'ads.atmosphere.copernicus.eu'. Adding certificate verification is strongly advised. See: https://urllib3.readthedocs.io/en/latest/advanced-usage.html#ssl-warnings\n",
      "  warnings.warn(\n",
      "2021-11-03 06:34:35,009 INFO Request is queued\n",
      "/Users/julia_wagemann/opt/anaconda3/lib/python3.8/site-packages/urllib3/connectionpool.py:1013: InsecureRequestWarning: Unverified HTTPS request is being made to host 'ads.atmosphere.copernicus.eu'. Adding certificate verification is strongly advised. See: https://urllib3.readthedocs.io/en/latest/advanced-usage.html#ssl-warnings\n",
      "  warnings.warn(\n",
      "2021-11-03 06:34:36,069 INFO Request is running\n",
      "/Users/julia_wagemann/opt/anaconda3/lib/python3.8/site-packages/urllib3/connectionpool.py:1013: InsecureRequestWarning: Unverified HTTPS request is being made to host 'ads.atmosphere.copernicus.eu'. Adding certificate verification is strongly advised. See: https://urllib3.readthedocs.io/en/latest/advanced-usage.html#ssl-warnings\n",
      "  warnings.warn(\n",
      "/Users/julia_wagemann/opt/anaconda3/lib/python3.8/site-packages/urllib3/connectionpool.py:1013: InsecureRequestWarning: Unverified HTTPS request is being made to host 'ads.atmosphere.copernicus.eu'. Adding certificate verification is strongly advised. See: https://urllib3.readthedocs.io/en/latest/advanced-usage.html#ssl-warnings\n",
      "  warnings.warn(\n",
      "/Users/julia_wagemann/opt/anaconda3/lib/python3.8/site-packages/urllib3/connectionpool.py:1013: InsecureRequestWarning: Unverified HTTPS request is being made to host 'ads.atmosphere.copernicus.eu'. Adding certificate verification is strongly advised. See: https://urllib3.readthedocs.io/en/latest/advanced-usage.html#ssl-warnings\n",
      "  warnings.warn(\n",
      "2021-11-03 06:34:43,375 INFO Request is completed\n",
      "2021-11-03 06:34:43,376 INFO Downloading https://download-0000.copernicus-atmosphere.eu/cache-compute-0000/cache/data8/adaptor.mars_constrained.external-1635917679.8695543-12881-12-559d946a-1668-4e0e-b09c-677b2826f29f.zip to ./data/cams/20210220_cams_global_forecast_aod.zip (24M)\n",
      "/Users/julia_wagemann/opt/anaconda3/lib/python3.8/site-packages/urllib3/connectionpool.py:1013: InsecureRequestWarning: Unverified HTTPS request is being made to host 'download-0000.copernicus-atmosphere.eu'. Adding certificate verification is strongly advised. See: https://urllib3.readthedocs.io/en/latest/advanced-usage.html#ssl-warnings\n",
      "  warnings.warn(\n",
      "2021-11-03 06:34:48,483 INFO Download rate 4.7M/s   \n"
     ]
    },
    {
     "data": {
      "text/plain": [
       "Result(content_length=25172556,content_type=application/zip,location=https://download-0000.copernicus-atmosphere.eu/cache-compute-0000/cache/data8/adaptor.mars_constrained.external-1635917679.8695543-12881-12-559d946a-1668-4e0e-b09c-677b2826f29f.zip)"
      ]
     },
     "execution_count": 3,
     "metadata": {},
     "output_type": "execute_result"
    }
   ],
   "source": [
    "import cdsapi\n",
    "c = cdsapi.Client(url=URL, key=KEY)\n",
    "c.retrieve(\n",
    "    'cams-global-atmospheric-composition-forecasts',\n",
    "    {\n",
    "        'variable': 'total_aerosol_optical_depth_550nm',\n",
    "        'date': '2021-02-20/2021-02-20',\n",
    "        'time': '00:00',\n",
    "        'leadtime_hour': [\n",
    "            '0', '12', '15',\n",
    "            '18', '21', '24',\n",
    "            '27', '3', '30',\n",
    "            '33', '36', '39',\n",
    "            '42', '45', '48',\n",
    "            '51', '54', '57',\n",
    "            '6', '60', '63',\n",
    "            '66', '69', '72',\n",
    "            '75', '78', '81',\n",
    "            '84', '87', '9',\n",
    "            '90',\n",
    "        ],\n",
    "        'type': 'forecast',\n",
    "        'format': 'netcdf_zip',\n",
    "    },\n",
    "    './data/cams/20210220_cams_global_forecast_aod.zip')"
   ]
  },
  {
   "cell_type": "markdown",
   "metadata": {},
   "source": [
    "<br>"
   ]
  },
  {
   "cell_type": "markdown",
   "metadata": {},
   "source": [
    "### <a id='cams_global_forecast'></a>Example: CAMS global atmospheric composition forecasts"
   ]
  },
  {
   "cell_type": "markdown",
   "metadata": {},
   "source": [
    "> Data used in [211_cams_fire_monitoring](./211_cams_fire_monitoring.ipynb)"
   ]
  },
  {
   "cell_type": "markdown",
   "metadata": {},
   "source": [
    "CDS API name: `cams-global-atmospheric-composition-forecasts`\n",
    "\n",
    "> - Variable: `organic_matter_aerosol_optical_depth_550nm`\n",
    "> - Date: `2021-08-01/2021-08-08`\n",
    "> - Time: `00:00`\n",
    "> - Leadtime hour: `[0, 6, 12, 18, 24, 30, 36, 42, 48]`\n",
    "> - Type: `forecast`\n",
    "> - Area: `[80, -150, 25, -50]`\n",
    "> - Format: `netcdf_zip`"
   ]
  },
  {
   "cell_type": "code",
   "execution_count": 3,
   "metadata": {},
   "outputs": [
    {
     "name": "stderr",
     "output_type": "stream",
     "text": [
      "/Users/julia_wagemann/opt/anaconda3/lib/python3.8/site-packages/urllib3/connectionpool.py:1013: InsecureRequestWarning: Unverified HTTPS request is being made to host 'ads.atmosphere.copernicus.eu'. Adding certificate verification is strongly advised. See: https://urllib3.readthedocs.io/en/latest/advanced-usage.html#ssl-warnings\n",
      "  warnings.warn(\n",
      "2021-11-05 15:47:36,059 INFO Welcome to the CDS\n",
      "2021-11-05 15:47:36,060 INFO Sending request to https://ads.atmosphere.copernicus.eu/api/v2/resources/cams-global-atmospheric-composition-forecasts\n",
      "/Users/julia_wagemann/opt/anaconda3/lib/python3.8/site-packages/urllib3/connectionpool.py:1013: InsecureRequestWarning: Unverified HTTPS request is being made to host 'ads.atmosphere.copernicus.eu'. Adding certificate verification is strongly advised. See: https://urllib3.readthedocs.io/en/latest/advanced-usage.html#ssl-warnings\n",
      "  warnings.warn(\n",
      "2021-11-05 15:47:36,200 INFO Request is completed\n",
      "2021-11-05 15:47:36,201 INFO Downloading https://download-0000.copernicus-atmosphere.eu/cache-compute-0000/cache/data5/adaptor.mars_constrained.internal-1629130472.331898-14316-15-bf208880-3d10-4fda-b4c4-60733dd5484b.zip to ./data/cams/2021-08_NAmerica_organicMatterAOD.zip (2.1M)\n",
      "/Users/julia_wagemann/opt/anaconda3/lib/python3.8/site-packages/urllib3/connectionpool.py:1013: InsecureRequestWarning: Unverified HTTPS request is being made to host 'download-0000.copernicus-atmosphere.eu'. Adding certificate verification is strongly advised. See: https://urllib3.readthedocs.io/en/latest/advanced-usage.html#ssl-warnings\n",
      "  warnings.warn(\n",
      "2021-11-05 15:47:37,326 INFO Download rate 1.9M/s   \n"
     ]
    },
    {
     "data": {
      "text/plain": [
       "Result(content_length=2219756,content_type=application/zip,location=https://download-0000.copernicus-atmosphere.eu/cache-compute-0000/cache/data5/adaptor.mars_constrained.internal-1629130472.331898-14316-15-bf208880-3d10-4fda-b4c4-60733dd5484b.zip)"
      ]
     },
     "execution_count": 3,
     "metadata": {},
     "output_type": "execute_result"
    }
   ],
   "source": [
    "import cdsapi\n",
    "c = cdsapi.Client(url=URL, key=KEY)\n",
    "c.retrieve(\n",
    "    'cams-global-atmospheric-composition-forecasts',\n",
    "    {\n",
    "        'date': '2021-08-01/2021-08-08',\n",
    "        'type': 'forecast',\n",
    "        'format': 'netcdf_zip',\n",
    "        'variable': 'organic_matter_aerosol_optical_depth_550nm',\n",
    "        'time': '00:00',\n",
    "        'leadtime_hour': [\n",
    "            '0', '12', '18',\n",
    "            '6',\n",
    "        ],\n",
    "        'area': [\n",
    "            80, -150, 25,\n",
    "            -50,\n",
    "        ],\n",
    "    },\n",
    "    './data/cams/2021-08_NAmerica_organicMatterAOD.zip')"
   ]
  },
  {
   "cell_type": "markdown",
   "metadata": {},
   "source": [
    "<hr>"
   ]
  },
  {
   "cell_type": "markdown",
   "metadata": {},
   "source": [
    "<p><img src='./img/copernicus_logo.png' align='right' alt='Logo EU Copernicus' width='20%'></img></p>\n",
    "<br><br><br><br><br>\n",
    "<span style='float:right'><p style=\\\"text-align:right;\\\">This project is licensed under <a href=\"./LICENSE\">APACHE License 2.0</a>. | <a href=\\\"https://github.com/ecmwf-projects/copernicus-training\">View on GitHub</a></span>"
   ]
  }
 ],
 "metadata": {
  "kernelspec": {
   "display_name": "Python 3",
   "language": "python",
   "name": "python3"
  },
  "language_info": {
   "codemirror_mode": {
    "name": "ipython",
    "version": 3
   },
   "file_extension": ".py",
   "mimetype": "text/x-python",
   "name": "python",
   "nbconvert_exporter": "python",
   "pygments_lexer": "ipython3",
   "version": "3.8.8"
  }
 },
 "nbformat": 4,
 "nbformat_minor": 4
}
