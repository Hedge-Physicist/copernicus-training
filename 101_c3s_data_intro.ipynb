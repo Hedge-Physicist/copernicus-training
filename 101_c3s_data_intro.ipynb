{
 "cells": [
  {
   "cell_type": "markdown",
   "metadata": {},
   "source": [
    "<img src='./img/logoline_12000.png' align='right' width='100%'></img>"
   ]
  },
  {
   "cell_type": "markdown",
   "metadata": {},
   "source": [
    "<br>"
   ]
  },
  {
   "cell_type": "markdown",
   "metadata": {},
   "source": [
    "# Copernicus Climate Change Service (C3S) - Data overview\n",
    "\n"
   ]
  },
  {
   "cell_type": "markdown",
   "metadata": {},
   "source": [
    "This notebook provides an introduction to the main data product types offered by the Copernicus Climate Data Store (CDS). The CDS offers data about the Earth's past, present and future climate."
   ]
  },
  {
   "cell_type": "markdown",
   "metadata": {},
   "source": [
    "* [Climate reanalysis](#climate_reanalysis)\n",
    "* [Seasonal forecasts](#seasonal_forecasts)\n",
    "* [Climate projections](#climate_projections)"
   ]
  },
  {
   "cell_type": "markdown",
   "metadata": {},
   "source": [
    "<hr>"
   ]
  },
  {
   "cell_type": "markdown",
   "metadata": {},
   "source": [
    "## <a id='climate_reanalysis'></a> Climate reanalysis"
   ]
  },
  {
   "cell_type": "markdown",
   "metadata": {},
   "source": [
    "ERA5 is the fifth generation ECMWF reanalysis for the global climate and weather. Reanalysis combines model data with observations from across the world into a globally complete and consistent dataset. The family of ERA5 datasets consists of [ERA5](#era5) and [ERA5-Land](#era5-land)."
   ]
  },
  {
   "cell_type": "markdown",
   "metadata": {
    "tags": []
   },
   "source": [
    "### <a id='era5'></a>ERA5 climate reanalysis"
   ]
  },
  {
   "cell_type": "markdown",
   "metadata": {},
   "source": [
    "> **Spatial resolution:** regridded to a regular `lat-lon grid of 0.25 degrees` <br>\n",
    "> **Temporal resolution:**  `hourly and monthly aggregates`<br>\n",
    "> **Temporal coverage:** `from 1950-1979 (preliminary release)` and `from 1979 to present (final release)`"
   ]
  },
  {
   "cell_type": "markdown",
   "metadata": {},
   "source": [
    "ERA5 data is available from 1950, split into two main Climate Data Store entries: (i) `1950-1978 (preliminary release)` and (ii) `from 1979 to present (final release plus timely updates)`.\n",
    "For each of the entries, there are four subsets available: hourly and monthly average products on both, single levels (surface parameters) and pressure levels (up to 137 pressure levels). \n",
    "\n",
    "ERA5 data on the CDS is updated daily up to about 5 days behind real time and monthly mean updates are available about 5 days after the end of the month. Data no more than three months behind real time is called ERA5T. For this reason, ERA5 data requests from the CDS may return a mixture of ERA5 and ERA5T data and the netCDF will have an additional dimension called `expver` containing 1 and 5. See more information how to treat data that return a mixture of ERA5 and ERA5T [here](https://confluence.ecmwf.int/display/CUSF/ERA5+CDS+requests+which+return+a+mixture+of+ERA5+and+ERA5T+data)."
   ]
  },
  {
   "cell_type": "markdown",
   "metadata": {},
   "source": [
    "\n",
    "\n",
    "#### Public release from 1979 to present\n",
    "\n",
    "* **Hourly data**\n",
    "  * [ERA5 hourly data on single levels from 1979 to present](https://cds.climate.copernicus.eu/cdsapp#!/dataset/reanalysis-era5-single-levels?tab=overview)\n",
    "  * [ERA5 hourly data on pressure levels from 1979 to present](https://cds.climate.copernicus.eu/cdsapp#!/dataset/reanalysis-era5-pressure-levels?tab=overview)\n",
    "\n",
    "\n",
    "* **Monthly aggregates**\n",
    "  * [ERA5 monthly averaged data on single levels from 1979 to present](https://cds.climate.copernicus.eu/cdsapp#!/dataset/reanalysis-era5-single-levels-monthly-means?tab=overview)\n",
    "  * [ERA5 monthly averaged data on pressure levels from 1979 to present](https://cds.climate.copernicus.eu/cdsapp#!/dataset/reanalysis-era5-pressure-levels-monthly-means?tab=overview) \n"
   ]
  },
  {
   "cell_type": "markdown",
   "metadata": {},
   "source": [
    "#### Preliminary version from 1950 to 1978\n",
    "* **Hourly data**\n",
    "  * *[ERA5 hourly data on single levels from 1950 to 1978(preliminary version)](https://cds.climate.copernicus.eu/cdsapp#!/dataset/reanalysis-era5-single-levels-preliminary-back-extension?tab=overview)*\n",
    "  * *[ERA5 hourly data on pressure levels from 1950 to 1978 (preliminary version)](https://cds.climate.copernicus.eu/cdsapp#!/dataset/reanalysis-era5-pressure-levels-preliminary-back-extension?tab=overview)*\n",
    "  \n",
    "  \n",
    "* **Monthly aggregates**\n",
    "  * *[ERA5 monthly averaged data on single levels from 1950 to 1978 (preliminary version)](https://cds.climate.copernicus.eu/cdsapp#!/dataset/reanalysis-era5-single-levels-monthly-means-preliminary-back-extension?tab=overview)*\n",
    "  * *[ERA5 monthly averaged data on pressure levels from 1950 to 1978 (preliminary version)](https://cds.climate.copernicus.eu/cdsapp#!/dataset/reanalysis-era5-pressure-levels-monthly-means-preliminary-back-extension?tab=overview)*"
   ]
  },
  {
   "cell_type": "markdown",
   "metadata": {},
   "source": [
    "#### Tutorials using ERA5\n",
    "\n",
    "* [111 - C3S - Climatologies and anomalies](./111_c3s_climatologies_anomalies.ipynb)\n",
    "* [112 - C3S - Climate Extremes](./112_c3s_climate_extremes.ipynb)"
   ]
  },
  {
   "cell_type": "markdown",
   "metadata": {},
   "source": [
    "<br>"
   ]
  },
  {
   "cell_type": "markdown",
   "metadata": {},
   "source": [
    "### <a id='era5-land'></a>ERA5-Land climate reanalysis\n"
   ]
  },
  {
   "cell_type": "markdown",
   "metadata": {},
   "source": [
    "> **Spatial resolution:** regridded to a regular `lat-lon grid of 0.1 degrees` <br>\n",
    "> **Temporal resolution:**  `hourly and monthly aggregates`<br>\n",
    "> **Temporal coverage:** `from 1950 to 2-3 months before the present`"
   ]
  },
  {
   "cell_type": "markdown",
   "metadata": {},
   "source": [
    "ERA5-Land provides a consistent view of the evolution of land variables at an enhanced resolution (~10 km) compared to ERA5. ERA5-Land is updated monthly, with a delay of about three months relatively to the current data. ERA5-Land on the CDS is available as two subsets: (i) `ERA5-Land hourly data from 1950 to present` and (ii) `ERA5-Land monthly averaged data from 1981 to present`."
   ]
  },
  {
   "cell_type": "markdown",
   "metadata": {},
   "source": [
    "* [ERA5-Land hourly data from 1950 to present](https://cds.climate.copernicus.eu/cdsapp#!/dataset/reanalysis-era5-land)\n",
    "* [ERA5-Land monthly averaged data from 1981 to present](https://cds.climate.copernicus.eu/cdsapp#!/dataset/reanalysis-era5-land-monthly-means?tab=overview)"
   ]
  },
  {
   "cell_type": "markdown",
   "metadata": {},
   "source": [
    "#### Tutorials using ERA5-Land\n",
    "\n",
    "* [113 - C3S - Climate Indices](./113_c3s_climate_indices.ipynb)"
   ]
  },
  {
   "cell_type": "markdown",
   "metadata": {},
   "source": [
    "<hr>"
   ]
  },
  {
   "cell_type": "markdown",
   "metadata": {},
   "source": [
    "## <a id='seasonal_forecasts'></a> Seasonal forecasts"
   ]
  },
  {
   "cell_type": "markdown",
   "metadata": {},
   "source": [
    "> **Spatial resolution:** regridded to a regular `lat-lon grid of 1 degrees` <br>\n",
    "> **Temporal resolution:**  `Subdaily and daily` and `monthly statistics`<br>\n",
    "> **Temporal coverage:** `hindcasts for the period 1993-2016` and `real-time forecasts (from 2017 onwards)`"
   ]
  },
  {
   "cell_type": "markdown",
   "metadata": {},
   "source": [
    "Seasonal forecasts provide a long-range outlook of changes in the Earth system over periods of a few weeks or months. Seasonal forecasts are different from weather forecasts, which give a lot more precise detail - both in time and space - of the evolution of the state of the atmosphere over a few days into the future. Beyond a few days, the chaotic nature of the atmosphere limits the possibility to predict precise changes at local scales. This is one of the reasons long-range forecasts of atmospheric conditions have large uncertainties. To quantify such uncertainties, long-range forecasts use `ensembles`, and meaningful forecast products reflect distributions of outcomes.\n",
    "\n",
    "#### Multi-system seasonal forecast service\n",
    "\n",
    "\n",
    "#### The role of hindcasts\n"
   ]
  },
  {
   "cell_type": "markdown",
   "metadata": {},
   "source": [
    "<br>"
   ]
  },
  {
   "cell_type": "markdown",
   "metadata": {},
   "source": [
    "The CDS offers seasonal forecasts in several catalogue entries, defined by the level of post-processing applied as well as the type of variable (single-level or on pressure levels):"
   ]
  },
  {
   "cell_type": "markdown",
   "metadata": {
    "tags": []
   },
   "source": [
    "### <a id='seasonal_daily'></a>Daily and sub-daily data\n",
    "\n",
    "Original temporal resolution of seasonal forecast data is subdaily and daily. Some single-level parameters have an update frequency of 6 hours (subdaily) and others of 24 hours (daily). For this reason, the temporal resolution of seasonal forecasts on single levels are both, daily and subdaily. The link below provides a table with the main variables including the update frequency for each variable. \n",
    "\n",
    "Seasonal forecast data on pressure levels have an update frequency of 12 hours. For this reason, the temporal resolution for seasonal forecast parameters on pressure levels is only subdaily.\n",
    "\n",
    "* [Seasonal forecast daily and sub-daily data on single levels](https://cds.climate.copernicus.eu/cdsapp#!/dataset/seasonal-original-single-levels?tab=overview)\n",
    "* [Seasonal forecast sub-daily data on pressure levels](https://cds.climate.copernicus.eu/cdsapp#!/dataset/seasonal-original-pressure-levels?tab=overview)"
   ]
  },
  {
   "cell_type": "markdown",
   "metadata": {
    "tags": []
   },
   "source": [
    "### <a id='seasonal_monthly'></a>Monthly statistics\n",
    "\n",
    "Monthly statistics provide monthly average, minimum, maximum and standard deviation for all initialisation dates. The monthly statistics are available for both, real-time forecasts (from 2017 onwards) and hindcasts for the period 1993-2016.\n",
    "\n",
    "* [Seasonal forecast monthly statistics on single levels](https://cds.climate.copernicus.eu/cdsapp#!/dataset/seasonal-monthly-single-levels?tab=overview)\n",
    "* [Seasonal forecast monthly statistics on pressure levels](https://cds.climate.copernicus.eu/cdsapp#!/dataset/seasonal-monthly-pressure-levels?tab=overview)"
   ]
  },
  {
   "cell_type": "markdown",
   "metadata": {},
   "source": [
    "### <a id='seasonal_anomalies'></a>Anomalies\n",
    "\n",
    "Monthly anomalies contain the anomalies for the ensemble mean for each system and the individual ensemble members. Anomalies are only available for real-time forecasts (from 2017 onwards).\n",
    "\n",
    "* [Seasonal forecast anomalies on single levels](https://cds.climate.copernicus.eu/cdsapp#!/dataset/seasonal-postprocessed-single-levels?tab=overview)\n",
    "* [Seasonal forecast anomalies on pressure levels](https://cds.climate.copernicus.eu/cdsapp#!/dataset/seasonal-postprocessed-pressure-levels?tab=overview)"
   ]
  },
  {
   "cell_type": "markdown",
   "metadata": {},
   "source": [
    "<hr>"
   ]
  },
  {
   "cell_type": "markdown",
   "metadata": {},
   "source": [
    "## <a id='climate_projections'></a>Climate projections"
   ]
  },
  {
   "cell_type": "markdown",
   "metadata": {
    "tags": []
   },
   "source": [
    "### Coupled Model-Intercomparison Project (CMIP)\n",
    "\n",
    "#### Sixth phase\n",
    "* [CMIP6 climate projections](https://cds.climate.copernicus.eu/cdsapp#!/dataset/projections-cmip6?tab=overview)\n",
    "\n",
    "\n",
    "#### Fifth phase\n",
    "* [CMIP5 daily data on single levels]()\n",
    "* [CMIP5 daily data on pressure levels]()\n",
    "\n",
    "\n",
    "* [CMIP5 monthly data on single levels]()\n",
    "* [CMIP5 monthly data on pressure levels]()"
   ]
  },
  {
   "cell_type": "markdown",
   "metadata": {},
   "source": [
    "### Coordinated Regional Climate Downscaling Experiment (CORDEX)\n",
    "* [CORDEX regional climate model data on single levels](https://cds.climate.copernicus.eu/cdsapp#!/dataset/projections-cordex-domains-single-levels?tab=overview)"
   ]
  },
  {
   "cell_type": "markdown",
   "metadata": {},
   "source": [
    "<br>"
   ]
  },
  {
   "cell_type": "markdown",
   "metadata": {},
   "source": [
    "<hr>"
   ]
  },
  {
   "cell_type": "markdown",
   "metadata": {},
   "source": [
    "<p><img src='./img/copernicus_logo.png' align='right' alt='Logo EU Copernicus' width='20%'></img></p>\n",
    "<br><br><br><br>\n",
    "<span style='float:right'><p style=\\\"text-align:right;\\\">This project is licensed under <a href=\"./LICENSE\">APACHE License 2.0</a>. | <a href=\\\"https://github.com/ecmwf-projects/copernicus-training\">View on GitHub</a></span>"
   ]
  }
 ],
 "metadata": {
  "kernelspec": {
   "display_name": "Python 3",
   "language": "python",
   "name": "python3"
  },
  "language_info": {
   "codemirror_mode": {
    "name": "ipython",
    "version": 3
   },
   "file_extension": ".py",
   "mimetype": "text/x-python",
   "name": "python",
   "nbconvert_exporter": "python",
   "pygments_lexer": "ipython3",
   "version": "3.7.0"
  }
 },
 "nbformat": 4,
 "nbformat_minor": 4
}
