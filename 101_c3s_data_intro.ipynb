{
 "cells": [
  {
   "cell_type": "markdown",
   "metadata": {},
   "source": [
    "<img src='./img/logoline_12000.png' align='right' width='100%'></img>"
   ]
  },
  {
   "cell_type": "markdown",
   "metadata": {},
   "source": [
    "<br>"
   ]
  },
  {
   "cell_type": "markdown",
   "metadata": {},
   "source": [
    "# Copernicus Climate Change Service (C3S) - Data overview\n",
    "\n"
   ]
  },
  {
   "cell_type": "markdown",
   "metadata": {},
   "source": [
    "This notebook provides an introduction to the main data product types offered by the Copernicus Climate Data Store (CDS). The CDS offers data about the Earth's past, present and future climate."
   ]
  },
  {
   "cell_type": "markdown",
   "metadata": {},
   "source": [
    "* [Climate reanalysis](#climate_reanalysis)\n",
    "* [Seasonal forecasts](#seasonal_forecasts)\n",
    "* [Climate projections](#climate_projections)\n",
    "* [Observations](#observations)"
   ]
  },
  {
   "cell_type": "markdown",
   "metadata": {},
   "source": [
    "<hr>"
   ]
  },
  {
   "cell_type": "markdown",
   "metadata": {},
   "source": [
    "## <a id='climate_reanalysis'></a> Climate reanalysis"
   ]
  },
  {
   "cell_type": "markdown",
   "metadata": {},
   "source": [
    "ERA5 is the fifth generation ECMWF reanalysis for the global climate and weather. Reanalysis combines model data with observations from across the world into a globally complete and consistent dataset. The family of ERA5 datasets consists of [ERA5](#era5) and [ERA5-Land](#era5-land)."
   ]
  },
  {
   "cell_type": "markdown",
   "metadata": {
    "tags": []
   },
   "source": [
    "### <a id='era5'></a>ERA5 climate reanalysis"
   ]
  },
  {
   "cell_type": "markdown",
   "metadata": {},
   "source": [
    "> **Spatial resolution:** regridded to a regular `lat-lon grid of 0.25 degrees` <br>\n",
    "> **Temporal resolution:**  `hourly and monthly aggregates`<br>\n",
    "> **Temporal coverage:** `from 1950-1979 (preliminary release)` and `from 1979 to present (final release)`"
   ]
  },
  {
   "cell_type": "markdown",
   "metadata": {},
   "source": [
    "ERA5 data is available from 1950, split into two main Climate Data Store entries: (i) `1950-1978 (preliminary release)` and (ii) `from 1979 to present (final release plus timely updates)`.\n",
    "For each of the entries, there are four subsets available: hourly and monthly average products on both, single levels (surface parameters) and pressure levels (up to 137 pressure levels). \n",
    "\n",
    "ERA5 data on the CDS is updated daily up to about 5 days behind real time and monthly mean updates are available about 5 days after the end of the month. Data no more than three months behind real time is called ERA5T. For this reason, ERA5 data requests from the CDS may return a mixture of ERA5 and ERA5T data and the netCDF will have an additional dimension called `expver` containing 1 and 5. See more information how to treat data that return a mixture of ERA5 and ERA5T [here](https://confluence.ecmwf.int/display/CUSF/ERA5+CDS+requests+which+return+a+mixture+of+ERA5+and+ERA5T+data)."
   ]
  },
  {
   "cell_type": "markdown",
   "metadata": {},
   "source": [
    "\n",
    "\n",
    "#### Public release from 1979 to present\n",
    "\n",
    "* **Hourly data**\n",
    "  * [ERA5 hourly data on single levels from 1979 to present](https://cds.climate.copernicus.eu/cdsapp#!/dataset/reanalysis-era5-single-levels?tab=overview)\n",
    "  * [ERA5 hourly data on pressure levels from 1979 to present](https://cds.climate.copernicus.eu/cdsapp#!/dataset/reanalysis-era5-pressure-levels?tab=overview)\n",
    "\n",
    "\n",
    "* **Monthly aggregates**\n",
    "  * [ERA5 monthly averaged data on single levels from 1979 to present](https://cds.climate.copernicus.eu/cdsapp#!/dataset/reanalysis-era5-single-levels-monthly-means?tab=overview)\n",
    "  * [ERA5 monthly averaged data on pressure levels from 1979 to present](https://cds.climate.copernicus.eu/cdsapp#!/dataset/reanalysis-era5-pressure-levels-monthly-means?tab=overview) \n"
   ]
  },
  {
   "cell_type": "markdown",
   "metadata": {},
   "source": [
    "#### Preliminary version from 1950 to 1978\n",
    "* **Hourly data**\n",
    "  * *[ERA5 hourly data on single levels from 1950 to 1978(preliminary version)](https://cds.climate.copernicus.eu/cdsapp#!/dataset/reanalysis-era5-single-levels-preliminary-back-extension?tab=overview)*\n",
    "  * *[ERA5 hourly data on pressure levels from 1950 to 1978 (preliminary version)](https://cds.climate.copernicus.eu/cdsapp#!/dataset/reanalysis-era5-pressure-levels-preliminary-back-extension?tab=overview)*\n",
    "  \n",
    "  \n",
    "* **Monthly aggregates**\n",
    "  * *[ERA5 monthly averaged data on single levels from 1950 to 1978 (preliminary version)](https://cds.climate.copernicus.eu/cdsapp#!/dataset/reanalysis-era5-single-levels-monthly-means-preliminary-back-extension?tab=overview)*\n",
    "  * *[ERA5 monthly averaged data on pressure levels from 1950 to 1978 (preliminary version)](https://cds.climate.copernicus.eu/cdsapp#!/dataset/reanalysis-era5-pressure-levels-monthly-means-preliminary-back-extension?tab=overview)*"
   ]
  },
  {
   "cell_type": "markdown",
   "metadata": {},
   "source": [
    "#### Tutorials using ERA5\n",
    "\n",
    "* [111 - C3S - Climatologies and anomalies](./111_c3s_climatologies_anomalies.ipynb)\n",
    "* [112 - C3S - Climate Extremes](./112_c3s_climate_extremes.ipynb)"
   ]
  },
  {
   "cell_type": "markdown",
   "metadata": {},
   "source": [
    "<br>"
   ]
  },
  {
   "cell_type": "markdown",
   "metadata": {},
   "source": [
    "### <a id='era5-land'></a>ERA5-Land climate reanalysis\n"
   ]
  },
  {
   "cell_type": "markdown",
   "metadata": {},
   "source": [
    "> **Spatial resolution:** regridded to a regular `lat-lon grid of 0.1 degrees` <br>\n",
    "> **Temporal resolution:**  `hourly and monthly aggregates`<br>\n",
    "> **Temporal coverage:** `from 1950 to 2-3 months before the present`"
   ]
  },
  {
   "cell_type": "markdown",
   "metadata": {},
   "source": [
    "ERA5-Land provides a consistent view of the evolution of land variables at an enhanced resolution (~10 km) compared to ERA5. ERA5-Land is updated monthly, with a delay of about three months relatively to the current data. ERA5-Land on the CDS is available as two subsets: (i) `ERA5-Land hourly data from 1950 to present` and (ii) `ERA5-Land monthly averaged data from 1981 to present`."
   ]
  },
  {
   "cell_type": "markdown",
   "metadata": {},
   "source": [
    "* [ERA5-Land hourly data from 1950 to present](https://cds.climate.copernicus.eu/cdsapp#!/dataset/reanalysis-era5-land)\n",
    "* [ERA5-Land monthly averaged data from 1981 to present](https://cds.climate.copernicus.eu/cdsapp#!/dataset/reanalysis-era5-land-monthly-means?tab=overview)"
   ]
  },
  {
   "cell_type": "markdown",
   "metadata": {},
   "source": [
    "#### Tutorials using ERA5-Land\n",
    "\n",
    "* [113 - C3S - Climate Indices](./113_c3s_climate_indices.ipynb)"
   ]
  },
  {
   "cell_type": "markdown",
   "metadata": {},
   "source": [
    "<hr>"
   ]
  },
  {
   "cell_type": "markdown",
   "metadata": {},
   "source": [
    "## <a id='seasonal_forecasts'></a> Seasonal forecasts"
   ]
  },
  {
   "cell_type": "markdown",
   "metadata": {},
   "source": [
    "> **Spatial resolution:** regridded to a regular `lat-lon grid of 1 degrees` <br>\n",
    "> **Temporal resolution:**  `Subdaily and daily` and `monthly statistics`<br>\n",
    "> **Temporal coverage:** `hindcasts for the period 1993-2016` and `real-time forecasts (from 2017 onwards)`"
   ]
  },
  {
   "cell_type": "markdown",
   "metadata": {},
   "source": [
    "Seasonal forecasts provide a long-range outlook of changes in the Earth system over periods of a few weeks or months. Seasonal forecasts are different from weather forecasts, which give a lot more precise detail - both in time and space - of the evolution of the state of the atmosphere over a few days into the future. Beyond a few days, the chaotic nature of the atmosphere limits the possibility to predict precise changes at local scales. This is one of the reasons long-range forecasts of atmospheric conditions have large uncertainties. To quantify such uncertainties, long-range forecasts use `ensembles`, and meaningful forecast products reflect distributions of outcomes.\n",
    "\n",
    "#### Multi-system seasonal forecast service\n",
    "The C3S seasonal forecast products are based on data from several state-of-the-art seasonal prediction systems. Multi-system combinations, as well as predictions from the individual participating systems, are available. The centres currently providing forecasts to C3S are: ECMWF, The Met Office and Météo-France, Deutscher Wetterdienst (DWD), Centro Euro-Mediterraneo sui Cambiamenti Climatici (CMCC), National Centers for Environmental Prediction (NCEP) and Japan Meteorological Agency (JMA), and you can find a description of the C3S seasonal multi-system [here](https://confluence.ecmwf.int/display/CKB/Description+of+the+C3S+seasonal+multi-system) and a summary of available data for each system [here](https://confluence.ecmwf.int/display/CKB/Summary+of+available+data).\n",
    "\n",
    "#### The role of hindcasts\n",
    "Seasonal forecasts are started from an observed state of (all components of) the climate system, which is then evolved in time over a period of a few months. Errors present at the start of the forecast (due to the imprecise measurement of the initial conditions and the approximations assumed in the formulation of the models) persist or, more often, grow through the model integration. Some errors are random, some errors, however, are systematic. If these systematic errors were determined, corrections could be applied to the forecasts to extract the useful information. This is achieved by comparing retrospective forecasts (reforecasts or `hindcasts`) with observations. By building the average of the `hindcasts`, you can identify a 'climate' (average over a reference period, e.g 1993 to 2016) of the model, which can then be compared with the observed climate of the real world. The systematic differences between the model and the real world - usually referred to as `biases` - are thus quantified and used as the basis for corrections which can be applied to future, real-time forecasts.  Given the relative magnitude of such biases, some basic corrections are essential to convert the data into forecast information - therefore a forecast by itself is not useful without relating it to the relevant hindcasts. Get more information about seasonal forecasts as part of the Copernicus Climate Change Service [here](https://confluence.ecmwf.int/display/CKB/Seasonal+forecasts+and+the+Copernicus+Climate+Change+Service)."
   ]
  },
  {
   "cell_type": "markdown",
   "metadata": {},
   "source": [
    "<br>"
   ]
  },
  {
   "cell_type": "markdown",
   "metadata": {},
   "source": [
    "The CDS offers seasonal forecasts in several catalogue entries, defined by the level of post-processing applied as well as the type of variable (single-level or on pressure levels):"
   ]
  },
  {
   "cell_type": "markdown",
   "metadata": {
    "tags": []
   },
   "source": [
    "#### <a id='seasonal_daily'></a>Daily and sub-daily data\n",
    "\n",
    "Original temporal resolution of seasonal forecast data is subdaily and daily. Some single-level parameters have an update frequency of 6 hours (subdaily) and others of 24 hours (daily). For this reason, the temporal resolution of seasonal forecasts on single levels are both, daily and subdaily. The link below provides a table with the main variables including the update frequency for each variable. \n",
    "\n",
    "Seasonal forecast data on pressure levels have an update frequency of 12 hours. For this reason, the temporal resolution for seasonal forecast parameters on pressure levels is only subdaily.\n",
    "\n",
    "* [Seasonal forecast daily and sub-daily data on single levels](https://cds.climate.copernicus.eu/cdsapp#!/dataset/seasonal-original-single-levels?tab=overview)\n",
    "* [Seasonal forecast sub-daily data on pressure levels](https://cds.climate.copernicus.eu/cdsapp#!/dataset/seasonal-original-pressure-levels?tab=overview)"
   ]
  },
  {
   "cell_type": "markdown",
   "metadata": {
    "tags": []
   },
   "source": [
    "#### <a id='seasonal_monthly'></a>Monthly statistics\n",
    "\n",
    "Monthly statistics provide monthly average, minimum, maximum and standard deviation for all initialisation dates. The monthly statistics are available for both, real-time forecasts (from 2017 onwards) and hindcasts for the period 1993-2016.\n",
    "\n",
    "* [Seasonal forecast monthly statistics on single levels](https://cds.climate.copernicus.eu/cdsapp#!/dataset/seasonal-monthly-single-levels?tab=overview)\n",
    "* [Seasonal forecast monthly statistics on pressure levels](https://cds.climate.copernicus.eu/cdsapp#!/dataset/seasonal-monthly-pressure-levels?tab=overview)"
   ]
  },
  {
   "cell_type": "markdown",
   "metadata": {},
   "source": [
    "#### <a id='seasonal_anomalies'></a>Anomalies\n",
    "\n",
    "Monthly anomalies contain the anomalies for the ensemble mean for each system and the individual ensemble members. Anomalies are only available for real-time forecasts (from 2017 onwards).\n",
    "\n",
    "* [Seasonal forecast anomalies on single levels](https://cds.climate.copernicus.eu/cdsapp#!/dataset/seasonal-postprocessed-single-levels?tab=overview)\n",
    "* [Seasonal forecast anomalies on pressure levels](https://cds.climate.copernicus.eu/cdsapp#!/dataset/seasonal-postprocessed-pressure-levels?tab=overview)"
   ]
  },
  {
   "cell_type": "markdown",
   "metadata": {},
   "source": [
    "#### Tutorials using seasonal forecasts\n",
    "\n",
    "* [121 - C3S - Seasonal forecast anomalies](./121_c3s_seasonal_forecasts_anomalies.ipynb)\n",
    "* [122 - C3S - Seasonal forecast bias correction](./122_c3s_seasonal_forecasts_bias_correction.ipynb)"
   ]
  },
  {
   "cell_type": "markdown",
   "metadata": {},
   "source": [
    "<hr>"
   ]
  },
  {
   "cell_type": "markdown",
   "metadata": {},
   "source": [
    "## <a id='climate_projections'></a>Climate projections"
   ]
  },
  {
   "cell_type": "markdown",
   "metadata": {
    "tags": []
   },
   "source": [
    "### Coupled Model-Intercomparison Project (CMIP)\n",
    "\n",
    "Global climate projections are simulations of the climate system which have been generated by multiple independent climate research centers in an effort coordinated by the World Climate Research Program (WCRP) and assessed by the Intergovernmental Panel on Climate Change (IPCC). \n",
    "\n",
    "The [Climate Model Intercomparison Project (CMIP)](https://confluence.ecmwf.int/display/CKB/CMIP%3A+Global+climate+projections) was established in 1995 by the World Climate Research Program (WCRP) to provide climate scientists with a database of coupled Global Circulation Model (GCM) simulations. The CMIP process involves institutions (such as meteorological centres and research institutes) from around the world running their climate models with an agreed set of input parameters. In this way, the modelling centres produce a set of standardised output. When combined, these outputs produce a multi-model dataset that can be internationally compared by and shared  between modelling centres.\n",
    "\n",
    "CMIP data aims to improve the understanding of:\n",
    "* the climate, including its variability and change\n",
    "* the societal and environmental implications of climate change in terms of impacts, adaptation and vulnerability\n",
    "* informing the Intergovernmental Panel on Climate Change (IPCC) reports.\n",
    "\n",
    "Read more about C3S Climate projections [here](https://confluence.ecmwf.int/display/CKB/CMIP%3A+Global+climate+projections)\n",
    "\n",
    "\n",
    "\n",
    "#### Sixth phase\n",
    "The sixth phase of the Copuled Intercomparison Project (CMIP6) consists of 134 models from 53 modelling centres. The scientific analyses from CMIP6 is used extensively in the Intergovernmental Panel on Climate Change (IPCC) 6th Assessment Report (AR6).\n",
    "\n",
    "The global climate projections in the Climate Data Store are a quality-controlled subset of the wider CMIP6 data. These data represent only a small subset of the CMIP6 archive. A set of 51 core variables from the CMIP6 archive were identified for the CDS. These variables are provided from 9 of the most popular CMIP6 experiments. The catalogue entry provides daily and monthly global climate projections.\n",
    "\n",
    "\n",
    "* [CMIP6 climate projections](https://cds.climate.copernicus.eu/cdsapp#!/dataset/projections-cmip6?tab=overview)\n",
    "\n",
    "\n",
    "#### Fifth phase\n",
    "The fifth phase of Coupled Model Intercomparison Project (CMIP5, 2008-2012) involved 24 modelling centres running their climate models under the prescribed conditions to produce the multi-model dataset designed to advance our knowledge of climate. The scientific analyses from CMIP5 were used extensively in the Intergovernmental Panel on Climate Change (IPCC) 5th Assessment Report (IPCC AR5), published in September 2013. \n",
    "\n",
    "The CMIP5 data archive is distributed through the Earth System Grid Federation (ESGF) though many national centres have either a full or partial copy of the data for their scientists to utilise. A quality-controlled subset of CMIP5 data are made available through the Climate Data Store (CDS) for the users of the Copernicus Climate Change Service (C3S). See [here](https://www.ipcc-data.org/docs/factsheets/TGICA_Fact_Sheet_CMIP5_data_provided_at_the_IPCC_DDC_Ver_1_2016.pdf) an introductory factsheet of the CMIP5 data.\n",
    "\n",
    "* [CMIP5 daily data on single levels](https://cds.climate.copernicus.eu/cdsapp#!/dataset/projections-cmip5-daily-single-levels?tab=overview)\n",
    "* [CMIP5 daily data on pressure levels](https://cds.climate.copernicus.eu/cdsapp#!/dataset/projections-cmip5-daily-pressure-levels?tab=overview)\n",
    "\n",
    "\n",
    "* [CMIP5 monthly data on single levels](https://cds.climate.copernicus.eu/cdsapp#!/dataset/projections-cmip5-monthly-single-levels?tab=overview)\n",
    "* [CMIP5 monthly data on pressure levels](https://cds.climate.copernicus.eu/cdsapp#!/dataset/projections-cmip5-monthly-pressure-levels?tab=overview)"
   ]
  },
  {
   "cell_type": "markdown",
   "metadata": {},
   "source": [
    "### Coordinated Regional Climate Downscaling Experiment (CORDEX)\n",
    "The Coordinated Regional Climate Downscaling Experiment (CORDEX) provides Regional Climate Model (RCM) data on single levels from a number of experiments, models, domains, resolutions, ensemble members, time frequencies and periods computed over 14 regional domains all over the world. High-resolution Regional Climate Models (RCMs) provide climate change information on regional and local scales, which cannot be obtained from coarse scale Global Climate Models (GCMs).\n",
    "\n",
    "Outputs of such RCMs are indispensable in supporting regional and local climate impact studies and adaptation decisions.\n",
    "Find more information about CORDEX data in the Climate Data Store [here](https://confluence.ecmwf.int/display/CKB/CORDEX%3A+Regional+climate+projections).\n",
    "\n",
    "A set of 26 core variables (17 for non-European domains) from the CORDEX archive were identified for the CDS. These are the most used variables of the CORDEX datasets. These variables are provided from 5 CORDEX experiment types (evaluation, historical and 3 RCP scenarios) that are derived (downscaled) from the CMIP5 experiments. The temporal resolution is 3-hourly, 6-hourly, daily, monthly or seasonal information. Please note that for the non-European domains only daily datasets are available.\n",
    "\n",
    "* [CORDEX regional climate model data on single levels](https://cds.climate.copernicus.eu/cdsapp#!/dataset/projections-cordex-domains-single-levels?tab=overview)"
   ]
  },
  {
   "cell_type": "markdown",
   "metadata": {},
   "source": [
    "<br>"
   ]
  },
  {
   "cell_type": "markdown",
   "metadata": {},
   "source": [
    "<hr>"
   ]
  },
  {
   "cell_type": "markdown",
   "metadata": {},
   "source": [
    "## <a id='observations'></a>Observations"
   ]
  },
  {
   "cell_type": "code",
   "execution_count": null,
   "metadata": {},
   "outputs": [],
   "source": []
  },
  {
   "cell_type": "markdown",
   "metadata": {},
   "source": [
    "<hr>"
   ]
  },
  {
   "cell_type": "markdown",
   "metadata": {},
   "source": [
    "<p><img src='./img/copernicus_logo.png' align='right' alt='Logo EU Copernicus' width='20%'></img></p>\n",
    "<br><br><br><br>\n",
    "<span style='float:right'><p style=\\\"text-align:right;\\\">This project is licensed under <a href=\"./LICENSE\">APACHE License 2.0</a>. | <a href=\\\"https://github.com/ecmwf-projects/copernicus-training\">View on GitHub</a></span>"
   ]
  }
 ],
 "metadata": {
  "kernelspec": {
   "display_name": "Python 3",
   "language": "python",
   "name": "python3"
  },
  "language_info": {
   "codemirror_mode": {
    "name": "ipython",
    "version": 3
   },
   "file_extension": ".py",
   "mimetype": "text/x-python",
   "name": "python",
   "nbconvert_exporter": "python",
   "pygments_lexer": "ipython3",
   "version": "3.7.0"
  }
 },
 "nbformat": 4,
 "nbformat_minor": 4
}
