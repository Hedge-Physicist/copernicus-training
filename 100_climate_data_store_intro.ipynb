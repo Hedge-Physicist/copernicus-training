{
 "cells": [
  {
   "cell_type": "markdown",
   "metadata": {},
   "source": [
    "<img src='./img/header_placeholder.png' alt='Logo EU Copernicus ECMWF' align='right' width='100%'></img>"
   ]
  },
  {
   "cell_type": "markdown",
   "metadata": {},
   "source": [
    "<br>"
   ]
  },
  {
   "cell_type": "markdown",
   "metadata": {},
   "source": [
    "# The Copernicus Climate Data Store (CDS) - Introduction and data access example"
   ]
  },
  {
   "cell_type": "markdown",
   "metadata": {},
   "source": [
    "This notebook provides you an introduction to the Copernicus Climate Data Store (CDS), an overview of the type of data that can be accessed and gives practical examples how to access and retrieve data from the CDS."
   ]
  },
  {
   "cell_type": "markdown",
   "metadata": {},
   "source": [
    "### Outline\n",
    "* [1 - About](#about)\n",
    "* [2 - C3S data overview](#c3s_data_overview)\n",
    "* [3 - C3S data retrieval](#c3s_data_retrieval)\n",
    " * [3.1 - Access data manually via the CDS web interface](#access_manual)\n",
    " * [3.2 - Access data in a programmatic way with the CDS API](#access_programmatic)\n",
    "* [4 - Example data requests](#example_requests)"
   ]
  },
  {
   "cell_type": "markdown",
   "metadata": {},
   "source": [
    "<br>"
   ]
  },
  {
   "cell_type": "markdown",
   "metadata": {},
   "source": [
    "<hr>"
   ]
  },
  {
   "cell_type": "markdown",
   "metadata": {},
   "source": [
    "## <a id='about'></a>1. About"
   ]
  },
  {
   "cell_type": "markdown",
   "metadata": {},
   "source": [
    "The [Copernicus Climate Data Store (CDS)](https://cds.climate.copernicus.eu/) is the data access portal of the [Copernicus Climate Change Service (C3S)](https://climate.copernicus.eu/) and offers access to `data` and `applications` about the Earth's past, present and future climate."
   ]
  },
  {
   "cell_type": "markdown",
   "metadata": {},
   "source": [
    "<br>"
   ]
  },
  {
   "cell_type": "markdown",
   "metadata": {},
   "source": [
    "<img src='./img/cds_landing_page.png' align='left' width='80%'></img>"
   ]
  },
  {
   "cell_type": "markdown",
   "metadata": {},
   "source": [
    "<br>"
   ]
  },
  {
   "cell_type": "markdown",
   "metadata": {},
   "source": [
    "<hr>"
   ]
  },
  {
   "cell_type": "markdown",
   "metadata": {},
   "source": [
    "<br>"
   ]
  },
  {
   "cell_type": "markdown",
   "metadata": {},
   "source": [
    "## <a id='c3s_data_overview'></a>2. C3S data overview"
   ]
  },
  {
   "cell_type": "markdown",
   "metadata": {},
   "source": [
    "The Copernicus Climate Change Service offers a variety of different climate data products. The most popular ones can be classified in three:\n",
    "\n",
    "#### Climate reanalysis\n",
    "Climate reanalysis combines model data with observations from across the world into a globally complete and consistent dataset. The\n",
    "\n",
    "\n",
    "\n",
    "<br>\n",
    "\n",
    "#### Seasonal Forecasts\n",
    "\n",
    "\n",
    "\n",
    "\n",
    "\n",
    "#### Climate projections\n",
    "\n",
    "\n",
    "\n",
    "\n",
    "<br>\n",
    "\n",
    "A complete overview of all the climate available from the CDS can be found on the CDS web interface under [Datasets](https://cds.climate.copernicus.eu/cdsapp#!/search?type=dataset)."
   ]
  },
  {
   "cell_type": "markdown",
   "metadata": {},
   "source": [
    "<br>"
   ]
  },
  {
   "cell_type": "markdown",
   "metadata": {},
   "source": [
    "<hr>"
   ]
  },
  {
   "cell_type": "markdown",
   "metadata": {},
   "source": [
    "<br>"
   ]
  },
  {
   "cell_type": "markdown",
   "metadata": {},
   "source": [
    "## <a id='c3s_data_retrieval'></a>3. Data retrieval"
   ]
  },
  {
   "cell_type": "markdown",
   "metadata": {},
   "source": [
    "There are two ways how you can access data from the Copernicus Climate Data Store (CDS):\n",
    "* [manually](#access_manual) via the CDS web interface, or\n",
    "* [in a programmatic way](#access_programmatic) with the CDS API"
   ]
  },
  {
   "cell_type": "markdown",
   "metadata": {},
   "source": [
    "<br>"
   ]
  },
  {
   "cell_type": "markdown",
   "metadata": {},
   "source": [
    "### <a id='access_manual'></a>3.1 Access data manually via the CDS web interface"
   ]
  },
  {
   "cell_type": "markdown",
   "metadata": {},
   "source": [
    "The `CDS web interface` allows you to manually `browse`, `select` and `download` data products offered by the CDS. First, under [Datasets](https://cds.climate.copernicus.eu/cdsapp#!/search?type=dataset), you can browse and select the data product you are interested in. In a second step, you can then specify details of the data download form you wish to submit."
   ]
  },
  {
   "cell_type": "markdown",
   "metadata": {},
   "source": [
    "#### Filter and select a data product"
   ]
  },
  {
   "cell_type": "markdown",
   "metadata": {},
   "source": [
    "As a first step, you can `browse` and `filter` the data product you are interested in. The [Datasets](https://cds.climate.copernicus.eu/cdsapp#!/search?type=dataset) interface allows you either to select data based on different categories, e.g. `Product type`, `Variable domain`, `Spatial / Temporal coverage`, but also offers a free text search. The list of data products allows you to select the dataset you are interested in. \n",
    "\n",
    "Once you selected a dataset, you then get redirected to a data description section, which provides you an overview of the chosen dataset as well as the option to specify the dataset you would like to download and to submit the download form."
   ]
  },
  {
   "cell_type": "markdown",
   "metadata": {},
   "source": [
    "<br>"
   ]
  },
  {
   "cell_type": "markdown",
   "metadata": {},
   "source": [
    "<img src='./img/cds_web_interface_1.png' align='left' width='60%'></img>"
   ]
  },
  {
   "cell_type": "markdown",
   "metadata": {},
   "source": [
    "<br>"
   ]
  },
  {
   "cell_type": "markdown",
   "metadata": {},
   "source": [
    "#### Submit the *Download form*"
   ]
  },
  {
   "cell_type": "markdown",
   "metadata": {},
   "source": [
    "The `Data description` section (see 1) provides you an overview of the dataset product, including a list of variables that are available. Under the tab `Download data`, the `Download form` opens (see 2) which allows you to  manually filter the data product based on:\n",
    "* `Product type`\n",
    "* `Variable`\n",
    "* `Year / Month / Time`\n",
    "* `Geographical area`\n",
    "* `Format`\n",
    "\n",
    "At the end of the `Download form`, you get three options: `Show API request`, `Show Toolbox request` and `Submit Form`. If you want to download the data manually, the data requests will be executed as soon as you click on the `Submit Form` button. You will need the `Show API request`, if you want to request data in a programmatic way. See [Section 3.2](#access_programmatic) for further information.\n"
   ]
  },
  {
   "cell_type": "markdown",
   "metadata": {},
   "source": [
    "<div class=\"alert alert-block alert-success\">\n",
    "<b>NOTE</b>: <br>\n",
    "    Under the tab <code>Your requests</code> in the main menu, you can monitor the status of your data requests.</div>\n",
    "\n",
    "<br>"
   ]
  },
  {
   "cell_type": "markdown",
   "metadata": {},
   "source": [
    "<br>"
   ]
  },
  {
   "cell_type": "markdown",
   "metadata": {},
   "source": [
    "<img src='./img/cds_data_description_download_form.png' align='left' width='60%'></img>"
   ]
  },
  {
   "cell_type": "markdown",
   "metadata": {},
   "source": [
    "<br>"
   ]
  },
  {
   "cell_type": "markdown",
   "metadata": {},
   "source": [
    "### <a id='access_programmatic'></a>3.2 Access data in a programmatic way with the CDS API"
   ]
  },
  {
   "cell_type": "markdown",
   "metadata": {},
   "source": [
    "The `Climate Data Store Application Program Interface (CDS API)` is a Python library which allows you to access data from the CDS in a `programmatic` way. The library is available for both Python versions, Python 2.7.x and Python 3. In order to use the CDS API, follow the steps below:"
   ]
  },
  {
   "cell_type": "markdown",
   "metadata": {},
   "source": [
    "#### Install the CDS API key"
   ]
  },
  {
   "cell_type": "markdown",
   "metadata": {},
   "source": [
    "* [Self-register](https://cds.climate.copernicus.eu/#!/home) at the CDS registration page (if you do not have an account yet)\n",
    "* [Login](https://cds.climate.copernicus.eu/user/login) to the CDS portal and go to the [api-how-to page](https://cds.climate.copernicus.eu/api-how-to)\n",
    "* Copy the CDS API key displayed in the black terminal window in a file under `$HOME/.cdsapirc` *(Unix / Linux environment)*\n",
    "\n",
    "**Note:** You find your CDS API key displayed in the black terminal box under the section `Install the CDS API key`. If you do not see a URL or key appear in the black terminal box, please refresh your browser tab. \n",
    "  "
   ]
  },
  {
   "cell_type": "markdown",
   "metadata": {},
   "source": [
    "<br>"
   ]
  },
  {
   "cell_type": "markdown",
   "metadata": {},
   "source": [
    "<img src='./img/cds_api_key.png' align='left' width='60%'></img>"
   ]
  },
  {
   "cell_type": "markdown",
   "metadata": {},
   "source": [
    "<br>"
   ]
  },
  {
   "cell_type": "markdown",
   "metadata": {},
   "source": [
    "The code below creates the file under your current working directory. Make sure to replace the `################` with your personal `CDS API key`.\n"
   ]
  },
  {
   "cell_type": "code",
   "execution_count": 101,
   "metadata": {},
   "outputs": [
    {
     "name": "stdout",
     "output_type": "stream",
     "text": [
      "Overwriting ./.cdsapirc\n"
     ]
    }
   ],
   "source": [
    "%%writefile ./.cdsapirc\n",
    "\n",
    "url: https://cds.climate.copernicus.eu/api/v2\n",
    "key: ##############################"
   ]
  },
  {
   "cell_type": "markdown",
   "metadata": {},
   "source": [
    "<br>"
   ]
  },
  {
   "cell_type": "markdown",
   "metadata": {},
   "source": [
    "#### Install the CDS API client"
   ]
  },
  {
   "cell_type": "markdown",
   "metadata": {},
   "source": [
    "The next step is to install the `CDS API client`. You can do this with the package management system `pip`."
   ]
  },
  {
   "cell_type": "code",
   "execution_count": null,
   "metadata": {},
   "outputs": [],
   "source": [
    "!pip install cdsapi"
   ]
  },
  {
   "cell_type": "markdown",
   "metadata": {},
   "source": [
    "<br>"
   ]
  },
  {
   "cell_type": "markdown",
   "metadata": {},
   "source": [
    "#### Use the CDS API client for data access"
   ]
  },
  {
   "cell_type": "markdown",
   "metadata": {},
   "source": [
    "Once the `CDS API` is installed, it can be used to request data from the Climate Data Store."
   ]
  },
  {
   "cell_type": "markdown",
   "metadata": {},
   "source": [
    "Below, you see the principle of a `data retrieval` request. You always have to make sure to first import the `cdsapi` and define a `cdsapi.Client()` before you are able to execute an `API request`. You can use the [web interface](https://cds.climate.copernicus.eu/cdsapp#!/search?type=dataset) to browse through the datasets. At the end of the `Download form`, there is the option to choose `Show API request`. If you click this button, the `API request` appears (see example below), which you can copy paste into your coding workflow.\n",
    "\n",
    "<br>\n",
    "\n",
    "<div><img src='./img/cdsapi_request.png' align='left' width='30%'></img></div>\n",
    "\n",
    "\n",
    "\n",
    "\n"
   ]
  },
  {
   "cell_type": "markdown",
   "metadata": {},
   "source": [
    "<br>\n",
    "\n",
    "<div class=\"alert alert-block alert-success\">\n",
    "<b>NOTE</b>: <br>\n",
    "    Per default, ECMWF data is stored on a grid with longitudes from 0 to 360 degrees. It can be reprojected to a regular geographic latitude-longitude grid, by setting the keyword argument <code>area</code> and <code>grid</code>. Per default, data is retrieved in <code>GRIB</code>. If you wish to retrieve the data in <code>netCDF</code>, you have to specify it by using the keyword argument <code>format</code>.</div>\n",
    "\n",
    "<br>\n",
    "\n",
    "See [below](#example_requests) for some example `CDS API requests`."
   ]
  },
  {
   "cell_type": "markdown",
   "metadata": {},
   "source": [
    "<hr>"
   ]
  },
  {
   "cell_type": "markdown",
   "metadata": {},
   "source": [
    "<br>"
   ]
  },
  {
   "cell_type": "markdown",
   "metadata": {},
   "source": [
    "## <a id='example_requests'></a>4. Example data requests"
   ]
  },
  {
   "cell_type": "markdown",
   "metadata": {},
   "source": [
    "Below, you find a list of CDS API requests that have been used to retrieve the datasets used throughout the learning modules\n",
    "\n",
    "* [Climate reanalysis](#climate_reanalysis)\n",
    "* [Seasonal forecasts](#seasonal_forecasts)\n",
    "* [Climate projections](#climate_projections)"
   ]
  },
  {
   "cell_type": "markdown",
   "metadata": {},
   "source": [
    "<br>"
   ]
  },
  {
   "cell_type": "markdown",
   "metadata": {},
   "source": [
    "We can already import the Python library `cdsapi` and define a `cdsapi.Client()`. This process is mandatory before any data request can be sent to the CDS. "
   ]
  },
  {
   "cell_type": "code",
   "execution_count": 4,
   "metadata": {},
   "outputs": [],
   "source": [
    "import cdsapi\n",
    "c = cdsapi.Client()"
   ]
  },
  {
   "cell_type": "markdown",
   "metadata": {},
   "source": [
    "<br>"
   ]
  },
  {
   "cell_type": "markdown",
   "metadata": {},
   "source": [
    "<hr>"
   ]
  },
  {
   "cell_type": "markdown",
   "metadata": {},
   "source": [
    "### <a id='climate_reanalysis'></a>`Climate reanalysis`"
   ]
  },
  {
   "cell_type": "markdown",
   "metadata": {},
   "source": [
    "#### <a id='era5_monthly'></a>Example: **ERA-5 monthly averaged data on single levels from 1979 to present**"
   ]
  },
  {
   "cell_type": "markdown",
   "metadata": {},
   "source": [
    "> Data used in [111_c3s_climatologies_trends](./111_c3s_climatologies_trends.ipynb)"
   ]
  },
  {
   "cell_type": "markdown",
   "metadata": {},
   "source": [
    "CDS API name: `reanalysis-era5-single-levels-monthly-means`\n",
    "\n",
    "> - Product type: `monthly_averaged_reanalysis`\n",
    "> - Variable: `2m_temperature`\n",
    "> - Year: `[1979 to 2020]`\n",
    "> - Month: `[01 to 12]`\n",
    "> - Time: `00:00` (default)\n",
    "> - Geographical area: `Whole available region` \n",
    "> - Format: `netcdf`"
   ]
  },
  {
   "cell_type": "code",
   "execution_count": 7,
   "metadata": {},
   "outputs": [
    {
     "name": "stderr",
     "output_type": "stream",
     "text": [
      "2021-09-16 15:00:44,696 INFO Welcome to the CDS\n",
      "2021-09-16 15:00:44,697 INFO Sending request to https://cds.climate.copernicus.eu/api/v2/resources/reanalysis-era5-single-levels-monthly-means\n",
      "2021-09-16 15:00:44,753 INFO Request is queued\n",
      "2021-09-16 15:07:03,457 INFO Request is completed\n",
      "2021-09-16 15:07:03,458 INFO Downloading https://download-0007.copernicus-climate.eu/cache-compute-0007/cache/data8/adaptor.mars.internal-1631797273.9329216-5634-17-7b8a6ff8-f298-400f-bf03-47045611270e.nc to ./data/era5_monthly_t2m.nc (998.1M)\n",
      "2021-09-16 15:12:03,486 INFO Download rate 3.3M/s  \n"
     ]
    },
    {
     "data": {
      "text/plain": [
       "Result(content_length=1046557648,content_type=application/x-netcdf,location=https://download-0007.copernicus-climate.eu/cache-compute-0007/cache/data8/adaptor.mars.internal-1631797273.9329216-5634-17-7b8a6ff8-f298-400f-bf03-47045611270e.nc)"
      ]
     },
     "execution_count": 7,
     "metadata": {},
     "output_type": "execute_result"
    }
   ],
   "source": [
    "c.retrieve(\n",
    "    'reanalysis-era5-single-levels-monthly-means',\n",
    "    {\n",
    "        'product_type': 'monthly_averaged_reanalysis',\n",
    "        'variable': '2m_temperature',\n",
    "        'year': [\n",
    "            '1979', '1980', '1981',\n",
    "            '1982', '1983', '1984',\n",
    "            '1985', '1986', '1987',\n",
    "            '1988', '1989', '1990',\n",
    "            '1991', '1992', '1993',\n",
    "            '1994', '1995', '1996',\n",
    "            '1997', '1998', '1999',\n",
    "            '2000', '2001', '2002',\n",
    "            '2003', '2004', '2005',\n",
    "            '2006', '2007', '2008',\n",
    "            '2009', '2010', '2011',\n",
    "            '2012', '2013', '2014',\n",
    "            '2015', '2016', '2017',\n",
    "            '2018', '2019', '2020'\n",
    "        ],\n",
    "        'month': [\n",
    "            '01', '02', '03',\n",
    "            '04', '05', '06',\n",
    "            '07', '08', '09',\n",
    "            '10', '11', '12',\n",
    "        ],\n",
    "        'time': '00:00',\n",
    "        'format': 'netcdf',\n",
    "    },\n",
    "    './data/era5_monthly_t2m.nc')"
   ]
  },
  {
   "cell_type": "markdown",
   "metadata": {},
   "source": [
    "<br>"
   ]
  },
  {
   "cell_type": "markdown",
   "metadata": {},
   "source": []
  },
  {
   "cell_type": "markdown",
   "metadata": {},
   "source": [
    "<hr>"
   ]
  },
  {
   "cell_type": "markdown",
   "metadata": {},
   "source": [
    "### <a id='seasonal_forecasts'></a>`Seasonal forecasts`"
   ]
  },
  {
   "cell_type": "code",
   "execution_count": null,
   "metadata": {},
   "outputs": [],
   "source": []
  },
  {
   "cell_type": "markdown",
   "metadata": {},
   "source": [
    "### Example: Retrieve ERA-5 Land"
   ]
  },
  {
   "cell_type": "code",
   "execution_count": null,
   "metadata": {},
   "outputs": [],
   "source": [
    "c.retrieve(\n",
    "    'reanalysis-era5-land',\n",
    "    {\n",
    "        'variable': '2m_temperature',\n",
    "        'year': '2021',\n",
    "        'month': '04',\n",
    "        'day': '30',\n",
    "        'time': [\n",
    "            '00:00', '01:00', '02:00',\n",
    "            '03:00', '04:00', '05:00',\n",
    "            '06:00', '07:00', '08:00',\n",
    "            '09:00', '10:00', '11:00',\n",
    "            '12:00', '13:00', '14:00',\n",
    "            '15:00', '16:00', '17:00',\n",
    "            '18:00', '19:00', '20:00',\n",
    "            '21:00', '22:00', '23:00',\n",
    "        ],\n",
    "        'format': 'netcdf',\n",
    "        'area': [\n",
    "            90, -180, 0,\n",
    "            -70,\n",
    "        ],\n",
    "    },\n",
    "    './data/era5_land_hourly/20210430.nc')"
   ]
  },
  {
   "cell_type": "markdown",
   "metadata": {},
   "source": [
    "### Retrieve function for monthly aggregates"
   ]
  },
  {
   "cell_type": "code",
   "execution_count": 6,
   "metadata": {},
   "outputs": [],
   "source": [
    "def retrieve_func(year,parameter,filename, area):\n",
    "    c.retrieve(\n",
    "        'reanalysis-era5-single-levels-monthly-means',\n",
    "        {\n",
    "            'product_type':'reanalysis',\n",
    "            'format':'netcdf',\n",
    "            'variable':[\n",
    "              parameter\n",
    "            ],\n",
    "            'year':[\n",
    "            year\n",
    "            ],\n",
    "            'month':[\n",
    "            '01', '02', '03',\n",
    "            '04', '05', '06',\n",
    "            '07', '08', '09',\n",
    "            '10', '11', '12'\n",
    "            ],\n",
    "            'time': '00:00',\n",
    "            'area': \n",
    "            area,\n",
    "        },\n",
    "        filename)"
   ]
  },
  {
   "cell_type": "markdown",
   "metadata": {},
   "source": [
    "### Retrieve monthly aggregates from 1981 to 2010 with retrieve function"
   ]
  },
  {
   "cell_type": "code",
   "execution_count": 4,
   "metadata": {},
   "outputs": [],
   "source": [
    "area = [90, -180, 0, -70]\n",
    "year_list = list(range(1981,2011))\n",
    "parameter = '2m_temperature'\n"
   ]
  },
  {
   "cell_type": "code",
   "execution_count": null,
   "metadata": {},
   "outputs": [],
   "source": [
    "for year in year_list:\n",
    "        print(year)\n",
    "        filename = \"era5_\"+parameter+\"_\"+str(year)+\".nc\"\n",
    "        retrieve_func(str(year), parameter, filename, area)"
   ]
  },
  {
   "cell_type": "code",
   "execution_count": 7,
   "metadata": {},
   "outputs": [
    {
     "name": "stderr",
     "output_type": "stream",
     "text": [
      "2021-08-04 16:39:59,800 INFO Welcome to the CDS\n",
      "2021-08-04 16:39:59,801 INFO Sending request to https://cds.climate.copernicus.eu/api/v2/resources/reanalysis-era5-single-levels-monthly-means\n",
      "2021-08-04 16:39:59,992 INFO Request is queued\n",
      "2021-08-04 16:50:19,001 INFO Request is completed\n",
      "2021-08-04 16:50:19,002 INFO Downloading https://download-0014.copernicus-climate.eu/cache-compute-0014/cache/data3/adaptor.mars.internal-1628088545.309355-21966-7-08fbfbc9-d9cb-4023-a857-19c6989964a8.nc to ./data/era5_monthly/era5_2m_temperature_2021.nc (4.3M)\n",
      "2021-08-04 16:50:20,170 INFO Download rate 3.6M/s   \n"
     ]
    }
   ],
   "source": [
    "year = '2021'\n",
    "filename = './data/era5_monthly/era5_'+parameter+\"_\"+year+'.nc'\n",
    "retrieve_func(year, parameter,filename,area)"
   ]
  },
  {
   "cell_type": "markdown",
   "metadata": {},
   "source": [
    "### Retrieve monthly aggregates in one file"
   ]
  },
  {
   "cell_type": "code",
   "execution_count": null,
   "metadata": {},
   "outputs": [],
   "source": [
    "c.retrieve(\n",
    "    'reanalysis-era5-single-levels-monthly-means',\n",
    "    {\n",
    "        'product_type': 'monthly_averaged_reanalysis',\n",
    "        'variable': '2m_temperature',\n",
    "        'year': [\n",
    "            '1981', '1982', '1983',\n",
    "            '1984', '1985', '1986',\n",
    "            '1987', '1988', '1989',\n",
    "            '1990', '1991', '1992',\n",
    "            '1993', '1994', '1995',\n",
    "            '1996', '1997', '1998',\n",
    "            '1999', '2000', '2001',\n",
    "            '2002', '2003', '2004',\n",
    "            '2005', '2006', '2007',\n",
    "            '2008', '2009', '2010',\n",
    "        ],\n",
    "        'month': [\n",
    "            '01', '02', '03',\n",
    "            '04', '05', '06',\n",
    "            '07', '08', '09',\n",
    "            '10', '11', '12',\n",
    "        ],\n",
    "        'time': '00:00',\n",
    "        'format': 'netcdf',\n",
    "        'area': [\n",
    "            90, -180, 0,\n",
    "            -70,\n",
    "        ]\n",
    "    },\n",
    "    './data/era5_monthly/era5_monthly_1981-2010.nc')"
   ]
  },
  {
   "cell_type": "markdown",
   "metadata": {},
   "source": [
    "### Retrieve hourly data for 27 to 29 June"
   ]
  },
  {
   "cell_type": "code",
   "execution_count": 8,
   "metadata": {},
   "outputs": [
    {
     "name": "stderr",
     "output_type": "stream",
     "text": [
      "2021-08-04 16:50:20,413 INFO Welcome to the CDS\n",
      "2021-08-04 16:50:20,414 INFO Sending request to https://cds.climate.copernicus.eu/api/v2/resources/reanalysis-era5-single-levels\n",
      "2021-08-04 16:50:20,467 INFO Request is queued\n",
      "2021-08-04 16:52:14,350 INFO Request is completed\n",
      "2021-08-04 16:52:14,351 INFO Downloading https://download-0001.copernicus-climate.eu/cache-compute-0001/cache/data2/adaptor.mars.internal-1628088710.5798872-21224-5-8743ad4a-78e7-4ed9-af03-0e6479df0dae.nc to ./data/era5_hourly/era5_t2m_0627-29.nc (21.9M)\n",
      "2021-08-04 16:52:18,996 INFO Download rate 4.7M/s   \n"
     ]
    },
    {
     "data": {
      "text/plain": [
       "Result(content_length=22929508,content_type=application/x-netcdf,location=https://download-0001.copernicus-climate.eu/cache-compute-0001/cache/data2/adaptor.mars.internal-1628088710.5798872-21224-5-8743ad4a-78e7-4ed9-af03-0e6479df0dae.nc)"
      ]
     },
     "execution_count": 8,
     "metadata": {},
     "output_type": "execute_result"
    }
   ],
   "source": [
    "c.retrieve(\n",
    "    'reanalysis-era5-single-levels',\n",
    "    {\n",
    "        'product_type': 'reanalysis',\n",
    "        'variable': '2m_temperature',\n",
    "        'year': '2021',\n",
    "        'month': '06',\n",
    "        'day': [\n",
    "            '27', '28', '29',\n",
    "        ],\n",
    "        'time': [\n",
    "            '00:00', '01:00', '02:00',\n",
    "            '03:00', '04:00', '05:00',\n",
    "            '06:00', '07:00', '08:00',\n",
    "            '09:00', '10:00', '11:00',\n",
    "            '12:00', '13:00', '14:00',\n",
    "            '15:00', '16:00', '17:00',\n",
    "            '18:00', '19:00', '20:00',\n",
    "            '21:00', '22:00', '23:00',\n",
    "        ],\n",
    "        'format': 'netcdf',\n",
    "        'area': [90, -180, 0, -70]\n",
    "    },\n",
    "    './data/era5_hourly/era5_t2m_0627-29.nc')"
   ]
  },
  {
   "cell_type": "code",
   "execution_count": null,
   "metadata": {},
   "outputs": [],
   "source": []
  },
  {
   "cell_type": "markdown",
   "metadata": {},
   "source": [
    "Having selected the dataset, we now need to specify what product type, variables, temporal and geographic coverage we are interested in. These can all be selected in the **\"Download data\"** tab. In this tab a form appears in which we will select the following parameters to download:\n",
    "\n",
    "- Origin: `UERRA-HARMONIE`\n",
    "- Variable: `10m wind speed` and `2m temperature` (these will need to be selected one at a time)\n",
    "- Year: `1998 to 2019`\n",
    "- Month: `December`\n",
    "- Day: `15`\n",
    "- Time: `12:00`\n",
    "- Format: `NetCDF`\n",
    "\n",
    "<img src='./img/CDS_UERRA_download.png' align='center' width='45%'></img>\n",
    "\n",
    "At the end of the download form, select **\"Show API request\"**. This will reveal a block of code, which you can simply copy and paste into a cell of your Jupyter Notebook (see cells below). You will do this twice: once for 10m wind speed and again for 2m temperature.\n",
    "\n",
    "#### Download data\n",
    "\n",
    "Having copied the API requests into the cells below, run these to retrieve and download the data you requested into your local directory."
   ]
  },
  {
   "cell_type": "code",
   "execution_count": 3,
   "metadata": {},
   "outputs": [
    {
     "name": "stderr",
     "output_type": "stream",
     "text": [
      "2020-11-05 15:58:20,821 INFO Welcome to the CDS\n",
      "2020-11-05 15:58:20,822 INFO Sending request to https://cds.climate.copernicus.eu/api/v2/resources/reanalysis-uerra-europe-single-levels\n",
      "2020-11-05 15:58:20,934 INFO Request is completed\n",
      "2020-11-05 15:58:20,934 INFO Downloading http://136.156.133.39/cache-compute-0012/cache/data2/adaptor.uerra_mars.external-1604449976.2407827-31809-37-d2561767-2584-42ed-bbaf-1b63bfb142e1.nc to UERRA_ws10m.nc (30.5M)\n",
      "2020-11-05 15:58:23,718 INFO Download rate 10.9M/s    \n"
     ]
    },
    {
     "data": {
      "text/plain": [
       "Result(content_length=31943019,content_type=application/x-netcdf,location=http://136.156.133.39/cache-compute-0012/cache/data2/adaptor.uerra_mars.external-1604449976.2407827-31809-37-d2561767-2584-42ed-bbaf-1b63bfb142e1.nc)"
      ]
     },
     "execution_count": 3,
     "metadata": {},
     "output_type": "execute_result"
    }
   ],
   "source": [
    "c = cdsapi.Client(url=CDS_URL, key=CDS_KEY)\n",
    "c.retrieve(\n",
    "    'reanalysis-uerra-europe-single-levels',\n",
    "    {\n",
    "        'origin': 'uerra_harmonie',\n",
    "        'variable': '10m_wind_speed',\n",
    "        'year': [\n",
    "            '1998', '1999', '2000',\n",
    "            '2001', '2002', '2003',\n",
    "            '2004', '2005', '2006',\n",
    "            '2007', '2008', '2009',\n",
    "            '2010', '2011', '2012',\n",
    "            '2013', '2014', '2015',\n",
    "            '2016', '2017', '2018',\n",
    "        ],\n",
    "        'month': '12',\n",
    "        'day': '15',\n",
    "        'time': '12:00',\n",
    "        'format': 'netcdf',\n",
    "    },\n",
    "    'UERRA_ws10m.nc')"
   ]
  },
  {
   "cell_type": "code",
   "execution_count": 7,
   "metadata": {},
   "outputs": [
    {
     "name": "stderr",
     "output_type": "stream",
     "text": [
      "2020-11-05 18:40:20,745 INFO Welcome to the CDS\n",
      "2020-11-05 18:40:20,746 INFO Sending request to https://cds.climate.copernicus.eu/api/v2/resources/reanalysis-uerra-europe-single-levels\n",
      "2020-11-05 18:40:20,876 INFO Request is queued\n",
      "2020-11-05 18:40:21,907 INFO Request is running\n",
      "2020-11-05 21:40:57,390 INFO Request is completed\n",
      "2020-11-05 21:40:57,391 INFO Downloading http://136.156.133.41/cache-compute-0013/cache/data0/adaptor.uerra_mars.external-1604601621.6686652-29515-18-92b83ead-d617-4726-b1b8-6d7603d908a1.nc to UERRA_t2m.nc (30.5M)\n",
      "2020-11-05 21:41:00,166 INFO Download rate 11M/s      \n"
     ]
    },
    {
     "data": {
      "text/plain": [
       "Result(content_length=31943023,content_type=application/x-netcdf,location=http://136.156.133.41/cache-compute-0013/cache/data0/adaptor.uerra_mars.external-1604601621.6686652-29515-18-92b83ead-d617-4726-b1b8-6d7603d908a1.nc)"
      ]
     },
     "execution_count": 7,
     "metadata": {},
     "output_type": "execute_result"
    }
   ],
   "source": [
    "c = cdsapi.Client(url=CDS_URL, key=CDS_KEY)\n",
    "c.retrieve(\n",
    "    'reanalysis-uerra-europe-single-levels',\n",
    "    {\n",
    "        'origin': 'uerra_harmonie',\n",
    "        'variable': '2m_temperature',\n",
    "        'year': [\n",
    "            '1998', '1999', '2000',\n",
    "            '2001', '2002', '2003',\n",
    "            '2004', '2005', '2006',\n",
    "            '2007', '2008', '2009',\n",
    "            '2010', '2011', '2012',\n",
    "            '2013', '2014', '2015',\n",
    "            '2016', '2017', '2018',\n",
    "        ],\n",
    "        'month': '12',\n",
    "        'day': '15',\n",
    "        'time': '12:00',\n",
    "        'format': 'netcdf',\n",
    "    },\n",
    "    'UERRA_t2m.nc')"
   ]
  },
  {
   "cell_type": "code",
   "execution_count": null,
   "metadata": {},
   "outputs": [],
   "source": []
  },
  {
   "cell_type": "markdown",
   "metadata": {},
   "source": [
    "#### Search for climate data to calculate wind chill index\n",
    "\n",
    "The wind chill index we will calculate takes two parameters as input, these are 2m near-surface air temperature, and 10m wind speed. Data for these parameters are available as part of the UERRA regional reanalysis dataset for Europe for the period 1961 to 2019. We will search for this data on the CDS website: http://cds.climate.copernicus.eu. The specific dataset we will use is the UERRA regional reanalysis for Europe on single levels from 1961 to 2019. \n",
    "\n",
    "<img src='./img/CDS.jpg' align='left' width='45%'></img> <img src='./img/CDS_UERRA.png' align='right' width='45%'></img> "
   ]
  },
  {
   "cell_type": "markdown",
   "metadata": {},
   "source": [
    "Having selected the dataset, we now need to specify what product type, variables, temporal and geographic coverage we are interested in. These can all be selected in the **\"Download data\"** tab. In this tab a form appears in which we will select the following parameters to download:\n",
    "\n",
    "- Origin: `UERRA-HARMONIE`\n",
    "- Variable: `10m wind speed` and `2m temperature` (these will need to be selected one at a time)\n",
    "- Year: `1998 to 2019`\n",
    "- Month: `December`\n",
    "- Day: `15`\n",
    "- Time: `12:00`\n",
    "- Format: `NetCDF`\n",
    "\n",
    "<img src='./img/CDS_UERRA_download.png' align='center' width='45%'></img>\n",
    "\n",
    "At the end of the download form, select **\"Show API request\"**. This will reveal a block of code, which you can simply copy and paste into a cell of your Jupyter Notebook (see cells below). You will do this twice: once for 10m wind speed and again for 2m temperature.\n",
    "\n",
    "#### Download data\n",
    "\n",
    "Having copied the API requests into the cells below, run these to retrieve and download the data you requested into your local directory."
   ]
  },
  {
   "cell_type": "code",
   "execution_count": 3,
   "metadata": {},
   "outputs": [
    {
     "name": "stderr",
     "output_type": "stream",
     "text": [
      "2020-11-05 15:58:20,821 INFO Welcome to the CDS\n",
      "2020-11-05 15:58:20,822 INFO Sending request to https://cds.climate.copernicus.eu/api/v2/resources/reanalysis-uerra-europe-single-levels\n",
      "2020-11-05 15:58:20,934 INFO Request is completed\n",
      "2020-11-05 15:58:20,934 INFO Downloading http://136.156.133.39/cache-compute-0012/cache/data2/adaptor.uerra_mars.external-1604449976.2407827-31809-37-d2561767-2584-42ed-bbaf-1b63bfb142e1.nc to UERRA_ws10m.nc (30.5M)\n",
      "2020-11-05 15:58:23,718 INFO Download rate 10.9M/s    \n"
     ]
    },
    {
     "data": {
      "text/plain": [
       "Result(content_length=31943019,content_type=application/x-netcdf,location=http://136.156.133.39/cache-compute-0012/cache/data2/adaptor.uerra_mars.external-1604449976.2407827-31809-37-d2561767-2584-42ed-bbaf-1b63bfb142e1.nc)"
      ]
     },
     "execution_count": 3,
     "metadata": {},
     "output_type": "execute_result"
    }
   ],
   "source": [
    "c = cdsapi.Client(url=CDS_URL, key=CDS_KEY)\n",
    "c.retrieve(\n",
    "    'reanalysis-uerra-europe-single-levels',\n",
    "    {\n",
    "        'origin': 'uerra_harmonie',\n",
    "        'variable': '10m_wind_speed',\n",
    "        'year': [\n",
    "            '1998', '1999', '2000',\n",
    "            '2001', '2002', '2003',\n",
    "            '2004', '2005', '2006',\n",
    "            '2007', '2008', '2009',\n",
    "            '2010', '2011', '2012',\n",
    "            '2013', '2014', '2015',\n",
    "            '2016', '2017', '2018',\n",
    "        ],\n",
    "        'month': '12',\n",
    "        'day': '15',\n",
    "        'time': '12:00',\n",
    "        'format': 'netcdf',\n",
    "    },\n",
    "    'UERRA_ws10m.nc')"
   ]
  },
  {
   "cell_type": "code",
   "execution_count": 7,
   "metadata": {},
   "outputs": [
    {
     "name": "stderr",
     "output_type": "stream",
     "text": [
      "2020-11-05 18:40:20,745 INFO Welcome to the CDS\n",
      "2020-11-05 18:40:20,746 INFO Sending request to https://cds.climate.copernicus.eu/api/v2/resources/reanalysis-uerra-europe-single-levels\n",
      "2020-11-05 18:40:20,876 INFO Request is queued\n",
      "2020-11-05 18:40:21,907 INFO Request is running\n",
      "2020-11-05 21:40:57,390 INFO Request is completed\n",
      "2020-11-05 21:40:57,391 INFO Downloading http://136.156.133.41/cache-compute-0013/cache/data0/adaptor.uerra_mars.external-1604601621.6686652-29515-18-92b83ead-d617-4726-b1b8-6d7603d908a1.nc to UERRA_t2m.nc (30.5M)\n",
      "2020-11-05 21:41:00,166 INFO Download rate 11M/s      \n"
     ]
    },
    {
     "data": {
      "text/plain": [
       "Result(content_length=31943023,content_type=application/x-netcdf,location=http://136.156.133.41/cache-compute-0013/cache/data0/adaptor.uerra_mars.external-1604601621.6686652-29515-18-92b83ead-d617-4726-b1b8-6d7603d908a1.nc)"
      ]
     },
     "execution_count": 7,
     "metadata": {},
     "output_type": "execute_result"
    }
   ],
   "source": [
    "c = cdsapi.Client(url=CDS_URL, key=CDS_KEY)\n",
    "c.retrieve(\n",
    "    'reanalysis-uerra-europe-single-levels',\n",
    "    {\n",
    "        'origin': 'uerra_harmonie',\n",
    "        'variable': '2m_temperature',\n",
    "        'year': [\n",
    "            '1998', '1999', '2000',\n",
    "            '2001', '2002', '2003',\n",
    "            '2004', '2005', '2006',\n",
    "            '2007', '2008', '2009',\n",
    "            '2010', '2011', '2012',\n",
    "            '2013', '2014', '2015',\n",
    "            '2016', '2017', '2018',\n",
    "        ],\n",
    "        'month': '12',\n",
    "        'day': '15',\n",
    "        'time': '12:00',\n",
    "        'format': 'netcdf',\n",
    "    },\n",
    "    'UERRA_t2m.nc')"
   ]
  },
  {
   "cell_type": "markdown",
   "metadata": {},
   "source": [
    "<hr>"
   ]
  },
  {
   "cell_type": "markdown",
   "metadata": {},
   "source": [
    "<p><img src='./img/copernicus_logo.png' align='right' alt='Logo EU Copernicus' width='20%'></img></p>\n",
    "<br><br><br><br>\n",
    "<span style='float:right'><p style=\\\"text-align:right;\\\">This project is licensed under <a href=\"./LICENSE\">APACHE License 2.0</a>. | <a href=\\\"https://github.com/ecmwf-projects/copernicus-training\">View on GitHub</a></span>"
   ]
  }
 ],
 "metadata": {
  "kernelspec": {
   "display_name": "Python 3",
   "language": "python",
   "name": "python3"
  },
  "language_info": {
   "codemirror_mode": {
    "name": "ipython",
    "version": 3
   },
   "file_extension": ".py",
   "mimetype": "text/x-python",
   "name": "python",
   "nbconvert_exporter": "python",
   "pygments_lexer": "ipython3",
   "version": "3.7.0"
  }
 },
 "nbformat": 4,
 "nbformat_minor": 4
}
