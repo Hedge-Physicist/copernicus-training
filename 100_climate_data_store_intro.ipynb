{
 "cells": [
  {
   "cell_type": "markdown",
   "metadata": {},
   "source": [
    "<img src='./img/logoline_12000.png' align='right' width='100%'></img>"
   ]
  },
  {
   "cell_type": "markdown",
   "metadata": {},
   "source": [
    "<br>"
   ]
  },
  {
   "cell_type": "markdown",
   "metadata": {},
   "source": [
    "# The Copernicus Climate Data Store (CDS) - Introduction and data access example"
   ]
  },
  {
   "cell_type": "markdown",
   "metadata": {},
   "source": [
    "This notebook provides you an introduction to the Copernicus Climate Data Store (CDS), an overview of the type of data that can be accessed and gives practical examples how to access and retrieve data from the CDS."
   ]
  },
  {
   "cell_type": "markdown",
   "metadata": {},
   "source": [
    "### Outline\n",
    "* [1 - About](#about)\n",
    "* [2 - C3S data overview](#c3s_data_overview)\n",
    "* [3 - C3S data retrieval](#c3s_data_retrieval)\n",
    " * [3.1 - Access data manually via the CDS web interface](#access_manual)\n",
    " * [3.2 - Access data in a programmatic way with the CDS API](#access_programmatic)\n",
    "* [4 - Example data requests](#example_requests)\n",
    " * [4.1 - Climate reanalysis](#climate_reanalysis)\n",
    " * [4.2 - Seasonal forecasts](#seasonal_forecasts)\n",
    " * [4.3 - Climate projections](#climate_projections)"
   ]
  },
  {
   "cell_type": "markdown",
   "metadata": {},
   "source": [
    "### How to access the notebook\n",
    "* via [nbviewer](https://nbviewer.org/github/ecmwf-projects/copernicus-training/blob/master/100_climate_data_store_intro.ipynb): view a static version of the notebook\n",
    "* via [Binder](https://mybinder.org/v2/gh/ecmwf-projects/copernicus-training/HEAD?urlpath=lab/tree/100_climate_data_store_intro.ipynb): run, execute and modify the notebook"
   ]
  },
  {
   "cell_type": "markdown",
   "metadata": {},
   "source": [
    "<hr>"
   ]
  },
  {
   "cell_type": "markdown",
   "metadata": {},
   "source": [
    "## <a id='about'></a>1. About"
   ]
  },
  {
   "cell_type": "markdown",
   "metadata": {},
   "source": [
    "The [Copernicus Climate Data Store (CDS)](https://cds.climate.copernicus.eu/) is the data access portal of the [Copernicus Climate Change Service (C3S)](https://climate.copernicus.eu/) and offers access to `data` and `applications` about the Earth's past, present and future climate."
   ]
  },
  {
   "cell_type": "markdown",
   "metadata": {},
   "source": [
    "<img src='./img/cds_landing_page.png' align='left' width='80%'></img>"
   ]
  },
  {
   "cell_type": "markdown",
   "metadata": {},
   "source": [
    "<hr>"
   ]
  },
  {
   "cell_type": "markdown",
   "metadata": {},
   "source": [
    "## <a id='c3s_data_overview'></a>2. C3S data overview"
   ]
  },
  {
   "cell_type": "markdown",
   "metadata": {},
   "source": [
    "The Copernicus Climate Change Service offers a variety of different climate data products. The most popular ones can be classified in three:\n",
    "\n",
    "#### Climate reanalysis\n",
    "Climate reanalysis combines model data with observations from across the world into a globally complete and consistent dataset. Get an overview of climate reanalysis data offered by the CDS [here](./101_c3s_data_intro.ipynb#climate_reanalysis)\n",
    "\n",
    "#### Seasonal Forecasts\n",
    "Seasonal forecasts provide a long-range outlook of changes in the Earth system over periods of a few weeks or months. Get an overview of seasonal forecasts offered by the CDS [here](./101_c3s_data_intro.ipynb#seasonal_forecasts).\n",
    "\n",
    "#### Climate projections\n",
    "Climate projections are simulations of the future climate performed using models that represent physical processes in the atmosphere, ocean, cryosphere, biosphere and land, as well as interactions between them. Climate projections describe the fture evolution of the planet's climate system at global and regional scales. Get an overview of climate projections offered by the CDS [here](./101_c3s_data_intro.ipynb#climate_projections).\n",
    "\n",
    "\n",
    "\n",
    "<br>\n",
    "\n",
    "A complete overview of all the climate data available from the CDS can be found on the CDS web interface under [Datasets](https://cds.climate.copernicus.eu/cdsapp#!/search?type=dataset)."
   ]
  },
  {
   "cell_type": "markdown",
   "metadata": {},
   "source": [
    "<hr>"
   ]
  },
  {
   "cell_type": "markdown",
   "metadata": {},
   "source": [
    "## <a id='c3s_data_retrieval'></a>3. Data retrieval"
   ]
  },
  {
   "cell_type": "markdown",
   "metadata": {},
   "source": [
    "There are two ways how to access data from the Copernicus Climate Data Store (CDS):\n",
    "* [manually](#access_manual) via the CDS web interface, or\n",
    "* [programmatically](#access_programmatic) with the CDS API"
   ]
  },
  {
   "cell_type": "markdown",
   "metadata": {},
   "source": [
    "### <a id='access_manual'></a>3.1 Access data manually via the CDS web interface"
   ]
  },
  {
   "cell_type": "markdown",
   "metadata": {},
   "source": [
    "The `CDS web interface` allows you to manually `browse`, `select` and `download` data products offered by the CDS. First, under [Datasets](https://cds.climate.copernicus.eu/cdsapp#!/search?type=dataset), you can browse and select the data product you are interested in. In a second step, you can then specify details of the data download form you wish to submit."
   ]
  },
  {
   "cell_type": "markdown",
   "metadata": {},
   "source": [
    "#### Filter and select a data product"
   ]
  },
  {
   "cell_type": "markdown",
   "metadata": {},
   "source": [
    "As a first step, you can `browse` and `filter` the data product you are interested in. The [Datasets](https://cds.climate.copernicus.eu/cdsapp#!/search?type=dataset) interface allows you either to select data based on different categories, e.g. `Product type`, `Variable domain`, `Spatial / Temporal coverage`, but also offers a free text search. The list of data products allows you to select the dataset you are interested in. \n",
    "\n",
    "Once you selected a dataset, you then get redirected to a data description section, which provides you an overview of the chosen dataset as well as the option to specify the dataset you would like to download and to submit the download form."
   ]
  },
  {
   "cell_type": "markdown",
   "metadata": {},
   "source": [
    "<br>"
   ]
  },
  {
   "cell_type": "markdown",
   "metadata": {},
   "source": [
    "<img src='./img/cds_web_interface_1.png' align='left' width='60%'></img>"
   ]
  },
  {
   "cell_type": "markdown",
   "metadata": {},
   "source": [
    "<br>"
   ]
  },
  {
   "cell_type": "markdown",
   "metadata": {},
   "source": [
    "#### Submit the *Download form*"
   ]
  },
  {
   "cell_type": "markdown",
   "metadata": {},
   "source": [
    "The `Data description` section (see 1) provides you an overview of the dataset product, including a list of variables that are available. Under the tab `Download data`, the `Download form` opens (see 2) which allows you to  manually filter the data product based on:\n",
    "* `Product type`\n",
    "* `Variable`\n",
    "* `Year / Month / Time`\n",
    "* `Geographical area`\n",
    "* `Format`\n",
    "\n",
    "At the end of the `Download form`, you get three options: `Show API request`, `Show Toolbox request` and `Submit Form`. If you want to download the data manually, the data requests will be executed as soon as you click on the `Submit Form` button. You will need the `Show API request`, if you want to request data in a programmatic way. See [Section 3.2](#access_programmatic) for further information.\n"
   ]
  },
  {
   "cell_type": "markdown",
   "metadata": {},
   "source": [
    "<div class=\"alert alert-block alert-success\">\n",
    "<b>NOTE</b>: <br>\n",
    "    Under the tab <code>Your requests</code> in the main menu, you can monitor the status of your data requests.</div>\n",
    "\n",
    "<br>"
   ]
  },
  {
   "cell_type": "markdown",
   "metadata": {},
   "source": [
    "<img src='./img/cds_data_description_download_form.png' align='left' width='60%'></img>"
   ]
  },
  {
   "cell_type": "markdown",
   "metadata": {},
   "source": [
    "### <a id='access_programmatic'></a>3.2 Access data programmatically with the CDS API"
   ]
  },
  {
   "cell_type": "markdown",
   "metadata": {},
   "source": [
    "The `Climate Data Store Application Program Interface (CDS API)` is a Python library which allows you to access data from the CDS programmatically. The library is available for both Python versions, Python 2.7.x and Python 3. In order to use the CDS API, follow the steps below:"
   ]
  },
  {
   "cell_type": "markdown",
   "metadata": {},
   "source": [
    "#### Install the CDS API key"
   ]
  },
  {
   "cell_type": "markdown",
   "metadata": {},
   "source": [
    "* [Self-register](https://cds.climate.copernicus.eu/#!/home) at the CDS registration page (if you do not have an account yet)\n",
    "* [Login](https://cds.climate.copernicus.eu/user/login) to the CDS portal and go to the [api-how-to page](https://cds.climate.copernicus.eu/api-how-to)\n",
    "* Copy the CDS API key displayed in the black terminal window in a file under `$HOME/.cdsapirc`\n",
    "\n",
    "**Note:** You find your CDS API key displayed in the black terminal box under the section `Install the CDS API key`. If you do not see a URL or key appear in the black terminal box, please refresh your browser tab. \n",
    "  "
   ]
  },
  {
   "cell_type": "markdown",
   "metadata": {},
   "source": [
    "<img src='./img/cds_api_key.png' align='left' width='60%'></img>"
   ]
  },
  {
   "cell_type": "markdown",
   "metadata": {},
   "source": [
    "The code below creates the file under your current working directory. Make sure to replace the `################` with your personal `CDS API key`.\n"
   ]
  },
  {
   "cell_type": "code",
   "execution_count": null,
   "metadata": {},
   "outputs": [
    {
     "name": "stdout",
     "output_type": "stream",
     "text": [
      "Overwriting ./.cdsapirc\n"
     ]
    }
   ],
   "source": [
    "%%writefile ./.cdsapirc\n",
    "\n",
    "url: https://cds.climate.copernicus.eu/api/v2\n",
    "key: ##############################"
   ]
  },
  {
   "cell_type": "markdown",
   "metadata": {},
   "source": [
    "<br>\n",
    "\n",
    "<div class=\"alert alert-block alert-success\">\n",
    "<b>NOTE</b>: <br>\n",
    "    Alternatively to store your CDS API key in the .cdsapirc file, you can also include the <code>url</code> and your <code>CDS API key</code> as additional keyword arguments when you define the <code>cds.Client()</code>:<br>\n",
    "    <br>\n",
    "<code>cds.Client(url='https://cds.climate.copernicus.eu/api/v2', key=#################)</code></div>\n",
    "\n",
    "<br>\n"
   ]
  },
  {
   "cell_type": "markdown",
   "metadata": {},
   "source": [
    "#### Install the CDS API client"
   ]
  },
  {
   "cell_type": "markdown",
   "metadata": {},
   "source": [
    "The next step is to install the `CDS API client`. You can do this with the package management system `pip`."
   ]
  },
  {
   "cell_type": "code",
   "execution_count": null,
   "metadata": {},
   "outputs": [],
   "source": [
    "!pip install cdsapi"
   ]
  },
  {
   "cell_type": "markdown",
   "metadata": {},
   "source": [
    "#### Use the CDS API client for data access"
   ]
  },
  {
   "cell_type": "markdown",
   "metadata": {},
   "source": [
    "Once the `CDS API` is installed, it can be used to request data from the Climate Data Store."
   ]
  },
  {
   "cell_type": "markdown",
   "metadata": {},
   "source": [
    "Below, you see the principle of a `data retrieval` request. You always have to make sure to first import the `cdsapi` and define a `cdsapi.Client()` before you are able to execute an `API request`. You can use the [web interface](https://cds.climate.copernicus.eu/cdsapp#!/search?type=dataset) to browse through the datasets. At the end of the `Download form`, there is the option to choose `Show API request`. If you click this button, the `API request` appears (see example below), which you can copy paste into your coding workflow.\n",
    "\n",
    "<br>\n",
    "\n",
    "<div><img src='./img/cdsapi_request.png' align='left' width='30%'></img></div>\n",
    "\n",
    "\n",
    "\n",
    "\n"
   ]
  },
  {
   "cell_type": "markdown",
   "metadata": {},
   "source": [
    "<br>\n",
    "\n",
    "<div class=\"alert alert-block alert-success\">\n",
    "<b>NOTE</b>: <br>\n",
    "    Per default, ECMWF data is stored on a grid with longitudes from 0 to 360 degrees. It can be reprojected to a regular geographic latitude-longitude grid, by setting the keyword argument <code>area</code> and <code>grid</code>. Per default, data is retrieved in <code>GRIB</code>. If you wish to retrieve the data in <code>netCDF</code>, you have to specify it by using the keyword argument <code>format</code>.</div>\n",
    "\n",
    "<br>\n",
    "\n",
    "See [below](#example_requests) for some example `CDS API requests`."
   ]
  },
  {
   "cell_type": "markdown",
   "metadata": {},
   "source": [
    "<hr>"
   ]
  },
  {
   "cell_type": "markdown",
   "metadata": {},
   "source": [
    "## <a id='example_requests'></a>4. Example data requests"
   ]
  },
  {
   "cell_type": "markdown",
   "metadata": {},
   "source": [
    "Below, you find a list of CDS API requests that have been used to retrieve the datasets used throughout the learning modules\n",
    "\n",
    "* [Climate reanalysis](#climate_reanalysis)\n",
    "  * [ERA5 monthly average data on single levels from 1979 to present](#era5_monthly)\n",
    "  * [ERA5 hourly data on single levels from 1979 to present](#era5_hourly)\n",
    "  * [ERA5-Land hourly data on single levels from 1981 to present](#era5-land_hourly)\n",
    "* [Seasonal forecasts](#seasonal_forecasts)\n",
    "  * [Seasonal forecast monthly statistics on single levels - Retrospective forecasts (Hindcasts)](#seas5_hindcasts)\n",
    "  * [Seasonal forecast monthly statistics on single levels - Hindcast climate mean](#seas5_hindcast_mean)\n",
    "  * [Seasonal forecast monthly statistics on single levels - Forecasts](#seas5_monthly_forecast)\n",
    "  * [Seasonal forecast anomalies on single levels](#seas5_monthly_anomalies)\n",
    "* [Climate projections](#climate_projections)\n",
    "  * [CMIP6 global climate projections - Experiment: Historical](#cmip6_historical)\n",
    "  * [CMIP6 global climate projections - Experiment: SSP1-2.6](#cmip6_ssp126)\n",
    "  * [CMIP6 global climate projections - Experiment: SSP2-4.5](#cmip6_ssp245)\n",
    "  * [CMIP6 global climate projections - Experiment: SSP5-8.5](#cmip6_ssp585)\n",
    "  * [CORDEX regional climate model data on single levels - Experiment: Historical](#cordex_historical)\n",
    "  * [CORDEX regional climate model data on single levels - Experiment: RCP4.5](#cordex_rcp45)"
   ]
  },
  {
   "cell_type": "markdown",
   "metadata": {},
   "source": [
    "### <a id='climate_reanalysis'></a>4.1 Climate reanalysis"
   ]
  },
  {
   "cell_type": "markdown",
   "metadata": {},
   "source": [
    "* [ERA5 monthly averaged data on single levels from 1979 to present](#era5_monthly)\n",
    "* [ERA5 hourly data on single levels from 1979 to present](#era5_hourly)\n",
    "* [ERA5-Land hourly data on single levels from 1981 to present](#era5-land_hourly)"
   ]
  },
  {
   "cell_type": "markdown",
   "metadata": {},
   "source": [
    "#### <a id='era5_monthly'></a>Example: **ERA5 monthly averaged data on single levels from 1979 to present**"
   ]
  },
  {
   "cell_type": "markdown",
   "metadata": {},
   "source": [
    "> Data used in [111_c3s_climatologies_trends](./111_c3s_climatologies_trends.ipynb)"
   ]
  },
  {
   "cell_type": "markdown",
   "metadata": {},
   "source": [
    "CDS API name: `reanalysis-era5-single-levels-monthly-means`\n",
    "\n",
    "> - Product type: `monthly_averaged_reanalysis`\n",
    "> - Variable: `2m_temperature`\n",
    "> - Year: `[1979 to 2020]`\n",
    "> - Month: `[01 to 12]`\n",
    "> - Time: `00:00` (default)\n",
    "> - Geographical area: `Whole available region` \n",
    "> - Format: `netcdf`"
   ]
  },
  {
   "cell_type": "code",
   "execution_count": null,
   "metadata": {},
   "outputs": [],
   "source": [
    "import cdsapi\n",
    "c = cdsapi.Client()\n",
    "c.retrieve(\n",
    "    'reanalysis-era5-single-levels-monthly-means',\n",
    "    {\n",
    "        'product_type': 'monthly_averaged_reanalysis',\n",
    "        'variable': '2m_temperature',\n",
    "        'year': [\n",
    "            '1979', '1980', '1981',\n",
    "            '1982', '1983', '1984',\n",
    "            '1985', '1986', '1987',\n",
    "            '1988', '1989', '1990',\n",
    "            '1991', '1992', '1993',\n",
    "            '1994', '1995', '1996',\n",
    "            '1997', '1998', '1999',\n",
    "            '2000', '2001', '2002',\n",
    "            '2003', '2004', '2005',\n",
    "            '2006', '2007', '2008',\n",
    "            '2009', '2010', '2011',\n",
    "            '2012', '2013', '2014',\n",
    "            '2015', '2016', '2017',\n",
    "            '2018', '2019', '2020'\n",
    "        ],\n",
    "        'month': [\n",
    "            '01', '02', '03',\n",
    "            '04', '05', '06',\n",
    "            '07', '08', '09',\n",
    "            '10', '11', '12',\n",
    "        ],\n",
    "        'time': '00:00',\n",
    "        'format': 'netcdf',\n",
    "    },\n",
    "    './data/era5_monthly_t2m.nc')"
   ]
  },
  {
   "cell_type": "markdown",
   "metadata": {},
   "source": [
    "<br>"
   ]
  },
  {
   "cell_type": "markdown",
   "metadata": {},
   "source": [
    "#### <a id='era5_monthly_seas5'></a>Example: **ERA5 monthly averaged data on single levels from 1979 to present**"
   ]
  },
  {
   "cell_type": "markdown",
   "metadata": {},
   "source": [
    "> Data used in [122_c3s_bias_correction](./122_c3s_seasonal_forecast_bias_correction.ipynb)"
   ]
  },
  {
   "cell_type": "markdown",
   "metadata": {},
   "source": [
    "CDS API name: `reanalysis-era5-single-levels-monthly-means`\n",
    "\n",
    "> - Product type: `monthly_averaged_reanalysis`\n",
    "> - Variable: `sea_surface_temperature`\n",
    "> - Year: `[1993 to 2016]`\n",
    "> - Month: `['01', '02', '09', '10', '11', '12']`\n",
    "> - Time: `00:00` (default)\n",
    "> - Geographical area: `Whole available region` \n",
    "> - Format: `grib`"
   ]
  },
  {
   "cell_type": "code",
   "execution_count": null,
   "metadata": {},
   "outputs": [],
   "source": [
    "c = cdsapi.Client()\n",
    "\n",
    "c.retrieve(\n",
    "    'reanalysis-era5-single-levels-monthly-means',\n",
    "    {\n",
    "        'product_type': 'monthly_averaged_reanalysis',\n",
    "        'variable': 'sea_surface_temperature',\n",
    "        'year': [\n",
    "            '1993', '1994', '1995',\n",
    "            '1996', '1997', '1998',\n",
    "            '1999', '2000', '2001',\n",
    "            '2002', '2003', '2004',\n",
    "            '2005', '2006', '2007',\n",
    "            '2008', '2009', '2010',\n",
    "            '2011', '2012', '2013',\n",
    "            '2014', '2015', '2016',\n",
    "        ],\n",
    "        'month': [\n",
    "            '01', '02', '09',\n",
    "            '10', '11', '12',\n",
    "        ],\n",
    "        'time': '00:00',\n",
    "        'format': 'grib',\n",
    "    },\n",
    "    './data/era5_monthly_1993-2016_sep-feb_sst.grib')"
   ]
  },
  {
   "cell_type": "markdown",
   "metadata": {},
   "source": [
    "<br>"
   ]
  },
  {
   "cell_type": "markdown",
   "metadata": {
    "tags": []
   },
   "source": [
    "#### <a id='era5_hourly'></a>Example: **ERA5 hourly data on single levels from 1979 to present**"
   ]
  },
  {
   "cell_type": "markdown",
   "metadata": {
    "tags": []
   },
   "source": [
    "> Data used in [112_c3s_climate_extremes](./112_c3s_climate_extremes.ipynb)"
   ]
  },
  {
   "cell_type": "markdown",
   "metadata": {
    "tags": []
   },
   "source": [
    "CDS API name: `reanalysis-era5-single-levels`\n",
    "\n",
    "> - Product type: `reanalysis`\n",
    "> - Variable: `2m_temperature`\n",
    "> - Year: `[1979 to 2020]`\n",
    "> - Month: `09`\n",
    "> - Day: `[1 to 30]`\n",
    "> - Time: `[00:00 to 23:00]`\n",
    "> - Area: `[51, 3, 50, 4]` \n",
    "> - Format: `netcdf`"
   ]
  },
  {
   "cell_type": "markdown",
   "metadata": {
    "tags": []
   },
   "source": [
    "**Note:** the request above makes use of the keyword `area`, which enable you to retrieve only a geographical subset. The bounding box information are set as follows: `[N, W, S, E]`. When this keyword is set, the data is automatically projected to a grid from [-180, 180].  "
   ]
  },
  {
   "cell_type": "code",
   "execution_count": null,
   "metadata": {},
   "outputs": [],
   "source": [
    "import cdsapi\n",
    "c = cdsapi.Client()\n",
    "c.retrieve(\n",
    "    'reanalysis-era5-single-levels',\n",
    "    {\n",
    "        'product_type': 'reanalysis',\n",
    "        'format': 'netcdf',\n",
    "        'variable': '2m_temperature',\n",
    "        'year': [\n",
    "            '1979', '1980', '1981',\n",
    "            '1982', '1983', '1984',\n",
    "            '1985', '1986', '1987',\n",
    "            '1988', '1989', '1990',\n",
    "            '1991', '1992', '1993',\n",
    "            '1994', '1995', '1996',\n",
    "            '1997', '1998', '1999',\n",
    "            '2000', '2001', '2002',\n",
    "            '2003', '2004', '2005',\n",
    "            '2006', '2007', '2008',\n",
    "            '2009', '2010', '2011',\n",
    "            '2012', '2013', '2014',\n",
    "            '2015', '2016', '2017',\n",
    "            '2018', '2019', '2020',\n",
    "        ],\n",
    "        'month': '09',\n",
    "        'day': [\n",
    "            '01', '02', '03',\n",
    "            '04', '05', '06',\n",
    "            '07', '08', '09',\n",
    "            '10', '11', '12',\n",
    "            '13', '14', '15',\n",
    "            '16', '17', '18',\n",
    "            '19', '20', '21',\n",
    "            '22', '23', '24',\n",
    "            '25', '26', '27',\n",
    "            '28', '29', '30',\n",
    "        ],\n",
    "        'time': [\n",
    "            '00:00', '01:00', '02:00',\n",
    "            '03:00', '04:00', '05:00',\n",
    "            '06:00', '07:00', '08:00',\n",
    "            '09:00', '10:00', '11:00',\n",
    "            '12:00', '13:00', '14:00',\n",
    "            '15:00', '16:00', '17:00',\n",
    "            '18:00', '19:00', '20:00',\n",
    "            '21:00', '22:00', '23:00',\n",
    "        ],\n",
    "        'area': [\n",
    "            51, 3, 50, 4, # North, West, South, East\n",
    "        ],\n",
    "    },\n",
    "    './data/era5_t2m_hourly_northern_france_sep.nc')"
   ]
  },
  {
   "cell_type": "markdown",
   "metadata": {},
   "source": [
    "<br>"
   ]
  },
  {
   "cell_type": "markdown",
   "metadata": {},
   "source": [
    "#### <a id='era5-land_hourly'></a>Example: **ERA5-Land hourly data from 1950 to present**"
   ]
  },
  {
   "cell_type": "markdown",
   "metadata": {},
   "source": [
    "> Data used in [113_c3s_climate_indices](./113_c3s_climate_indices.ipynb)"
   ]
  },
  {
   "cell_type": "markdown",
   "metadata": {},
   "source": [
    "CDS API name: `reanalysis-era5-land`\n",
    "\n",
    "> - Variable: `['10m_u_component_of_wind', '10m_v_component_of_wind','2m_temperature']`\n",
    "> - Year: `[1981 to 2020]`\n",
    "> - Month: `12`\n",
    "> - Day: `15`\n",
    "> - Time: `12:00`\n",
    "> - Area: `[60, -10, 35, 30]` # North, West, South, East\n",
    "> - Format: `netcdf`"
   ]
  },
  {
   "cell_type": "markdown",
   "metadata": {},
   "source": [
    "**Note:** the request above makes use of the keyword `area`, which enable you to retrieve only a geographical subset. The bounding box information are set as follows: `[N, W, S, E]`. When this keyword is set, the data is automatically projected to a grid from [-180, 180].  "
   ]
  },
  {
   "cell_type": "code",
   "execution_count": null,
   "metadata": {},
   "outputs": [],
   "source": [
    "import cdsapi\n",
    "c = cdsapi.Client()\n",
    "c.retrieve(\n",
    "    'reanalysis-era5-land',\n",
    "    {\n",
    "        'variable': [\n",
    "            '10m_u_component_of_wind', '10m_v_component_of_wind', '2m_temperature',\n",
    "        ],\n",
    "        'year': [\n",
    "            '1981', '1982', '1983',\n",
    "            '1984', '1985', '1986',\n",
    "            '1987', '1988', '1989',\n",
    "            '1990', '1991', '1992',\n",
    "            '1993', '1994', '1995',\n",
    "            '1996', '1997', '1998',\n",
    "            '1999', '2000', '2001',\n",
    "            '2002', '2003', '2004',\n",
    "            '2005', '2006', '2007',\n",
    "            '2008', '2009', '2010',\n",
    "            '2011', '2012', '2013',\n",
    "            '2014', '2015', '2016',\n",
    "            '2017', '2018', '2019',\n",
    "            '2020',\n",
    "        ],\n",
    "        'month': '12',\n",
    "        'day': '15',\n",
    "        'time': '12:00',\n",
    "        'format': 'netcdf',\n",
    "        'area': [\n",
    "            60, -10, 35,\n",
    "            30,\n",
    "        ],\n",
    "    },\n",
    "    './data/era5-land_eur_1981_2020.nc')"
   ]
  },
  {
   "cell_type": "markdown",
   "metadata": {},
   "source": [
    "<hr>"
   ]
  },
  {
   "cell_type": "markdown",
   "metadata": {},
   "source": [
    "### <a id='seasonal_forecasts'></a>4.2 Seasonal forecasts"
   ]
  },
  {
   "cell_type": "markdown",
   "metadata": {},
   "source": [
    "* [Seasonal forecast monthly statistics on single levels - Retrospective forecasts (Hindcasts)](#seas5_hindcasts)\n",
    "* [Seasonal forecast monthly statistics on single levels - Hindcast climate mean](#seas5_hindcast_mean)\n",
    "* [Seasonal forecast monthly statistics on single levels - Forecasts](#seas5_monthly_forecast)\n",
    "* [Seasonal forecast anomalies on single levels](#seas5_monthly_anomalies)"
   ]
  },
  {
   "cell_type": "markdown",
   "metadata": {},
   "source": [
    "#### <a id='seas5_monthly_hindcast'></a>Example: **Seasonal forecast monthly statistics on single levels - Retrospective forecasts (Hindcasts)**"
   ]
  },
  {
   "cell_type": "markdown",
   "metadata": {},
   "source": [
    "> Data used in \n",
    "> * [121_c3s_seasonal_forecast anomalies](./121_c3s_seasonal_forecasts_anomalies.ipynb)\n",
    "> * [122_c3s_seasonal_forecast_bias_correction](./122_c3s_seasonal_forecasts_bias_correction.ipynb)"
   ]
  },
  {
   "cell_type": "markdown",
   "metadata": {},
   "source": [
    "CDS API name: `seasonal-monthly-single-levels`\n",
    "\n",
    "> - Originating centre: `ecmwf`\n",
    "> - System: `5`\n",
    "> - Product type: `monthly_mean`\n",
    "> - Variable: `['total_precipitation', 'sea_surface_temperature']`\n",
    "> - Year: `[1993 to 2016]` # Hindcast data\n",
    "> - Month: `09`\n",
    "> - Leadtime month: `['1', '2', '3', '4', '5', '6']`\n",
    "> - Geographical area: `Whole available region` \n",
    "> - Format: `grib`"
   ]
  },
  {
   "cell_type": "code",
   "execution_count": null,
   "metadata": {},
   "outputs": [],
   "source": [
    "import cdsapi\n",
    "\n",
    "c = cdsapi.Client()\n",
    "\n",
    "c.retrieve(\n",
    "    'seasonal-monthly-single-levels',\n",
    "    {\n",
    "        'format': 'grib',\n",
    "        'originating_centre': 'ecmwf',\n",
    "        'system': '5',\n",
    "        'variable': ['total_precipitation','sea_surface_temperature'],\n",
    "        'product_type': 'monthly_mean',\n",
    "        'year': [\n",
    "            '1993', '1994', '1995',\n",
    "            '1996', '1997', '1998',\n",
    "            '1999', '2000', '2001',\n",
    "            '2002', '2003', '2004',\n",
    "            '2005', '2006', '2007',\n",
    "            '2008', '2009', '2010',\n",
    "            '2011', '2012', '2013',\n",
    "            '2014', '2015', '2016',\n",
    "        ],\n",
    "        'month': '09',\n",
    "        'leadtime_month': [\n",
    "            '1', '2', '3',\n",
    "            '4', '5', '6',\n",
    "        ],\n",
    "    },\n",
    "    './data/ecmwf_seas5_1993-2016_09_hindcast_monthly.grib')"
   ]
  },
  {
   "cell_type": "markdown",
   "metadata": {},
   "source": [
    "<br>"
   ]
  },
  {
   "cell_type": "markdown",
   "metadata": {},
   "source": [
    "#### <a id='seas5_monthly_hindcast_mean'></a>Example: **Seasonal forecast monthly statistics on single levels - Hindcast climate mean**"
   ]
  },
  {
   "cell_type": "markdown",
   "metadata": {},
   "source": [
    "> Data used in [121_c3s_seasonal_forecast anomalies](./121_c3s_seasonal_forecasts_anomalies.ipynb)"
   ]
  },
  {
   "cell_type": "markdown",
   "metadata": {},
   "source": [
    "CDS API name: `seasonal-monthly-single-levels`\n",
    "\n",
    "> - Originating centre: `ecmwf`\n",
    "> - System: `5`\n",
    "> - Product type: `hindcast_climate_mean`\n",
    "> - Variable: `'total_precipitation'`\n",
    "> - Year: `2021`\n",
    "> - Month: `09`\n",
    "> - Leadtime month: `['1', '2', '3', '4', '5', '6']`\n",
    "> - Geographical area: `Whole available region` \n",
    "> - Format: `grib`"
   ]
  },
  {
   "cell_type": "code",
   "execution_count": null,
   "metadata": {},
   "outputs": [],
   "source": [
    "import cdsapi\n",
    "\n",
    "c = cdsapi.Client()\n",
    "\n",
    "c.retrieve(\n",
    "    'seasonal-monthly-single-levels',\n",
    "    {\n",
    "        'format': 'grib',\n",
    "        'originating_centre': 'ecmwf',\n",
    "        'system': '5',\n",
    "        'variable': 'total_precipitation',\n",
    "        'product_type': 'hindcast_climate_mean',\n",
    "        'month': '09',\n",
    "        'leadtime_month': [\n",
    "            '1', '2', '3',\n",
    "            '4', '5', '6',\n",
    "        ],\n",
    "        'year': '2021',\n",
    "    },\n",
    "    './data/ecmwf_seas5_hincast_climate_mean_tp.grib')"
   ]
  },
  {
   "cell_type": "markdown",
   "metadata": {},
   "source": [
    "<br>"
   ]
  },
  {
   "cell_type": "markdown",
   "metadata": {},
   "source": [
    "#### <a id='seas5_monthly_forecast'></a>Example: **Seasonal forecast monthly statistics on single levels - Forecasts**"
   ]
  },
  {
   "cell_type": "markdown",
   "metadata": {},
   "source": [
    "> Data used in \n",
    "> * [121_c3s_seasonal_forecast anomalies](./121_c3s_seasonal_forecasts_anomalies.ipynb)\n",
    "> * [122_c3s_seasonal_forecast_bias_correction](./122_c3s_seasonal_forecasts_bias_correction.ipynb)"
   ]
  },
  {
   "cell_type": "markdown",
   "metadata": {},
   "source": [
    "CDS API name: `seasonal-monthly-single-levels`\n",
    "\n",
    "> - Originating centre: `ecmwf`\n",
    "> - System: `5`\n",
    "> - Product type: `monthly_mean`\n",
    "> - Variable: `['total_precipitation', 'sea_surface_temperature']`\n",
    "> - Year: `2021`\n",
    "> - Month: `09`\n",
    "> - Leadtime month: `['1', '2', '3', '4', '5', '6']`\n",
    "> - Geographical area: `Whole available region` \n",
    "> - Format: `grib`"
   ]
  },
  {
   "cell_type": "code",
   "execution_count": null,
   "metadata": {},
   "outputs": [],
   "source": [
    "import cdsapi\n",
    "\n",
    "c = cdsapi.Client()\n",
    "\n",
    "c.retrieve(\n",
    "    'seasonal-monthly-single-levels',\n",
    "    {\n",
    "        'format': 'grib',\n",
    "        'originating_centre': 'ecmwf',\n",
    "        'system': '5',\n",
    "        'variable': ['total_precipitation', 'sea_surface_temperature'],\n",
    "        'product_type': 'monthly_mean',\n",
    "        'year': '2021',\n",
    "        'month': '09',\n",
    "        'leadtime_month': [\n",
    "            '1', '2', '3',\n",
    "            '4', '5', '6',\n",
    "        ],\n",
    "    },\n",
    "    './data/ecmwf_seas5_2021_09_forecast_monthly.grib')"
   ]
  },
  {
   "cell_type": "markdown",
   "metadata": {},
   "source": [
    "<br>"
   ]
  },
  {
   "cell_type": "markdown",
   "metadata": {},
   "source": [
    "#### <a id='seas5_monthly_anomalies'></a>Example: **Seasonal forecast anomalies on single levels**"
   ]
  },
  {
   "cell_type": "markdown",
   "metadata": {},
   "source": [
    "> Data used in [121_c3s_seasonal_forecast anomalies](./121_c3s_seasonal_forecasts_anomalies.ipynb)"
   ]
  },
  {
   "cell_type": "markdown",
   "metadata": {},
   "source": [
    "CDS API name: `seasonal-postprocessed-single-levels`\n",
    "\n",
    "> - Originating centre: `ecmwf`\n",
    "> - System: `5`\n",
    "> - Product type: `ensemble_mean`\n",
    "> - Variable: `['total_precipitation_anomalous_rate_of_accumulation']`\n",
    "> - Year: `2021`\n",
    "> - Month: `09`\n",
    "> - Leadtime month: `['1', '2', '3', '4', '5', '6']`\n",
    "> - Geographical area: `Whole available region` \n",
    "> - Format: `grib`"
   ]
  },
  {
   "cell_type": "code",
   "execution_count": null,
   "metadata": {},
   "outputs": [],
   "source": [
    "import cdsapi\n",
    "\n",
    "c = cdsapi.Client()\n",
    "\n",
    "c.retrieve(\n",
    "    'seasonal-postprocessed-single-levels',\n",
    "    {\n",
    "        'format': 'grib',\n",
    "        'originating_centre': 'ecmwf',\n",
    "        'system': '5',\n",
    "        'variable': 'total_precipitation_anomalous_rate_of_accumulation',\n",
    "        'product_type': 'ensemble_mean',\n",
    "        'year': '2021',\n",
    "        'month': '09',\n",
    "        'leadtime_month': [\n",
    "            '1', '2', '3',\n",
    "            '4', '5', '6',\n",
    "        ],\n",
    "    },\n",
    "    './ecmwf_seas5_anomalies_2021_09_tp.grib')"
   ]
  },
  {
   "cell_type": "markdown",
   "metadata": {},
   "source": [
    "<hr>"
   ]
  },
  {
   "cell_type": "markdown",
   "metadata": {},
   "source": [
    "### <a id='climate_projections'></a>4.3 Climate Projections"
   ]
  },
  {
   "cell_type": "markdown",
   "metadata": {},
   "source": [
    "* [CMIP6 global climate projections - Experiment: Historical](#cmip6_historical)\n",
    "* [CMIP6 global climate projections - Experiment: SSP1-2.6](#cmip6_ssp126)\n",
    "* [CMIP6 global climate projections - Experiment: SSP2-4.5](#cmip6_ssp245)\n",
    "* [CMIP6 global climate projections - Experiment: SSP5-8.5](#cmip6_ssp585)\n",
    "* [CORDEX regional climate model data on single levels - Experiment: Historical](#cordex_historical)\n",
    "* [CORDEX regional climate model data on single levels - Experiment: RCP4.5](#cordex_rcp45)"
   ]
  },
  {
   "cell_type": "markdown",
   "metadata": {},
   "source": [
    "#### <a id='cmip6_historical'></a>Example: **CMIP6 climate projections - Experiment: Historical**"
   ]
  },
  {
   "cell_type": "markdown",
   "metadata": {},
   "source": [
    "> Data used in \n",
    "> * [131_c3s_cmip6_global_climate_projections](./131_c3s_cmip6_global_climate_projections.ipynb)"
   ]
  },
  {
   "cell_type": "markdown",
   "metadata": {},
   "source": [
    "CDS API name: `projections-cmip6`\n",
    "\n",
    "> - Format: `zip`\n",
    "> - Temporal resolution: `monthly`\n",
    "> - Experiment: `historical`\n",
    "> - Level: `single_levels`\n",
    "> - Variable: `near_surface_air_temperature`\n",
    "> - Model: `hadgem3_gc31_ll`\n",
    "> - Date: `1850-02-01/2014-12-31`"
   ]
  },
  {
   "cell_type": "code",
   "execution_count": 13,
   "metadata": {},
   "outputs": [
    {
     "name": "stderr",
     "output_type": "stream",
     "text": [
      "2021-10-29 08:03:39,626 INFO Welcome to the CDS\n",
      "2021-10-29 08:03:39,627 INFO Sending request to https://cds.climate.copernicus.eu/api/v2/resources/projections-cmip6\n",
      "2021-10-29 08:03:39,823 INFO Request is queued\n",
      "2021-10-29 08:03:40,886 INFO Request is running\n",
      "2021-10-29 08:04:29,553 INFO Request is completed\n",
      "2021-10-29 08:04:29,554 INFO Downloading https://download-0007.copernicus-climate.eu/cache-compute-0007/cache/data9/adaptor.esgf_wps.retrieve-1635487436.508131-12260-16-75e583ed-e2a1-4be9-8d31-a85782a6250d.zip to ./data/cmip6/1850-2019_historical_monthly.zip (102.2M)\n",
      "2021-10-29 08:04:57,841 INFO Download rate 3.6M/s  \n"
     ]
    },
    {
     "data": {
      "text/plain": [
       "Result(content_length=107189358,content_type=application/zip,location=https://download-0007.copernicus-climate.eu/cache-compute-0007/cache/data9/adaptor.esgf_wps.retrieve-1635487436.508131-12260-16-75e583ed-e2a1-4be9-8d31-a85782a6250d.zip)"
      ]
     },
     "execution_count": 13,
     "metadata": {},
     "output_type": "execute_result"
    }
   ],
   "source": [
    "import cdsapi\n",
    "\n",
    "c = cdsapi.Client()\n",
    "c.retrieve(\n",
    "    'projections-cmip6',\n",
    "    {\n",
    "        'format': 'zip',\n",
    "        'temporal_resolution': 'monthly',\n",
    "        'experiment': 'historical',\n",
    "        'level': 'single_levels',\n",
    "        'variable': 'near_surface_air_temperature',\n",
    "        'model': 'hadgem3_gc31_ll',\n",
    "        'date': '1850-02-01/2014-12-31',\n",
    "    },\n",
    "    './data/cmip6/1850-2014_historical_monthly.zip')"
   ]
  },
  {
   "cell_type": "markdown",
   "metadata": {},
   "source": [
    "<br>"
   ]
  },
  {
   "cell_type": "markdown",
   "metadata": {},
   "source": [
    "#### <a id='cmip6_ssp126'></a>Example: **CMIP6 climate projections - Experiment: SSP1-2.6**"
   ]
  },
  {
   "cell_type": "markdown",
   "metadata": {},
   "source": [
    "> Data used in \n",
    "> * [131_c3s_cmip6_global_climate_projections](./131_c3s_cmip6_global_climate_projections.ipynb)"
   ]
  },
  {
   "cell_type": "markdown",
   "metadata": {},
   "source": [
    "CDS API name: `projections-cmip6`\n",
    "\n",
    "> - Format: `zip`\n",
    "> - Temporal resolution: `monthly`\n",
    "> - Experiment: `ssp1_2_6`\n",
    "> - Level: `single_levels`\n",
    "> - Variable: `near_surface_air_temperature`\n",
    "> - Model: `hadgem3_gc31_ll`\n",
    "> - Date: `2015-01-01/2100-12-31`"
   ]
  },
  {
   "cell_type": "code",
   "execution_count": 4,
   "metadata": {},
   "outputs": [
    {
     "name": "stderr",
     "output_type": "stream",
     "text": [
      "2021-10-30 05:58:37,737 INFO Welcome to the CDS\n",
      "2021-10-30 05:58:37,738 INFO Sending request to https://cds.climate.copernicus.eu/api/v2/resources/projections-cmip6\n",
      "2021-10-30 05:58:37,870 INFO Request is queued\n",
      "2021-10-30 05:58:38,922 INFO Request is running\n",
      "2021-10-30 05:59:10,441 INFO Request is completed\n",
      "2021-10-30 05:59:10,441 INFO Downloading https://download-0015.copernicus-climate.eu/cache-compute-0015/cache/data6/adaptor.esgf_wps.retrieve-1635566331.9346652-2630-17-d8ab8bb1-882d-4874-aed9-ab7022338207.zip to ./data/cmip6/2015-2100_ssp1_2_6_monthly.zip (55.3M)\n",
      "2021-10-30 05:59:29,519 INFO Download rate 2.9M/s   \n"
     ]
    },
    {
     "data": {
      "text/plain": [
       "Result(content_length=58029026,content_type=application/zip,location=https://download-0015.copernicus-climate.eu/cache-compute-0015/cache/data6/adaptor.esgf_wps.retrieve-1635566331.9346652-2630-17-d8ab8bb1-882d-4874-aed9-ab7022338207.zip)"
      ]
     },
     "execution_count": 4,
     "metadata": {},
     "output_type": "execute_result"
    }
   ],
   "source": [
    "import cdsapi\n",
    "\n",
    "c = cdsapi.Client()\n",
    "\n",
    "c.retrieve(\n",
    "    'projections-cmip6',\n",
    "    {\n",
    "        'format': 'zip',\n",
    "        'temporal_resolution': 'monthly',\n",
    "        'experiment': 'ssp1_2_6',\n",
    "        'level': 'single_levels',\n",
    "        'variable': 'near_surface_air_temperature',\n",
    "        'model': 'hadgem3_gc31_ll',\n",
    "        'date': '2015-01-01/2100-12-31',\n",
    "    },\n",
    "    './data/cmip6/2015-2100_ssp1_2_6_monthly.zip')"
   ]
  },
  {
   "cell_type": "markdown",
   "metadata": {},
   "source": [
    "<br>"
   ]
  },
  {
   "cell_type": "markdown",
   "metadata": {},
   "source": [
    "#### <a id='cmip6_ssp245'></a>Example: **CMIP6 climate projections - Experiment: SSP2-4.5**"
   ]
  },
  {
   "cell_type": "markdown",
   "metadata": {},
   "source": [
    "> Data used in \n",
    "> * [131_c3s_cmip6_global_climate_projections](./131_c3s_cmip6_global_climate_projections.ipynb)"
   ]
  },
  {
   "cell_type": "markdown",
   "metadata": {},
   "source": [
    "CDS API name: `projections-cmip6`\n",
    "\n",
    "> - Format: `zip`\n",
    "> - Temporal resolution: `monthly`\n",
    "> - Experiment: `ssp2_4_5`\n",
    "> - Level: `single_levels`\n",
    "> - Variable: `near_surface_air_temperature`\n",
    "> - Model: `hadgem3_gc31_ll`\n",
    "> - Date: `2015-01-01/2100-12-31`"
   ]
  },
  {
   "cell_type": "code",
   "execution_count": 5,
   "metadata": {
    "tags": []
   },
   "outputs": [
    {
     "name": "stderr",
     "output_type": "stream",
     "text": [
      "2021-10-30 05:59:52,816 INFO Welcome to the CDS\n",
      "2021-10-30 05:59:52,817 INFO Sending request to https://cds.climate.copernicus.eu/api/v2/resources/projections-cmip6\n",
      "2021-10-30 05:59:52,896 INFO Request is queued\n",
      "2021-10-30 05:59:53,950 INFO Request is running\n",
      "2021-10-30 06:00:25,460 INFO Request is completed\n",
      "2021-10-30 06:00:25,461 INFO Downloading https://download-0000.copernicus-climate.eu/cache-compute-0000/cache/data7/adaptor.esgf_wps.retrieve-1635566403.728495-10859-14-b3884630-d6b0-4225-b047-05b2f74970cb.zip to ./data/cmip6/2015-2100_ssp2_4_5_monthly.zip (55.3M)\n",
      "2021-10-30 06:00:39,208 INFO Download rate 4M/s     \n"
     ]
    },
    {
     "data": {
      "text/plain": [
       "Result(content_length=58008865,content_type=application/zip,location=https://download-0000.copernicus-climate.eu/cache-compute-0000/cache/data7/adaptor.esgf_wps.retrieve-1635566403.728495-10859-14-b3884630-d6b0-4225-b047-05b2f74970cb.zip)"
      ]
     },
     "execution_count": 5,
     "metadata": {},
     "output_type": "execute_result"
    }
   ],
   "source": [
    "import cdsapi\n",
    "\n",
    "c = cdsapi.Client()\n",
    "\n",
    "c.retrieve(\n",
    "    'projections-cmip6',\n",
    "    {\n",
    "        'format': 'zip',\n",
    "        'temporal_resolution': 'monthly',\n",
    "        'experiment': 'ssp2_4_5',\n",
    "        'level': 'single_levels',\n",
    "        'variable': 'near_surface_air_temperature',\n",
    "        'model': 'hadgem3_gc31_ll',\n",
    "        'date': '2015-01-01/2100-12-31',\n",
    "    },\n",
    "    './data/cmip6/2015-2100_ssp2_4_5_monthly.zip')"
   ]
  },
  {
   "cell_type": "markdown",
   "metadata": {},
   "source": [
    "<br>"
   ]
  },
  {
   "cell_type": "markdown",
   "metadata": {
    "tags": []
   },
   "source": [
    "#### <a id='cmip6_ssp585'></a>Example: **CMIP6 climate projections - Experiment: SSP5-8.5**"
   ]
  },
  {
   "cell_type": "markdown",
   "metadata": {},
   "source": [
    "> Data used in \n",
    "> * [131_c3s_cmip6_global_climate_projections](./131_c3s_cmip6_global_climate_projections.ipynb)"
   ]
  },
  {
   "cell_type": "markdown",
   "metadata": {},
   "source": [
    "CDS API name: `projections-cmip6`\n",
    "\n",
    "> - Format: `zip`\n",
    "> - Temporal resolution: `monthly`\n",
    "> - Experiment: `ssp5_8_5`\n",
    "> - Level: `single_levels`\n",
    "> - Variable: `near_surface_air_temperature`\n",
    "> - Model: `hadgem3_gc31_ll`\n",
    "> - Date: `2015-01-01/2100-12-31`"
   ]
  },
  {
   "cell_type": "code",
   "execution_count": 6,
   "metadata": {},
   "outputs": [
    {
     "name": "stderr",
     "output_type": "stream",
     "text": [
      "2021-10-30 06:00:39,260 INFO Welcome to the CDS\n",
      "2021-10-30 06:00:39,261 INFO Sending request to https://cds.climate.copernicus.eu/api/v2/resources/projections-cmip6\n",
      "2021-10-30 06:00:39,317 INFO Request is queued\n",
      "2021-10-30 06:00:40,376 INFO Request is running\n",
      "2021-10-30 06:01:00,504 INFO Request is completed\n",
      "2021-10-30 06:01:00,504 INFO Downloading https://download-0011.copernicus-climate.eu/cache-compute-0011/cache/data5/adaptor.esgf_wps.retrieve-1635566446.3968499-13544-13-2f0fa42a-e100-4362-8b7d-efcd93849a3e.zip to ./data/cmip6/2015-2100_ssp5_8_5_monthly.zip (55.2M)\n",
      "2021-10-30 06:01:12,262 INFO Download rate 4.7M/s   \n"
     ]
    },
    {
     "data": {
      "text/plain": [
       "Result(content_length=57926520,content_type=application/zip,location=https://download-0011.copernicus-climate.eu/cache-compute-0011/cache/data5/adaptor.esgf_wps.retrieve-1635566446.3968499-13544-13-2f0fa42a-e100-4362-8b7d-efcd93849a3e.zip)"
      ]
     },
     "execution_count": 6,
     "metadata": {},
     "output_type": "execute_result"
    }
   ],
   "source": [
    "import cdsapi\n",
    "\n",
    "c = cdsapi.Client()\n",
    "\n",
    "c.retrieve(\n",
    "    'projections-cmip6',\n",
    "    {\n",
    "        'format': 'zip',\n",
    "        'temporal_resolution': 'monthly',\n",
    "        'experiment': 'ssp5_8_5',\n",
    "        'level': 'single_levels',\n",
    "        'variable': 'near_surface_air_temperature',\n",
    "        'model': 'hadgem3_gc31_ll',\n",
    "        'date': '2015-01-01/2100-12-31',\n",
    "    },\n",
    "    './data/cmip6/2015-2100_ssp5_8_5_monthly.zip')"
   ]
  },
  {
   "cell_type": "markdown",
   "metadata": {},
   "source": [
    "<br>"
   ]
  },
  {
   "cell_type": "markdown",
   "metadata": {},
   "source": [
    "#### <a id='cordex_historical'></a>Example: **CORDEX regional climate model data on single levels - Experiment: Historical**"
   ]
  },
  {
   "cell_type": "markdown",
   "metadata": {},
   "source": [
    "> Data used in \n",
    "> * [132_c3s_cordex_regional_climate_projections](./132_c3s_cordex_regional_climate_projections.ipynb)"
   ]
  },
  {
   "cell_type": "markdown",
   "metadata": {},
   "source": [
    "CDS API name: `projections-cordex-domains-single-levels`\n",
    "\n",
    "> - Domain: `africa`\n",
    "> - Experiment: `historical`\n",
    "> - Temporal resolution: `daily_mean`\n",
    "> - Variable: `2m_air_temperature`\n",
    "> - GCM model: `ccma_canesm2`\n",
    "> - RCM model: `cccma_canrcm4`\n",
    "> - Ensemble member: `r1i1p1`\n",
    "> - Start year: `1975`\n",
    "> - End year: `2000` \n",
    "> - Format: `zip`"
   ]
  },
  {
   "cell_type": "code",
   "execution_count": 8,
   "metadata": {},
   "outputs": [
    {
     "name": "stderr",
     "output_type": "stream",
     "text": [
      "2021-10-29 06:49:20,469 INFO Welcome to the CDS\n",
      "2021-10-29 06:49:20,470 INFO Sending request to https://cds.climate.copernicus.eu/api/v2/resources/projections-cordex-domains-single-levels\n",
      "2021-10-29 06:49:20,760 INFO Request is queued\n",
      "2021-10-29 06:49:21,820 INFO Request is running\n",
      "2021-10-29 06:53:39,220 INFO Request is completed\n",
      "2021-10-29 06:53:39,221 INFO Downloading https://download-0010.copernicus-climate.eu/cache-compute-0010/cache/data1/dataset-projections-cordex-domains-single-levels-7afd1dd1-cd07-4f3d-be9b-973c24604201.zip to ./data/1971-2000_cordex_rcp_4_5_africa.zip (908.2M)\n",
      "2021-10-29 06:56:55,574 INFO Download rate 4.6M/s  \n"
     ]
    },
    {
     "data": {
      "text/plain": [
       "Result(content_length=952308195,content_type=application/zip,location=https://download-0010.copernicus-climate.eu/cache-compute-0010/cache/data1/dataset-projections-cordex-domains-single-levels-7afd1dd1-cd07-4f3d-be9b-973c24604201.zip)"
      ]
     },
     "execution_count": 8,
     "metadata": {},
     "output_type": "execute_result"
    }
   ],
   "source": [
    "import cdsapi\n",
    "\n",
    "c = cdsapi.Client()\n",
    "\n",
    "c.retrieve(\n",
    "    'projections-cordex-domains-single-levels',\n",
    "    {\n",
    "        'format': 'zip',\n",
    "        'end_year': [\n",
    "            '1975', '1980', '1985', '1990', '1995', '2000'\n",
    "        ],\n",
    "        'start_year': [\n",
    "            '1971', '1976', '1981', '1986', '1991', '1996'\n",
    "        ],\n",
    "        'ensemble_member': 'r1i1p1',\n",
    "        'rcm_model': 'cccma_canrcm4',\n",
    "        'gcm_model': 'cccma_canesm2',\n",
    "        'variable': '2m_air_temperature',\n",
    "        'horizontal_resolution': '0_44_degree_x_0_44_degree',\n",
    "        'temporal_resolution': 'daily_mean',\n",
    "        'domain': 'africa',\n",
    "        'experiment': 'historical',\n",
    "    },\n",
    "    './data/1971-2000_cordex_rcp_4_5_africa.zip')"
   ]
  },
  {
   "cell_type": "markdown",
   "metadata": {},
   "source": [
    "<br>"
   ]
  },
  {
   "cell_type": "markdown",
   "metadata": {},
   "source": [
    "#### <a id='cordex_rcp45'></a>Example: **CORDEX regional climate model data on single levels - Experiment: RCP4.5**"
   ]
  },
  {
   "cell_type": "markdown",
   "metadata": {},
   "source": [
    "> Data used in \n",
    "> * [132_c3s_cordex_regional_climate_projections](./132_c3s_cordex_regional_climate_projections.ipynb)"
   ]
  },
  {
   "cell_type": "markdown",
   "metadata": {},
   "source": [
    "CDS API name: `projections-cordex-domains-single-levels`\n",
    "\n",
    "> - Domain: `africa`\n",
    "> - Experiment: `rcp_4_5`\n",
    "> - Temporal resolution: `daily_mean`\n",
    "> - Variable: `2m_air_temperature`\n",
    "> - GCM model: `ccma_canesm2`\n",
    "> - RCM model: `cccma_canrcm4`\n",
    "> - Ensemble member: `r1i1p1`\n",
    "> - Start year: `2071`\n",
    "> - End year: `2100` \n",
    "> - Format: `zip`"
   ]
  },
  {
   "cell_type": "code",
   "execution_count": 7,
   "metadata": {},
   "outputs": [
    {
     "name": "stderr",
     "output_type": "stream",
     "text": [
      "2021-10-29 06:37:55,472 INFO Welcome to the CDS\n",
      "2021-10-29 06:37:55,473 INFO Sending request to https://cds.climate.copernicus.eu/api/v2/resources/projections-cordex-domains-single-levels\n",
      "2021-10-29 06:37:55,743 INFO Request is queued\n",
      "2021-10-29 06:37:56,802 INFO Request is running\n",
      "2021-10-29 06:44:14,322 INFO Request is completed\n",
      "2021-10-29 06:44:14,323 INFO Downloading https://download-0006.copernicus-climate.eu/cache-compute-0006/cache/data4/dataset-projections-cordex-domains-single-levels-676cf209-b91b-4a49-99e7-7acbe1287548.zip to ./data/2071-2100_cordex_rcp_4_5_africa.zip (908.1M)\n",
      "2021-10-29 06:47:31,474 INFO Download rate 4.6M/s  \n"
     ]
    },
    {
     "data": {
      "text/plain": [
       "Result(content_length=952229444,content_type=application/zip,location=https://download-0006.copernicus-climate.eu/cache-compute-0006/cache/data4/dataset-projections-cordex-domains-single-levels-676cf209-b91b-4a49-99e7-7acbe1287548.zip)"
      ]
     },
     "execution_count": 7,
     "metadata": {},
     "output_type": "execute_result"
    }
   ],
   "source": [
    "import cdsapi\n",
    "c = cdsapi.Client()\n",
    "c.retrieve(\n",
    "    'projections-cordex-domains-single-levels',\n",
    "    {\n",
    "        'domain': 'africa',\n",
    "        'experiment': 'rcp_4_5',\n",
    "        'horizontal_resolution': '0_44_degree_x_0_44_degree',\n",
    "        'temporal_resolution': 'daily_mean',\n",
    "        'variable': '2m_air_temperature',\n",
    "        'gcm_model': 'cccma_canesm2',\n",
    "        'rcm_model': 'cccma_canrcm4',\n",
    "        'ensemble_member': 'r1i1p1',\n",
    "        'start_year': ['2071', '2076', '2081', '2086', '2091', '2096'],\n",
    "        'end_year': ['2075', '2080', '2085', '2090', '2095','2100'],\n",
    "        'format': 'zip',\n",
    "    },\n",
    "    './data/2071-2100_cordex_rcp_4_5_africa.zip')"
   ]
  },
  {
   "cell_type": "markdown",
   "metadata": {},
   "source": [
    "<hr>"
   ]
  },
  {
   "cell_type": "markdown",
   "metadata": {},
   "source": [
    "<p><img src='./img/copernicus_logo.png' align='right' alt='Logo EU Copernicus' width='20%'></img></p>\n",
    "<br><br><br><br><br>\n",
    "<span style='float:right'><p style=\\\"text-align:right;\\\">This project is licensed under <a href=\"./LICENSE\">APACHE License 2.0</a>. | <a href=\\\"https://github.com/ecmwf-projects/copernicus-training\">View on GitHub</a></span>"
   ]
  }
 ],
 "metadata": {
  "kernelspec": {
   "display_name": "Python 3",
   "language": "python",
   "name": "python3"
  },
  "language_info": {
   "codemirror_mode": {
    "name": "ipython",
    "version": 3
   },
   "file_extension": ".py",
   "mimetype": "text/x-python",
   "name": "python",
   "nbconvert_exporter": "python",
   "pygments_lexer": "ipython3",
   "version": "3.8.8"
  }
 },
 "nbformat": 4,
 "nbformat_minor": 4
}
