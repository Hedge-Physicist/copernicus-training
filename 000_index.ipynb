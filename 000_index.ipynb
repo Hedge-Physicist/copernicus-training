{
 "cells": [
  {
   "cell_type": "markdown",
   "metadata": {},
   "source": [
    "<img src='./img/header_placeholder.png' alt='Logo EU Copernicus ECMWF' align='right' width='100%'></img>"
   ]
  },
  {
   "cell_type": "markdown",
   "metadata": {},
   "source": [
    "<br>"
   ]
  },
  {
   "cell_type": "markdown",
   "metadata": {},
   "source": [
    "# Training on data from the Copernicus Climate Change (C3S) and Atmosphere Monitoring (CAMS) Services"
   ]
  },
  {
   "cell_type": "markdown",
   "metadata": {},
   "source": [
    "This repository hosts Jupyter notebook training material for the [Copernicus Climate Change Service (C3S)](https://climate.copernicus.eu/) and the [Copernicus Atmosphere Monitoring Service (CAMS)](https://atmosphere.copernicus.eu/). \n",
    "\n",
    "The training is designed for everyone who is interested in data from the two Copernicus services C3S and CAMS and has the following objectives:\n",
    "* to provide an `overview of C3S and CAMS datasets`\n",
    "* to showcase how data can be accessed via the [Climate Data Store (CDS)](https://cds.climate.copernicus.eu/cdsapp#!/home) and the [Atmosphere Data Store (ADS)](https://ads.atmosphere.copernicus.eu/#!/home), and\n",
    "* to offer `example applications` and `analysis workflows` for different data types"
   ]
  },
  {
   "cell_type": "markdown",
   "metadata": {},
   "source": [
    "## Overview"
   ]
  },
  {
   "cell_type": "markdown",
   "metadata": {},
   "source": [
    "* [Course outline](#outline)\n",
    "* [How to use these training modules](#howto)\n",
    "* [Reproduce the training environment locally](#reproduce)"
   ]
  },
  {
   "cell_type": "markdown",
   "metadata": {},
   "source": [
    "<hr>"
   ]
  },
  {
   "cell_type": "markdown",
   "metadata": {},
   "source": [
    "## <a id='outline'></a>Course outline"
   ]
  },
  {
   "cell_type": "markdown",
   "metadata": {},
   "source": [
    "The course is structured in two main parts and each part contains introduction and data overview notebooks as well as practical workflows:\n",
    "* [Training on data from the Copernicus Climate Change Service (C3S)](#c3s)\n",
    "* [Training on data from the Copernicus Atmosphere Monitoring Service (CAMS)](#cams)"
   ]
  },
  {
   "cell_type": "markdown",
   "metadata": {},
   "source": [
    "### <a id='c3s'></a> Training on Copernicus Climate Change Service (C3S) data"
   ]
  },
  {
   "cell_type": "markdown",
   "metadata": {},
   "source": [
    "#### Introduction and data overview notebooks\n",
    "* [100 - Climate Data Store - Introduction](./100_climate_data_store_intro.ipynb)\n",
    "* [101 - C3S data - Overview](./101_c3s_data_intro.ipynb)\n",
    "\n",
    "#### Analysis examples - Climate reanalysis data\n",
    "* [111 - Climate reanalysis - Climatologies and anomalies](./111_c3s_climatologies_anomalies.ipynb)\n",
    "* [112 - Climate reanalysis - Climate extremes](./112_c3s_climate_extremes.ipynb)\n",
    "* [113 - Climate reanalysis - Climate indices](./113_c3s_climate_indices.ipynb)\n",
    "\n",
    "#### Analysis examples - Seasonal forecasts\n",
    "* [121_- Seasonal forecasts - Anomalies](./121_c3s_seasonal_forecasts_anomalies.ipynb)\n",
    "* [122 - Seasonal forecasts - Bias correction](./122_c3s_seasonal_forecasts_bias_correction.ipynb)\n",
    "\n",
    "#### Analysis examples - Climate projections\n",
    "* [131 - CMIP6 Global climate projections](./131_c3s_cmip6_global_climate_projections.ipynb)\n",
    "* [132 - CORDEX Region climate projections](./122_c3s_cordex_regional_climate_projections.ipynb)"
   ]
  },
  {
   "cell_type": "markdown",
   "metadata": {},
   "source": [
    "### <a id='cams'></a> Training on Copernicus Atmosphere Monitoring Service (CAMS) data"
   ]
  },
  {
   "cell_type": "markdown",
   "metadata": {},
   "source": [
    "#### Introduction and data overview notebooks\n",
    "* [200 - Atmosphere Data Store - Introduction](./200_atmosphere_data_store_intro.ipynb)\n",
    "* [201 - CAMS data - Overview](./201_cams_data_intro.ipynb)\n",
    "\n",
    "#### Application examples\n",
    "* [211 - Fire monitoring](./211_cams_fire_monitoring.ipynb)\n",
    "* [212 - Dust monitoring](./212_cams_dust_monitoring.ipynb)"
   ]
  },
  {
   "cell_type": "markdown",
   "metadata": {},
   "source": [
    "<br>"
   ]
  },
  {
   "cell_type": "markdown",
   "metadata": {},
   "source": [
    "## <a id='howto'></a>How to use these training modules\n",
    "This training material is made freely available on the [ecmwf-projects](https://github.com/ecmwf-projects) Github space under a [Apache 2.0 license](./LICENSE). There are several ways how you can use these training modules:\n",
    "* [**nbviewer**](https://nbviewer.org/github/ecmwf-projects/copernicus-training/blob/dev/000_index.ipynb) - Static and good rendering of the notebooks\n",
    "* [**Colab**]()\n",
    "* [**Binder**]()\n",
    "* **Clone this repo** and run the notebooks on your local Jupyter notebook server. If you wish you let run the material locally, you can go to the next section, which describes how to reproduce the setup on your local machine."
   ]
  },
  {
   "cell_type": "markdown",
   "metadata": {},
   "source": [
    "<br>"
   ]
  },
  {
   "cell_type": "markdown",
   "metadata": {},
   "source": [
    "## <a id='reproduce'></a>Reproduce the training environment locally\n",
    "In case you wish to reproduce the course modules locally on your computer, you will require the following Python version and Python packages:\n",
    "* Python version: **Python3.8**\n",
    "* Python packages: see requirements.txt\n",
    "\n",
    "You can install the required Python packages with the following command in a terminal: `pip install -r requirements.txt`."
   ]
  },
  {
   "cell_type": "markdown",
   "metadata": {},
   "source": [
    "<hr>"
   ]
  },
  {
   "cell_type": "markdown",
   "metadata": {},
   "source": [
    "<p><img src='./img/copernicus_logo.png' align='right' alt='Logo EU Copernicus' width='20%'></img></p>\n",
    "<br><br><br><br>\n",
    "<span style='float:right'><p style=\\\"text-align:right;\\\">This project is licensed under <a href=\"./LICENSE\">APACHE License 2.0</a>. | <a href=\\\"https://github.com/ecmwf-projects/copernicus-training\">View on GitHub</a></span>"
   ]
  }
 ],
 "metadata": {
  "kernelspec": {
   "display_name": "Python 3",
   "language": "python",
   "name": "python3"
  },
  "language_info": {
   "codemirror_mode": {
    "name": "ipython",
    "version": 3
   },
   "file_extension": ".py",
   "mimetype": "text/x-python",
   "name": "python",
   "nbconvert_exporter": "python",
   "pygments_lexer": "ipython3",
   "version": "3.8.8"
  }
 },
 "nbformat": 4,
 "nbformat_minor": 4
}
