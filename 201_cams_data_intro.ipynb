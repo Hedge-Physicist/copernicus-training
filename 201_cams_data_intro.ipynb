{
 "cells": [
  {
   "cell_type": "markdown",
   "metadata": {},
   "source": [
    "<img src='./img/header_placeholder.png' alt='Logo EU Copernicus ECMWF' align='right' width='100%'></img>"
   ]
  },
  {
   "cell_type": "markdown",
   "metadata": {},
   "source": [
    "<br>"
   ]
  },
  {
   "cell_type": "markdown",
   "metadata": {},
   "source": [
    "# Copernicus Atmosphere Data Service (CAMS) - Data overview"
   ]
  },
  {
   "cell_type": "markdown",
   "metadata": {},
   "source": [
    "This notebook provides an introduction to the main data product types offered by the Copernicus Atmosphere Data Store. "
   ]
  },
  {
   "cell_type": "markdown",
   "metadata": {},
   "source": [
    "* [CAMS reanalyses](#reanalysis)\n",
    "* [CAMS forecasts and analysis](#forecasts)\n",
    "* [CAMS Global Fire Assimilation System (GFAS)](#gfas)\n",
    "* [CAMS Emission Inventory](#emissions)"
   ]
  },
  {
   "cell_type": "markdown",
   "metadata": {},
   "source": [
    "<hr>"
   ]
  },
  {
   "cell_type": "markdown",
   "metadata": {},
   "source": [
    "## <a id='reanalysis'></a>CAMS reanalyses"
   ]
  },
  {
   "cell_type": "markdown",
   "metadata": {},
   "source": [
    "* [CAMS Global reanalyses](#global_reanalyses)\n",
    "* [CAMS European air quality reanalyses](#european_reanalyses)"
   ]
  },
  {
   "cell_type": "markdown",
   "metadata": {},
   "source": [
    "### <a id='global_reanalyses'></a>CAMS Global reanalyses"
   ]
  },
  {
   "cell_type": "markdown",
   "metadata": {},
   "source": [
    "> **Spatial resolution:** regridded to a regular `lat-lon grid of 0.75° x 0.75°` <br>\n",
    "> **Temporal resolution:**  `sub-daily (3-hourly) and monthly aggregates`<br>\n",
    "> **Temporal coverage:** `from 2003 to 2020` <br>\n",
    "> **Update frequency:** `twice a year` with 4-6 month delay"
   ]
  },
  {
   "cell_type": "markdown",
   "metadata": {},
   "source": [
    "The CAMS reanalysis is the latest global reanalysis data set of atmospheric composition (AC) produced by the Copernicus Atmosphere Monitoring Service, consisting of 3-dimensional time-consistent AC fields, including aerosols, chemical species and greenhouse gases, through the separate CAMS global greenhouse gas reanalysis (EGG4).\n",
    "\n",
    "Generally, the data are available at a sub-daily and monthly frequency and consist of analyses and 48h forecasts, initialised daily from analyses at 00 UTC. Find [here](https://confluence.ecmwf.int/display/CKB/CAMS%3A+Reanalysis+data+documentation) the CAMS reanalysis data documentation."
   ]
  },
  {
   "cell_type": "markdown",
   "metadata": {},
   "source": [
    "* [CAMS global reanalysis (EAC4)](https://ads.atmosphere.copernicus.eu/cdsapp#!/dataset/cams-global-reanalysis-eac4)\n",
    "* [CAMS global reanalysis (EAC4) monthly averaged fields](https://ads.atmosphere.copernicus.eu/cdsapp#!/dataset/cams-global-reanalysis-eac4-monthly)\n"
   ]
  },
  {
   "cell_type": "markdown",
   "metadata": {},
   "source": [
    "#### Tutorials using CAMS Global reanalysis\n",
    "\n",
    "* $$$"
   ]
  },
  {
   "cell_type": "markdown",
   "metadata": {},
   "source": [
    "### <a id='european_reanalyses'></a>CAMS European air quality reanalyses"
   ]
  },
  {
   "cell_type": "markdown",
   "metadata": {},
   "source": [
    "> **Spatial resolution:** regridded to a regular `lat-lon grid of 0.1° x 0.1°` for Europe <br>\n",
    "> **Temporal resolution:**  `monthly files containing 1-hourly analyses`<br>\n",
    "> **Temporal coverage:** `2018` <br>\n",
    "> **Update frequency:** `twice a year`"
   ]
  },
  {
   "cell_type": "markdown",
   "metadata": {},
   "source": [
    "CAMS produces annual air quality (interim) reanalyses for the European domain at significantly higher spatial resolution (0.1 degrees, approx. 10km) than is available from the global reanalyses. This dataset provides annual air quality reanalyses for Europe based on both unvalidated (interim) and validated observations. An interim reanalysis is provided each year for the year before based on the unvalidated near-real-time observation data stream that has not undergone full quality control by the data providers yet. Once the fully quality-controlled observations are available from the data provider, typically with an additional delay of about 1 year, a final validated annual reanalysis is provided. Both reanalyses are available at hourly time steps at height levels. Find more information in the [CAMS European air quality reanalysis data documentation](https://confluence.ecmwf.int/display/CKB/CAMS+Regional%3A+European+air+quality+reanalyses+data+documentation)."
   ]
  },
  {
   "cell_type": "markdown",
   "metadata": {},
   "source": [
    "* [CAMS European air quality reanalyses)](https://ads.atmosphere.copernicus.eu/cdsapp#!/dataset/cams-europe-air-quality-reanalyses?tab=overview)\n"
   ]
  },
  {
   "cell_type": "markdown",
   "metadata": {},
   "source": [
    "#### Tutorials using CAMS European air quality reanalyses\n",
    "\n",
    "* $$$"
   ]
  },
  {
   "cell_type": "markdown",
   "metadata": {},
   "source": [
    "<br>"
   ]
  },
  {
   "cell_type": "markdown",
   "metadata": {},
   "source": [
    "## <a id='forecasts'></a> CAMS forecasts and analysis"
   ]
  },
  {
   "cell_type": "markdown",
   "metadata": {},
   "source": [
    "* [CAMS global atmospheric composition forecasts and analysis](#global_forecasts)\n",
    "* [CAMS European air quality forecasts and analysis](#european_forecasts)"
   ]
  },
  {
   "cell_type": "markdown",
   "metadata": {},
   "source": [
    "### <a id='global_forecasts'></a>CAMS global atmospheric composition forecasts and analysis"
   ]
  },
  {
   "cell_type": "markdown",
   "metadata": {},
   "source": [
    "> **Spatial resolution:** regridded to a regular `lat-lon grid of 0.4° x 0.4°` <br>\n",
    "> **Temporal resolution:**  `1-hourly (single level)`, `3-hourly (multi-level)`<br>\n",
    "> **Temporal coverage:** `2015 to present` <br>\n",
    "> **Update frequency:** New `00UTC and 12 UTC forecasts` added each day"
   ]
  },
  {
   "cell_type": "markdown",
   "metadata": {},
   "source": [
    "CAMS produces global forecasts for atmospheric composition twice a day. The forecasts consist of more than 50 chemical species (e.g. ozone, nitrogen dioxide, carbon dioxide) and seven different types of aerosol (desert dust, sea salt, organic matter, black carbon, sulphate, nitrate and ammonium aerosol). In addition, several meteorological variables are available as well. Find more information about the CAMS forecasting system in the [CAMS global forecast data documentation](https://confluence.ecmwf.int/display/CKB/CAMS%3A+Global+atmospheric+composition+forecast+data+documentation)."
   ]
  },
  {
   "cell_type": "markdown",
   "metadata": {},
   "source": [
    "* [CAMS global atmospheric composition forecasts](https://ads.atmosphere.copernicus.eu/cdsapp#!/dataset/cams-global-atmospheric-composition-forecasts)"
   ]
  },
  {
   "cell_type": "markdown",
   "metadata": {},
   "source": [
    "#### Tutorials using CAMS global atmospheric composition forecasts\n",
    "\n",
    "* $$$"
   ]
  },
  {
   "cell_type": "markdown",
   "metadata": {},
   "source": [
    "### <a id='european_forecasts'></a>CAMS European air quality forecasts and analysis"
   ]
  },
  {
   "cell_type": "markdown",
   "metadata": {},
   "source": [
    "> **Spatial resolution:** regridded to a regular `lat-lon grid of 0.1° x 0.1°` <br>\n",
    "> **Temporal resolution:**  `1-hourly`<br>\n",
    "> **Temporal coverage:** `three year rolling archive` <br>\n",
    "> **Update frequency:** `daily`"
   ]
  },
  {
   "cell_type": "markdown",
   "metadata": {},
   "source": [
    "CAMS produces specific daily air quality analyses and forecasts for the European domain at significantly higher spatial resolution (0.1 degrees, approx. 10km) than is available from the global analyses and forecasts. The production is based on an ensemble of nine air quality forecasting systems across Europe. A median ensemble is calculated from individual outputs, since ensemble products yield on average better performance than the individual model products. air quality forecasts are produced once a day for the next four days. Both the analysis and the forecast are available at hourly time steps at seven height levels. Find more information in the [European air quality forecasts and analysis documentation](https://confluence.ecmwf.int/display/CKB/CAMS+Regional%3A+European+air+quality+analysis+and+forecast+data+documentation).\n",
    "\n",
    "**Note**: only nitrogen monoxide, nitrogen dioxide, sulphur dioxide, ozone, PM2.5, PM10 and dust are regularly validated against in situ observations, and therefore forecasts of all other variables are unvalidated and should be considered experimental."
   ]
  },
  {
   "cell_type": "markdown",
   "metadata": {},
   "source": [
    "* [CAMS European air quality forecasts](https://ads.atmosphere.copernicus.eu/cdsapp#!/dataset/cams-europe-air-quality-forecasts)"
   ]
  },
  {
   "cell_type": "markdown",
   "metadata": {},
   "source": [
    "#### Tutorials using CAMS European air quality forecasts\n",
    "\n",
    "* $$$"
   ]
  },
  {
   "cell_type": "markdown",
   "metadata": {},
   "source": [
    "<br>"
   ]
  },
  {
   "cell_type": "markdown",
   "metadata": {},
   "source": [
    "## <a id='gfas'></a>CAMS Global Fire Assimilation System (GFAS)"
   ]
  },
  {
   "cell_type": "markdown",
   "metadata": {},
   "source": [
    "> **Spatial resolution:** regridded to a regular `lat-lon grid of 0.1° x 0.1°` <br>\n",
    "> **Temporal resolution:**  `daily`<br>\n",
    "> **Temporal coverage:** `2003 to present`"
   ]
  },
  {
   "cell_type": "markdown",
   "metadata": {},
   "source": [
    "The Global Fire Assimilation System (GFAS) assimilates fire radiative power (FRP) observations from satellite-based sensors to produce daily estimates of emissions from wildfires and biomass burning. FRP is a measure of the energy released by the fire and is therefore a measure of how much vegetation is burned. FRP observations currently assimilated in GFAS are the NASA Terra MODIS and Aqua MODIS active fire products Data are available globally on a regular lat-lon grid with horizontal resolution of 0.1 degrees from 2003 to present. \n",
    "\n",
    "Find more information in the [Global Fire Assimilation System (GFAS) data documentation](https://confluence.ecmwf.int/display/CKB/CAMS%3A+Global+Fire+Assimilation+System+%28GFAS%29+data+documentation).\n"
   ]
  },
  {
   "cell_type": "markdown",
   "metadata": {},
   "source": [
    "* CAMS Global Fire Assimilation System (GFAS)"
   ]
  },
  {
   "cell_type": "markdown",
   "metadata": {},
   "source": [
    "#### Tutorials using CAMS Global Fire Assimilation System (GFAS)\n",
    "\n",
    "* $$$"
   ]
  },
  {
   "cell_type": "markdown",
   "metadata": {},
   "source": [
    "<br>"
   ]
  },
  {
   "cell_type": "markdown",
   "metadata": {},
   "source": [
    "## CAMS Emission inventory"
   ]
  },
  {
   "cell_type": "markdown",
   "metadata": {},
   "source": [
    "> **Spatial resolution:** `anthropogenic: 0.1° x 0.1°`, `biogenic/shipping: 0.25° x 0.25°`, `aviation/oceanic/soil/termite: 0.5° x 0.5°` <br>\n",
    "> **Temporal resolution:**  `Monthly`<br>\n",
    "> **Temporal coverage:** `anthropogenic: 2000-2020`, `aviation: 2000-2020`, `biogenic/oceanic/shipping: 2000-2018`, `soil: 2000-2015`, `termite: 2000` <br>\n",
    "> **Update frequency:** `once or twice a year`"
   ]
  },
  {
   "cell_type": "markdown",
   "metadata": {},
   "source": [
    "CAMS provides gridded distributions of European and global anthropogenic emissions, as well as global natural emissions, which are all used as input for the CAMS regional and global production chains. The CAMS emissions are also available as stand-alone products.\n",
    "\n",
    "Natural and anthropogenic emissions of atmospheric pollutants and greenhouse gases are key drivers of the evolution of the composition of the atmosphere, so an accurate representation of them in forecast models of atmospheric composition is essential. CAMS compiles inventories of emission data that serve as input to its own forecast models, but which can also be used by other atmospheric chemical transport models. These inventories are based on a combination of existing data sets and new information, describing anthropogenic emissions from fossil fuel use on land, shipping, and aviation, and natural emissions from vegetation, soil, the ocean and termites. The anthropogenic emissions on land are further separated in specific activity sectors (e.g., power generation, road traffic, industry). \n",
    "\n",
    "Find [here](https://atmosphere.copernicus.eu/anthropogenic-and-natural-emissions) more information about anthropogenic and natural emissions.\n"
   ]
  },
  {
   "cell_type": "markdown",
   "metadata": {},
   "source": [
    "* [CAMS global emission inventories](https://ads.atmosphere.copernicus.eu/cdsapp#!/dataset/cams-global-emission-inventories)"
   ]
  },
  {
   "cell_type": "markdown",
   "metadata": {},
   "source": [
    "<hr>"
   ]
  },
  {
   "cell_type": "markdown",
   "metadata": {},
   "source": [
    "<p><img src='./img/copernicus_logo.png' align='right' alt='Logo EU Copernicus' width='20%'></img></p>\n",
    "<br><br><br><br>\n",
    "<span style='float:right'><p style=\\\"text-align:right;\\\">This project is licensed under <a href=\"./LICENSE\">APACHE License 2.0</a>. | <a href=\\\"https://github.com/ecmwf-projects/copernicus-training\">View on GitHub</a></span>"
   ]
  }
 ],
 "metadata": {
  "kernelspec": {
   "display_name": "Python 3",
   "language": "python",
   "name": "python3"
  },
  "language_info": {
   "codemirror_mode": {
    "name": "ipython",
    "version": 3
   },
   "file_extension": ".py",
   "mimetype": "text/x-python",
   "name": "python",
   "nbconvert_exporter": "python",
   "pygments_lexer": "ipython3",
   "version": "3.8.8"
  }
 },
 "nbformat": 4,
 "nbformat_minor": 4
}
